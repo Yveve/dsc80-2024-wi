{
 "cells": [
  {
   "cell_type": "code",
   "execution_count": 1,
   "id": "8c8a44b8",
   "metadata": {
    "slideshow": {
     "slide_type": "skip"
    }
   },
   "outputs": [],
   "source": [
    "from dsc80_utils import *"
   ]
  },
  {
   "cell_type": "markdown",
   "id": "ce9e66d9",
   "metadata": {
    "slideshow": {
     "slide_type": "slide"
    }
   },
   "source": [
    "<div class=\"alert alert-info\">\n",
    "    <b>This notebook contains code (e.g. the answers to exercises) that was written live during Lecture 5. If you haven't already watched and work through this lecture, you might find it more beneficial to look at the \"blank\" version of this lecture and answer the exercises yourself.</b>\n",
    "</div>\n",
    "\n",
    "# Lecture 5 – Exploratory Data Analysis and Data Cleaning\n",
    "\n",
    "## DSC 80, Winter 2024"
   ]
  },
  {
   "cell_type": "markdown",
   "id": "22824200",
   "metadata": {
    "slideshow": {
     "slide_type": "slide"
    }
   },
   "source": [
    "### Announcements 📣\n",
    "\n",
    "- Project 1 is due on **Saturday, January 27th**.\n",
    "- Lab 3 will be released tonight and will be due on **Monday, January 29th**.\n",
    "- If you submitted Lab 2, make sure to attend discussion tomorrow and submit the reflection form on Gradescope by **this Thursday** for extra credit!\n",
    "    - Plans for discussion tomorrow, in addition to lab review: the difference between `int` and `np.int64`, a review of the various DataFrameGroupBy methods (`agg`, `transform`, `filter`, `apply`)."
   ]
  },
  {
   "cell_type": "markdown",
   "id": "bd851d5b",
   "metadata": {
    "slideshow": {
     "slide_type": "slide"
    }
   },
   "source": [
    "### Agenda 📆\n",
    "\n",
    "- Other data representations.\n",
    "- Dataset overview.\n",
    "- Introduction to `plotly`.\n",
    "- Exploratory data analysis and feature types.\n",
    "- Data cleaning.\n",
    "    - Data quality checks.\n",
    "    - Missing values.\n",
    "    - Transformations and timestamps.\n",
    "    - Modifying structure.\n",
    "- Investigating student-submitted questions!"
   ]
  },
  {
   "cell_type": "markdown",
   "id": "fa56a0ec",
   "metadata": {
    "slideshow": {
     "slide_type": "slide"
    }
   },
   "source": [
    "<div class=\"alert alert-warning\">\n",
    "    <h3>Question 🤔 (Answer at <a href=\"https://q.dsc80.com\">q.dsc80.com)</h3>\n",
    "</div>\n",
    "    \n",
    "Remember, you can always ask questions at [**q.dsc80.com**](https://q.dsc80.com)! If the link doesn't work for you, click the [**🤔 Lecture Questions**](https://docs.google.com/forms/d/e/1FAIpQLScWbVZv9hBv-wX-ItKHUVRnkPMMtfJZVfErKE9GS7_8dFcRBQ/viewform) link in the top right corner of the course website.\n",
    "   "
   ]
  },
  {
   "cell_type": "markdown",
   "id": "5b989f24",
   "metadata": {
    "slideshow": {
     "slide_type": "slide"
    }
   },
   "source": [
    "## Other data representations"
   ]
  },
  {
   "cell_type": "markdown",
   "id": "62f289f4",
   "metadata": {
    "slideshow": {
     "slide_type": "slide"
    }
   },
   "source": [
    "### Representations of tabular data"
   ]
  },
  {
   "cell_type": "markdown",
   "id": "bb5129a7",
   "metadata": {
    "slideshow": {
     "slide_type": "fragment"
    }
   },
   "source": [
    "- In DSC 80, we work with DataFrames in `pandas`.\n",
    "    - When we say `pandas` DataFrame, we're talking about the `pandas` API for its DataFrame objects.\n",
    "        - API stands for \"application programming interface.\" We'll learn about these more soon.\n",
    "    - When we say \"DataFrame\", we're referring to a general way to represent data (rows and columns, with labels for both rows and columns)."
   ]
  },
  {
   "cell_type": "markdown",
   "id": "bc0854bc",
   "metadata": {
    "slideshow": {
     "slide_type": "fragment"
    }
   },
   "source": [
    "- There many other ways to work with data tables! \n",
    "    - Examples: R data frames, SQL databases, spreadsheets, or even matrices from linear algebra.\n",
    "    - When you learn SQL in DSC 100, you'll find many similaries (e.g. slicing columns, filtering rows, grouping, joining, etc.).\n",
    "    - **Relational algebra** captures common data operations between many data table systems."
   ]
  },
  {
   "cell_type": "markdown",
   "id": "0256850e",
   "metadata": {
    "slideshow": {
     "slide_type": "fragment"
    }
   },
   "source": [
    "- Why use DataFrames over something else?"
   ]
  },
  {
   "cell_type": "markdown",
   "id": "2e3f5cb6",
   "metadata": {
    "slideshow": {
     "slide_type": "slide"
    }
   },
   "source": [
    "### DataFrames vs. spreadsheets\n",
    "\n",
    "- DataFrames give us a **data lineage**: the code records down data changes. Not so in spreadsheets!\n",
    "- Using a general-purpose programming language gives us the ability to handle much larger datasets, and we can use distributed computing systems to handle massive datasets."
   ]
  },
  {
   "cell_type": "markdown",
   "id": "91460c02",
   "metadata": {
    "slideshow": {
     "slide_type": "slide"
    }
   },
   "source": [
    "### DataFrames vs. matrices\n",
    "\n",
    "\\begin{split}\n",
    "\\begin{aligned}\n",
    "\\mathbf{X} = \\begin{bmatrix}\n",
    "1 & 0 \\\\\n",
    "0 & 4 \\\\\n",
    "0 & 0 \\\\\n",
    "\\end{bmatrix}\n",
    "\\end{aligned}\n",
    "\\end{split}\n",
    "\n",
    "- Matrices are mathematical objects. They only hold numbers, but have many useful properties (which you've learned about in your linear algebra class, Math 18).\n",
    "- Often, we process data from a DataFrame into matrix format for machine learning models. You saw this a bit in DSC 40A, and we'll see this more in DSC 80 in a few weeks."
   ]
  },
  {
   "cell_type": "markdown",
   "id": "6d2a834c",
   "metadata": {
    "slideshow": {
     "slide_type": "slide"
    }
   },
   "source": [
    "### DataFrames vs. relations\n",
    "\n",
    "- Relations are the data representation for relational database systems (e.g. MySQL, PostgreSQL, etc.).\n",
    "- You'll learn all about these in DSC 100.\n",
    "- Database systems are much better than DataFrames at storing **many** data tables and handling concurrency (many people reading and writing data at the same time).\n",
    "- Common workflow: load a subset of data in from a database system into `pandas`, then make a plot.\n",
    "- Or: load and clean data in `pandas`, then store it in a database system for others to use."
   ]
  },
  {
   "cell_type": "markdown",
   "id": "f9ed6c3a",
   "metadata": {
    "slideshow": {
     "slide_type": "slide"
    }
   },
   "source": [
    "## Dataset overview"
   ]
  },
  {
   "cell_type": "markdown",
   "id": "32f5d3b4",
   "metadata": {
    "slideshow": {
     "slide_type": "slide"
    }
   },
   "source": [
    "### San Diego food safety\n",
    "\n",
    "From [this article](https://inewsource.org/2023/02/09/san-diego-restaurants-food-safety-violations/) ([archive link](https://archive.ph/gz8BL)):\n",
    "\n",
    "> In the last three years, one third of San Diego County restaurants have had at least one major food safety violation."
   ]
  },
  {
   "cell_type": "markdown",
   "id": "353a6782",
   "metadata": {
    "slideshow": {
     "slide_type": "slide"
    }
   },
   "source": [
    "### 99% Of San Diego Restaurants Earn ‘A' Grades, Bringing Usefulness of System Into Question\n",
    "\n",
    "From [this article](https://www.nbcsandiego.com/news/local/99-of-san-diego-restaurants-earn-a-grades-bringing-usefulness-of-system-into-question/25381/) ([archive link](https://archive.ph/yB6RU)):\n",
    "\n",
    "> Food held at unsafe temperatures. Employees not washing their hands. Dirty countertops. Vermin in the kitchen. An expired restaurant permit.\n",
    "> \n",
    "> Restaurant inspectors for San Diego County found these violations during a routine health inspection of a diner in La Mesa in November 2016. Despite the violations, the restaurant was awarded a score of 90 out of 100, the lowest possible score to achieve an ‘A’ grade."
   ]
  },
  {
   "cell_type": "markdown",
   "id": "4ac10042",
   "metadata": {
    "slideshow": {
     "slide_type": "slide"
    }
   },
   "source": [
    "### The data\n",
    "\n",
    "- We downloaded the data about the 1000 restaurants closest to UCSD from [here](https://www.sandiegocounty.gov/content/sdc/deh/fhd/ffis/intro.html.html).\n",
    "- We had to download the data as JSON files, then process it into DataFrames. You'll learn how to do this soon!\n",
    "    - Until now, you've (largely) been presented with CSV files that `pd.read_csv` could load without any issues.\n",
    "    - But there are many different formats and possible issues when loading data in from files.\n",
    "    - See [Chapter 8 of Learning DS](https://learningds.org/ch/08/files_intro.html) for more."
   ]
  },
  {
   "cell_type": "code",
   "execution_count": 2,
   "id": "3144390f",
   "metadata": {},
   "outputs": [],
   "source": [
    "rest_path = Path('data') / 'restaurants.csv'\n",
    "insp_path = Path('data') / 'inspections.csv'\n",
    "viol_path = Path('data') / 'violations.csv'"
   ]
  },
  {
   "cell_type": "code",
   "execution_count": 3,
   "id": "4497b903",
   "metadata": {},
   "outputs": [],
   "source": [
    "rest = pd.read_csv(rest_path)\n",
    "insp = pd.read_csv(insp_path)\n",
    "viol = pd.read_csv(viol_path)"
   ]
  },
  {
   "cell_type": "markdown",
   "id": "57983d32",
   "metadata": {
    "slideshow": {
     "slide_type": "slide"
    }
   },
   "source": [
    "<div class=\"alert alert-success\">\n",
    "    <h3>Exercise</h3>\n",
    "    The first article said that one third of restaurants had at least one major safety violation.<br>\n",
    "    Which DataFrames and columns seem most useful to verify this?\n",
    "</div>"
   ]
  },
  {
   "cell_type": "code",
   "execution_count": 4,
   "id": "2f8367ec",
   "metadata": {},
   "outputs": [
    {
     "data": {
      "text/html": [
       "<div>\n",
       "<style scoped>\n",
       "    .dataframe tbody tr th:only-of-type {\n",
       "        vertical-align: middle;\n",
       "    }\n",
       "\n",
       "    .dataframe tbody tr th {\n",
       "        vertical-align: top;\n",
       "    }\n",
       "\n",
       "    .dataframe thead th {\n",
       "        text-align: right;\n",
       "    }\n",
       "</style>\n",
       "<table border=\"1\" class=\"dataframe\">\n",
       "  <thead>\n",
       "    <tr style=\"text-align: right;\">\n",
       "      <th></th>\n",
       "      <th>business_id</th>\n",
       "      <th>name</th>\n",
       "      <th>business_type</th>\n",
       "      <th>address</th>\n",
       "      <th>...</th>\n",
       "      <th>lat</th>\n",
       "      <th>long</th>\n",
       "      <th>opened_date</th>\n",
       "      <th>distance</th>\n",
       "    </tr>\n",
       "  </thead>\n",
       "  <tbody>\n",
       "    <tr>\n",
       "      <th>0</th>\n",
       "      <td>211898487641</td>\n",
       "      <td>MOBIL MART LA JOLLA VILLAGE</td>\n",
       "      <td>Pre-Packaged Retail Market</td>\n",
       "      <td>3233 LA JOLLA VILLAGE DR, LA JOLLA, CA 92037</td>\n",
       "      <td>...</td>\n",
       "      <td>32.87</td>\n",
       "      <td>-117.23</td>\n",
       "      <td>2002-05-05</td>\n",
       "      <td>0.62</td>\n",
       "    </tr>\n",
       "    <tr>\n",
       "      <th>1</th>\n",
       "      <td>211930769329</td>\n",
       "      <td>CAFE 477</td>\n",
       "      <td>Low Risk Food Facility</td>\n",
       "      <td>8950 VILLA LA JOLLA DR, SUITE# B123, LA JOLLA,...</td>\n",
       "      <td>...</td>\n",
       "      <td>32.87</td>\n",
       "      <td>-117.24</td>\n",
       "      <td>2023-07-24</td>\n",
       "      <td>0.64</td>\n",
       "    </tr>\n",
       "    <tr>\n",
       "      <th>2</th>\n",
       "      <td>211909057778</td>\n",
       "      <td>VALLEY FARM MARKET</td>\n",
       "      <td>Retail Market with Deli</td>\n",
       "      <td>6902 LA JOLLA BLVD, LA JOLLA, CA 92037</td>\n",
       "      <td>...</td>\n",
       "      <td>32.87</td>\n",
       "      <td>-117.24</td>\n",
       "      <td>2019-01-22</td>\n",
       "      <td>0.64</td>\n",
       "    </tr>\n",
       "    <tr>\n",
       "      <th>...</th>\n",
       "      <td>...</td>\n",
       "      <td>...</td>\n",
       "      <td>...</td>\n",
       "      <td>...</td>\n",
       "      <td>...</td>\n",
       "      <td>...</td>\n",
       "      <td>...</td>\n",
       "      <td>...</td>\n",
       "      <td>...</td>\n",
       "    </tr>\n",
       "    <tr>\n",
       "      <th>997</th>\n",
       "      <td>211899338714</td>\n",
       "      <td>PACIFIC BEACH ELEMENTARY</td>\n",
       "      <td>School Processing Food Facility</td>\n",
       "      <td>1234 TOURMALINE ST, SAN DIEGO, CA 92109-1856</td>\n",
       "      <td>...</td>\n",
       "      <td>32.81</td>\n",
       "      <td>-117.25</td>\n",
       "      <td>2002-05-05</td>\n",
       "      <td>4.97</td>\n",
       "    </tr>\n",
       "    <tr>\n",
       "      <th>998</th>\n",
       "      <td>211942150255</td>\n",
       "      <td>POKEWAN DEL MAR</td>\n",
       "      <td>Restaurant Food Facility</td>\n",
       "      <td>12925 EL CAMINO REAL, SUITE# AA4, SAN DIEGO, C...</td>\n",
       "      <td>...</td>\n",
       "      <td>32.95</td>\n",
       "      <td>-117.23</td>\n",
       "      <td>2016-11-03</td>\n",
       "      <td>4.97</td>\n",
       "    </tr>\n",
       "    <tr>\n",
       "      <th>999</th>\n",
       "      <td>211925713322</td>\n",
       "      <td>SAFFRONO LOUNGE RESTAURANT</td>\n",
       "      <td>Restaurant Food Facility</td>\n",
       "      <td>2672 DEL MAR HEIGHTS RD, DEL MAR, CA 92014</td>\n",
       "      <td>...</td>\n",
       "      <td>32.95</td>\n",
       "      <td>-117.25</td>\n",
       "      <td>2022-11-03</td>\n",
       "      <td>4.97</td>\n",
       "    </tr>\n",
       "  </tbody>\n",
       "</table>\n",
       "<p>1000 rows × 12 columns</p>\n",
       "</div>"
      ],
      "text/plain": [
       "      business_id                         name  \\\n",
       "0    211898487641  MOBIL MART LA JOLLA VILLAGE   \n",
       "1    211930769329                     CAFE 477   \n",
       "2    211909057778           VALLEY FARM MARKET   \n",
       "..            ...                          ...   \n",
       "997  211899338714     PACIFIC BEACH ELEMENTARY   \n",
       "998  211942150255              POKEWAN DEL MAR   \n",
       "999  211925713322   SAFFRONO LOUNGE RESTAURANT   \n",
       "\n",
       "                       business_type  \\\n",
       "0         Pre-Packaged Retail Market   \n",
       "1             Low Risk Food Facility   \n",
       "2            Retail Market with Deli   \n",
       "..                               ...   \n",
       "997  School Processing Food Facility   \n",
       "998         Restaurant Food Facility   \n",
       "999         Restaurant Food Facility   \n",
       "\n",
       "                                               address  ...    lat    long  \\\n",
       "0         3233 LA JOLLA VILLAGE DR, LA JOLLA, CA 92037  ...  32.87 -117.23   \n",
       "1    8950 VILLA LA JOLLA DR, SUITE# B123, LA JOLLA,...  ...  32.87 -117.24   \n",
       "2               6902 LA JOLLA BLVD, LA JOLLA, CA 92037  ...  32.87 -117.24   \n",
       "..                                                 ...  ...    ...     ...   \n",
       "997       1234 TOURMALINE ST, SAN DIEGO, CA 92109-1856  ...  32.81 -117.25   \n",
       "998  12925 EL CAMINO REAL, SUITE# AA4, SAN DIEGO, C...  ...  32.95 -117.23   \n",
       "999         2672 DEL MAR HEIGHTS RD, DEL MAR, CA 92014  ...  32.95 -117.25   \n",
       "\n",
       "    opened_date distance  \n",
       "0    2002-05-05     0.62  \n",
       "1    2023-07-24     0.64  \n",
       "2    2019-01-22     0.64  \n",
       "..          ...      ...  \n",
       "997  2002-05-05     4.97  \n",
       "998  2016-11-03     4.97  \n",
       "999  2022-11-03     4.97  \n",
       "\n",
       "[1000 rows x 12 columns]"
      ]
     },
     "execution_count": 4,
     "metadata": {},
     "output_type": "execute_result"
    }
   ],
   "source": [
    "rest"
   ]
  },
  {
   "cell_type": "code",
   "execution_count": 5,
   "id": "0422fe17",
   "metadata": {},
   "outputs": [
    {
     "data": {
      "text/plain": [
       "Index(['business_id', 'name', 'business_type', 'address', 'city', 'zip',\n",
       "       'phone', 'status', 'lat', 'long', 'opened_date', 'distance'],\n",
       "      dtype='object')"
      ]
     },
     "execution_count": 5,
     "metadata": {},
     "output_type": "execute_result"
    }
   ],
   "source": [
    "rest.columns"
   ]
  },
  {
   "cell_type": "code",
   "execution_count": 6,
   "id": "5005c15a",
   "metadata": {},
   "outputs": [
    {
     "data": {
      "text/html": [
       "<div>\n",
       "<style scoped>\n",
       "    .dataframe tbody tr th:only-of-type {\n",
       "        vertical-align: middle;\n",
       "    }\n",
       "\n",
       "    .dataframe tbody tr th {\n",
       "        vertical-align: top;\n",
       "    }\n",
       "\n",
       "    .dataframe thead th {\n",
       "        text-align: right;\n",
       "    }\n",
       "</style>\n",
       "<table border=\"1\" class=\"dataframe\">\n",
       "  <thead>\n",
       "    <tr style=\"text-align: right;\">\n",
       "      <th></th>\n",
       "      <th>custom_id</th>\n",
       "      <th>business_id</th>\n",
       "      <th>inspection_id</th>\n",
       "      <th>description</th>\n",
       "      <th>...</th>\n",
       "      <th>completed_date</th>\n",
       "      <th>status</th>\n",
       "      <th>link</th>\n",
       "      <th>status_link</th>\n",
       "    </tr>\n",
       "  </thead>\n",
       "  <tbody>\n",
       "    <tr>\n",
       "      <th>0</th>\n",
       "      <td>DEH2002-FFPN-310012</td>\n",
       "      <td>211898487641</td>\n",
       "      <td>6886133</td>\n",
       "      <td>NaN</td>\n",
       "      <td>...</td>\n",
       "      <td>2023-02-16</td>\n",
       "      <td>Complete</td>\n",
       "      <td>http://www.sandiegocounty.gov/deh/fhd/ffis/ins...</td>\n",
       "      <td>http://www.sandiegocounty.gov/deh/fhd/ffis/ins...</td>\n",
       "    </tr>\n",
       "    <tr>\n",
       "      <th>1</th>\n",
       "      <td>DEH2002-FFPN-310012</td>\n",
       "      <td>211898487641</td>\n",
       "      <td>6631228</td>\n",
       "      <td>NaN</td>\n",
       "      <td>...</td>\n",
       "      <td>2022-01-03</td>\n",
       "      <td>Complete</td>\n",
       "      <td>http://www.sandiegocounty.gov/deh/fhd/ffis/ins...</td>\n",
       "      <td>http://www.sandiegocounty.gov/deh/fhd/ffis/ins...</td>\n",
       "    </tr>\n",
       "    <tr>\n",
       "      <th>2</th>\n",
       "      <td>DEH2002-FFPN-310012</td>\n",
       "      <td>211898487641</td>\n",
       "      <td>6357338</td>\n",
       "      <td>NaN</td>\n",
       "      <td>...</td>\n",
       "      <td>2020-12-03</td>\n",
       "      <td>Complete</td>\n",
       "      <td>http://www.sandiegocounty.gov/deh/fhd/ffis/ins...</td>\n",
       "      <td>http://www.sandiegocounty.gov/deh/fhd/ffis/ins...</td>\n",
       "    </tr>\n",
       "    <tr>\n",
       "      <th>3</th>\n",
       "      <td>DEH2023-FFPP-016887</td>\n",
       "      <td>211930769329</td>\n",
       "      <td>7329834</td>\n",
       "      <td>NaN</td>\n",
       "      <td>...</td>\n",
       "      <td>2023-09-20</td>\n",
       "      <td>Complete</td>\n",
       "      <td>http://www.sandiegocounty.gov/deh/fhd/ffis/ins...</td>\n",
       "      <td>http://www.sandiegocounty.gov/deh/fhd/ffis/ins...</td>\n",
       "    </tr>\n",
       "    <tr>\n",
       "      <th>4</th>\n",
       "      <td>DEH2019-FFPP-010654</td>\n",
       "      <td>211909057778</td>\n",
       "      <td>7233091</td>\n",
       "      <td>NaN</td>\n",
       "      <td>...</td>\n",
       "      <td>2023-05-26</td>\n",
       "      <td>Complete</td>\n",
       "      <td>http://www.sandiegocounty.gov/deh/fhd/ffis/ins...</td>\n",
       "      <td>http://www.sandiegocounty.gov/deh/fhd/ffis/ins...</td>\n",
       "    </tr>\n",
       "  </tbody>\n",
       "</table>\n",
       "<p>5 rows × 11 columns</p>\n",
       "</div>"
      ],
      "text/plain": [
       "             custom_id   business_id  inspection_id  description  ...  \\\n",
       "0  DEH2002-FFPN-310012  211898487641        6886133          NaN  ...   \n",
       "1  DEH2002-FFPN-310012  211898487641        6631228          NaN  ...   \n",
       "2  DEH2002-FFPN-310012  211898487641        6357338          NaN  ...   \n",
       "3  DEH2023-FFPP-016887  211930769329        7329834          NaN  ...   \n",
       "4  DEH2019-FFPP-010654  211909057778        7233091          NaN  ...   \n",
       "\n",
       "  completed_date    status                                               link  \\\n",
       "0     2023-02-16  Complete  http://www.sandiegocounty.gov/deh/fhd/ffis/ins...   \n",
       "1     2022-01-03  Complete  http://www.sandiegocounty.gov/deh/fhd/ffis/ins...   \n",
       "2     2020-12-03  Complete  http://www.sandiegocounty.gov/deh/fhd/ffis/ins...   \n",
       "3     2023-09-20  Complete  http://www.sandiegocounty.gov/deh/fhd/ffis/ins...   \n",
       "4     2023-05-26  Complete  http://www.sandiegocounty.gov/deh/fhd/ffis/ins...   \n",
       "\n",
       "                                         status_link  \n",
       "0  http://www.sandiegocounty.gov/deh/fhd/ffis/ins...  \n",
       "1  http://www.sandiegocounty.gov/deh/fhd/ffis/ins...  \n",
       "2  http://www.sandiegocounty.gov/deh/fhd/ffis/ins...  \n",
       "3  http://www.sandiegocounty.gov/deh/fhd/ffis/ins...  \n",
       "4  http://www.sandiegocounty.gov/deh/fhd/ffis/ins...  \n",
       "\n",
       "[5 rows x 11 columns]"
      ]
     },
     "execution_count": 6,
     "metadata": {},
     "output_type": "execute_result"
    }
   ],
   "source": [
    "insp.head()"
   ]
  },
  {
   "cell_type": "code",
   "execution_count": 7,
   "id": "fb951ceb",
   "metadata": {},
   "outputs": [
    {
     "data": {
      "text/plain": [
       "Index(['custom_id', 'business_id', 'inspection_id', 'description', 'type',\n",
       "       'score', 'grade', 'completed_date', 'status', 'link', 'status_link'],\n",
       "      dtype='object')"
      ]
     },
     "execution_count": 7,
     "metadata": {},
     "output_type": "execute_result"
    }
   ],
   "source": [
    "insp.columns"
   ]
  },
  {
   "cell_type": "code",
   "execution_count": 8,
   "id": "ccf62cbf",
   "metadata": {},
   "outputs": [
    {
     "data": {
      "text/html": [
       "<div>\n",
       "<style scoped>\n",
       "    .dataframe tbody tr th:only-of-type {\n",
       "        vertical-align: middle;\n",
       "    }\n",
       "\n",
       "    .dataframe tbody tr th {\n",
       "        vertical-align: top;\n",
       "    }\n",
       "\n",
       "    .dataframe thead th {\n",
       "        text-align: right;\n",
       "    }\n",
       "</style>\n",
       "<table border=\"1\" class=\"dataframe\">\n",
       "  <thead>\n",
       "    <tr style=\"text-align: right;\">\n",
       "      <th></th>\n",
       "      <th>inspection_id</th>\n",
       "      <th>violation</th>\n",
       "      <th>major_violation</th>\n",
       "      <th>status</th>\n",
       "      <th>violation_text</th>\n",
       "      <th>correction_type_link</th>\n",
       "      <th>violation_accela</th>\n",
       "      <th>link</th>\n",
       "    </tr>\n",
       "  </thead>\n",
       "  <tbody>\n",
       "    <tr>\n",
       "      <th>0</th>\n",
       "      <td>6886133</td>\n",
       "      <td>Hot and Cold Water</td>\n",
       "      <td>Y</td>\n",
       "      <td>Out of Compliance - Major</td>\n",
       "      <td>Hot and Cold Water</td>\n",
       "      <td>http://www.sandiegocounty.gov/deh/fhd/ffis/vio...</td>\n",
       "      <td>21. Hot &amp; cold water available</td>\n",
       "      <td>http://www.sandiegocounty.gov/deh/fhd/ffis/vio...</td>\n",
       "    </tr>\n",
       "    <tr>\n",
       "      <th>1</th>\n",
       "      <td>6631228</td>\n",
       "      <td>Hot and Cold Water</td>\n",
       "      <td>N</td>\n",
       "      <td>Out of Compliance - Minor</td>\n",
       "      <td>Hot and Cold Water</td>\n",
       "      <td>http://www.sandiegocounty.gov/deh/fhd/ffis/vio...</td>\n",
       "      <td>21. Hot &amp; cold water available</td>\n",
       "      <td>http://www.sandiegocounty.gov/deh/fhd/ffis/vio...</td>\n",
       "    </tr>\n",
       "    <tr>\n",
       "      <th>2</th>\n",
       "      <td>6357338</td>\n",
       "      <td>Holding Temperatures</td>\n",
       "      <td>N</td>\n",
       "      <td>Out of Compliance - Minor</td>\n",
       "      <td>Holding Temperatures</td>\n",
       "      <td>http://www.sandiegocounty.gov/deh/fhd/ffis/vio...</td>\n",
       "      <td>7. Proper hot &amp; cold holding temperatures</td>\n",
       "      <td>http://www.sandiegocounty.gov/deh/fhd/ffis/vio...</td>\n",
       "    </tr>\n",
       "    <tr>\n",
       "      <th>3</th>\n",
       "      <td>6939628</td>\n",
       "      <td>Holding Temperatures</td>\n",
       "      <td>Y</td>\n",
       "      <td>Out of Compliance - Major</td>\n",
       "      <td>Holding Temperatures</td>\n",
       "      <td>http://www.sandiegocounty.gov/deh/fhd/ffis/vio...</td>\n",
       "      <td>7. Proper hot &amp; cold holding temperatures</td>\n",
       "      <td>http://www.sandiegocounty.gov/deh/fhd/ffis/vio...</td>\n",
       "    </tr>\n",
       "    <tr>\n",
       "      <th>4</th>\n",
       "      <td>6939628</td>\n",
       "      <td>Approved Procedures</td>\n",
       "      <td>N</td>\n",
       "      <td>Out of Compliance - Minor</td>\n",
       "      <td>Approved Procedures</td>\n",
       "      <td>http://www.sandiegocounty.gov/deh/fhd/ffis/vio...</td>\n",
       "      <td>18. Compliance with</td>\n",
       "      <td>http://www.sandiegocounty.gov/deh/fhd/ffis/vio...</td>\n",
       "    </tr>\n",
       "  </tbody>\n",
       "</table>\n",
       "</div>"
      ],
      "text/plain": [
       "   inspection_id             violation major_violation  \\\n",
       "0        6886133    Hot and Cold Water               Y   \n",
       "1        6631228    Hot and Cold Water               N   \n",
       "2        6357338  Holding Temperatures               N   \n",
       "3        6939628  Holding Temperatures               Y   \n",
       "4        6939628   Approved Procedures               N   \n",
       "\n",
       "                      status        violation_text  \\\n",
       "0  Out of Compliance - Major    Hot and Cold Water   \n",
       "1  Out of Compliance - Minor    Hot and Cold Water   \n",
       "2  Out of Compliance - Minor  Holding Temperatures   \n",
       "3  Out of Compliance - Major  Holding Temperatures   \n",
       "4  Out of Compliance - Minor   Approved Procedures   \n",
       "\n",
       "                                correction_type_link  \\\n",
       "0  http://www.sandiegocounty.gov/deh/fhd/ffis/vio...   \n",
       "1  http://www.sandiegocounty.gov/deh/fhd/ffis/vio...   \n",
       "2  http://www.sandiegocounty.gov/deh/fhd/ffis/vio...   \n",
       "3  http://www.sandiegocounty.gov/deh/fhd/ffis/vio...   \n",
       "4  http://www.sandiegocounty.gov/deh/fhd/ffis/vio...   \n",
       "\n",
       "                            violation_accela  \\\n",
       "0             21. Hot & cold water available   \n",
       "1             21. Hot & cold water available   \n",
       "2  7. Proper hot & cold holding temperatures   \n",
       "3  7. Proper hot & cold holding temperatures   \n",
       "4                        18. Compliance with   \n",
       "\n",
       "                                                link  \n",
       "0  http://www.sandiegocounty.gov/deh/fhd/ffis/vio...  \n",
       "1  http://www.sandiegocounty.gov/deh/fhd/ffis/vio...  \n",
       "2  http://www.sandiegocounty.gov/deh/fhd/ffis/vio...  \n",
       "3  http://www.sandiegocounty.gov/deh/fhd/ffis/vio...  \n",
       "4  http://www.sandiegocounty.gov/deh/fhd/ffis/vio...  "
      ]
     },
     "execution_count": 8,
     "metadata": {},
     "output_type": "execute_result"
    }
   ],
   "source": [
    "viol.head()"
   ]
  },
  {
   "cell_type": "code",
   "execution_count": 9,
   "id": "47b64207",
   "metadata": {},
   "outputs": [
    {
     "data": {
      "text/plain": [
       "Index(['inspection_id', 'violation', 'major_violation', 'status',\n",
       "       'violation_text', 'correction_type_link', 'violation_accela', 'link'],\n",
       "      dtype='object')"
      ]
     },
     "execution_count": 9,
     "metadata": {},
     "output_type": "execute_result"
    }
   ],
   "source": [
    "viol.columns"
   ]
  },
  {
   "cell_type": "markdown",
   "id": "ba8cbd01",
   "metadata": {
    "slideshow": {
     "slide_type": "slide"
    }
   },
   "source": [
    "### Introduction to `plotly`"
   ]
  },
  {
   "cell_type": "markdown",
   "id": "60f270da",
   "metadata": {
    "slideshow": {
     "slide_type": "slide"
    }
   },
   "source": [
    "### `plotly`"
   ]
  },
  {
   "cell_type": "markdown",
   "id": "ba464496",
   "metadata": {
    "slideshow": {
     "slide_type": "fragment"
    }
   },
   "source": [
    "- We've used `plotly` in lecture briefly, and you even have to use it in Project 1 Question 13, but we haven't yet discussed it formally."
   ]
  },
  {
   "cell_type": "markdown",
   "id": "3d9d895a",
   "metadata": {
    "slideshow": {
     "slide_type": "fragment"
    }
   },
   "source": [
    "- It's a visualization library that enables **interactive** visualizations.\n",
    "\n",
    "<center><img src=\"imgs/plotly.png\" width=40%></center>"
   ]
  },
  {
   "cell_type": "markdown",
   "id": "1b3d9f3d",
   "metadata": {
    "slideshow": {
     "slide_type": "slide"
    }
   },
   "source": [
    "### Using `plotly`\n",
    "\n",
    "There are a few ways we can use `plotly`:"
   ]
  },
  {
   "cell_type": "markdown",
   "id": "622401c8",
   "metadata": {
    "slideshow": {
     "slide_type": "fragment"
    }
   },
   "source": [
    "- Using the `plotly.express` syntax.\n",
    "    - `plotly` is very flexible, but it can be verbose; `plotly.express` allows us to make plots quickly.\n",
    "    - See the [**documentation here**](https://plotly.com/python/plotly-express) – it's very rich (there are good examples for almost everything)."
   ]
  },
  {
   "cell_type": "markdown",
   "id": "06d84013",
   "metadata": {
    "slideshow": {
     "slide_type": "fragment"
    }
   },
   "source": [
    "- By setting `pandas` plotting backend to `'plotly'` (by default, it's `'matplotlib'`) and using the DataFrame `plot` method.\n",
    "    - The DataFrame `plot` method is how you created plots in DSC 10!"
   ]
  },
  {
   "cell_type": "markdown",
   "id": "8fd73d31",
   "metadata": {
    "slideshow": {
     "slide_type": "fragment"
    }
   },
   "source": [
    "For now, we'll use `plotly.express` syntax; we've imported it in the `dsc80_utils.py` file that we import at the top of each lecture notebook."
   ]
  },
  {
   "cell_type": "markdown",
   "id": "e15a04b1",
   "metadata": {
    "slideshow": {
     "slide_type": "slide"
    }
   },
   "source": [
    "### Initial plots"
   ]
  },
  {
   "cell_type": "markdown",
   "id": "85364a84",
   "metadata": {
    "slideshow": {
     "slide_type": "fragment"
    }
   },
   "source": [
    "First, let's look at the distribution of inspection `'score'`s:"
   ]
  },
  {
   "cell_type": "code",
   "execution_count": 11,
   "id": "d31db59a",
   "metadata": {},
   "outputs": [
    {
     "data": {
      "text/plain": [
       "<module 'plotly.express' from 'd:\\\\coding\\\\Miniforge\\\\envs\\\\dsc80\\\\lib\\\\site-packages\\\\plotly\\\\express\\\\__init__.py'>"
      ]
     },
     "execution_count": 11,
     "metadata": {},
     "output_type": "execute_result"
    }
   ],
   "source": [
    "px"
   ]
  },
  {
   "cell_type": "code",
   "execution_count": 12,
   "id": "1ab9e146",
   "metadata": {},
   "outputs": [
    {
     "data": {
      "text/html": [
       "<div>                            <div id=\"5492ee18-ae41-4db3-bd3e-74fa85781ea5\" class=\"plotly-graph-div\" style=\"height:400px; width:600px;\"></div>            <script type=\"text/javascript\">                require([\"plotly\"], function(Plotly) {                    window.PLOTLYENV=window.PLOTLYENV || {};                                    if (document.getElementById(\"5492ee18-ae41-4db3-bd3e-74fa85781ea5\")) {                    Plotly.newPlot(                        \"5492ee18-ae41-4db3-bd3e-74fa85781ea5\",                        [{\"alignmentgroup\":\"True\",\"bingroup\":\"x\",\"hovertemplate\":\"variable=score\\u003cbr\\u003evalue=%{x}\\u003cbr\\u003ecount=%{y}\\u003cextra\\u003e\\u003c\\u002fextra\\u003e\",\"legendgroup\":\"score\",\"marker\":{\"color\":\"#1F77B4\",\"pattern\":{\"shape\":\"\"}},\"name\":\"score\",\"offsetgroup\":\"score\",\"orientation\":\"v\",\"showlegend\":true,\"x\":[96,98,98,100,0,92,0,95,0,98,0,92,0,98,98,100,100,96,100,100,0,99,96,100,93,98,98,100,100,100,100,100,100,100,99,0,96,0,100,0,0,94,97,0,0,0,90,96,98,100,0,97,96,92,0,92,0,100,94,0,94,96,93,0,95,0,0,0,0,95,0,93,0,90,99,98,99,99,0,0,96,100,100,100,0,92,96,96,100,100,96,100,100,0,0,100,0,0,98,93,0,0,0,94,100,100,98,99,99,100,100,0,96,100,0,0,98,97,0,93,81,94,99,0,92,0,97,96,97,0,100,91,97,99,0,98,100,100,100,0,100,0,95,96,96,100,96,97,0,92,0,0,95,0,95,99,0,100,93,100,100,98,0,0,90,93,96,98,0,0,0,100,99,100,96,100,100,97,96,0,100,100,0,100,97,0,100,100,100,0,0,99,99,100,98,0,96,100,96,0,0,0,99,0,100,100,95,0,100,97,0,96,99,100,100,0,100,100,0,97,95,100,97,100,92,96,0,100,100,0,100,100,100,100,100,100,98,0,96,96,98,100,100,99,100,100,98,100,100,100,0,0,100,100,100,100,100,100,100,100,100,100,100,100,100,0,0,100,98,98,98,0,0,100,100,100,100,96,97,0,100,97,98,98,0,96,98,100,100,100,99,100,100,100,98,98,98,96,0,100,99,0,0,0,98,98,100,98,98,98,98,0,0,0,0,0,0,0,98,98,98,0,0,92,100,0,0,98,96,99,100,100,96,100,95,0,100,100,100,100,100,100,98,96,0,100,98,0,96,0,100,97,100,100,100,95,100,100,100,100,99,99,99,0,0,98,100,100,100,0,98,98,0,100,95,100,99,99,0,98,0,100,0,99,0,0,95,0,97,99,0,100,100,0,95,100,100,0,100,92,0,92,0,92,100,97,0,92,0,0,90,0,100,95,0,0,98,100,94,0,96,0,0,98,94,98,99,100,0,97,0,99,95,0,96,0,0,96,96,98,0,0,0,90,96,0,94,0,0,0,96,98,0,0,97,0,0,0,94,0,0,91,0,93,95,0,0,99,100,100,100,100,0,0,98,99,0,100,98,0,100,0,100,0,0,98,0,100,98,98,0,100,0,100,97,0,96,99,0,0,98,98,100,0,0,100,0,100,100,0,0,0,0,0,96,100,100,0,100,100,100,0,100,100,100,0,0,96,95,100,0,100,100,98,0,100,100,100,0,0,91,100,0,94,96,99,0,0,0,100,100,99,100,98,100,100,100,100,100,0,100,98,100,100,0,98,0,98,99,0,99,100,0,98,90,97,0,95,99,100,98,98,100,100,98,99,98,96,100,100,98,98,0,100,100,100,0,100,0,0,100,96,100,100,99,98,100,99,100,100,100,96,97,100,98,0,95,98,0,98,80,0,0,97,100,97,97,96,97,98,97,98,99,100,100,100,100,100,0,100,99,95,96,98,0,0,0,98,98,0,100,95,0,96,0,96,0,96,100,0,99,0,100,100,100,100,100,98,98,0,0,98,98,0,0,100,100,100,100,100,100,100,96,98,100,97,97,98,0,90,97,0,97,0,90,0,96,94,93,0,99,0,97,99,95,94,0,0,91,80,93,0,93,0,97,96,0,94,96,96,100,99,100,0,0,98,0,0,91,98,100,99,98,96,0,100,98,100,100,0,94,0,0,95,94,0,0,100,0,98,92,0,0,99,0,99,0,0,0,99,0,94,98,100,100,98,100,100,99,100,100,100,100,100,97,98,0,0,95,0,95,0,0,98,98,0,99,99,0,0,98,100,0,0,100,0,97,100,0,0,98,98,98,100,0,0,100,100,100,98,99,0,100,0,100,100,0,100,98,96,0,100,100,100,92,98,100,0,96,0,95,0,95,0,95,99,99,98,100,0,100,100,97,99,100,98,100,96,0,94,98,100,100,0,96,98,100,100,98,100,0,0,98,100,100,100,100,100,100,99,99,100,0,100,0,91,94,98,97,0,0,93,100,100,100,0,99,96,98,100,100,98,100,100,0,0,98,96,100,0,100,99,100,100,100,100,100,0,0,93,99,97,98,0,100,0,0,100,0,95,98,0,0,100,99,99,100,0,0,0,96,0,100,0,100,100,100,100,0,100,100,100,100,0,0,100,0,98,98,100,0,95,97,0,0,96,100,0,94,0,93,99,98,100,93,100,0,94,93,0,96,94,0,100,100,100,100,98,0,0,97,0,98,0,100,100,100,100,0,0,0,100,99,100,100,0,0,98,96,0,98,97,0,95,0,98,0,97,100,100,0,0,100,100,100,0,0,99,97,97,98,99,100,100,100,0,100,100,100,100,100,100,100,0,99,100,100,100,100,97,100,98,100,0,100,100,100,100,0,98,0,94,98,0,0,0,100,100,0,97,0,96,95,0,99,97,100,100,100,0,0,100,100,100,98,100,100,100,100,0,0,95,98,96,99,0,97,97,99,98,0,94,0,0,95,0,0,93,0,100,0,98,0,100,100,0,100,100,0,98,99,0,100,100,0,100,100,0,100,98,0,98,100,100,100,100,100,0,100,0,99,100,99,0,0,97,100,0,96,0,0,0,0,94,0,0,97,0,98,0,91,98,0,0,0,100,100,100,100,0,100,95,98,98,100,100,100,100,98,100,99,99,0,100,100,100,0,0,92,0,92,98,0,100,100,100,0,98,94,98,94,0,100,98,100,97,98,100,99,100,100,100,94,100,100,100,100,100,100,92,95,98,98,0,100,100,0,100,100,100,0,100,100,100,0,100,98,98,100,0,97,99,100,0,0,97,94,0,93,96,0,91,0,98,97,0,0,95,0,0,0,0,100,96,100,0,100,97,99,0,100,100,100,100,100,100,99,0,100,100,100,0,0,0,94,98,0,0,0,93,98,0,0,0,93,95,97,0,0,90,90,0,93,90,0,96,97,100,0,95,93,100,0,98,0,96,100,100,98,0,0,95,0,95,97,0,0,0,95,99,94,100,97,98,99,100,98,0,99,100,100,100,0,0,0,97,0,98,98,100,98,0,100,98,0,100,0,0,95,0,92,0,0,94,0,0,0,90,0,95,100,100,0,94,0,0,0,0,97,95,0,95,0,96,93,96,0,0,0,94,97,100,100,100,0,100,0,0,99,96,97,0,100,100,0,0,0,0,0,97,98,0,99,0,92,97,100,98,0,96,0,90,100,100,0,0,90,92,100,98,0,96,97,0,100,100,100,100,100,100,100,100,100,0,96,100,0,96,0,100,97,0,90,0,92,0,93,0,0,0,100,0,100,100,100,100,98,0,96,97,100,98,100,0,0,100,98,100,100,98,99,100,100,98,100,100,100,0,98,95,97,0,0,97,100,100,100,100,100,98,100,100,100,0,99,100,0,0,95,0,92,0,0,94,0,99,98,96,0,0,0,97,95,95,0,98,90,0,0,0,96,98,96,0,0,0,0,100,96,100,96,93,0,99,96,0,98,94,0,97,0,0,0,98,92,0,98,98,0,0,100,99,97,0,0,95,96,0,94,98,91,0,0,98,98,100,0,0,0,95,0,96,0,0,96,99,0,0,99,98,93,0,94,0,98,97,96,0,0,100,100,99,0,100,98,100,0,98,94,0,97,93,100,95,0,96,93,96,98,100,98,99,96,0,100,100,100,97,96,0,94,0,98,98,100,100,100,0,98,0,0,100,100,100,0,97,100,100,100,98,100,100,100,100,0,99,100,100,0,96,100,98,100,100,100,100,100,0,100,100,99,100,0,100,94,100,96,0,100,100,99,100,0,0,98,96,98,100,0,100,98,97,0,96,100,100,0,0,0,0,0,100,100,100,0,0,0,100,100,100,100,100,96,97,100,100,98,0,0,100,98,100,99,99,100,0,0,0,98,0,100,0,0,100,100,100,100,100,100,100,100,100,100,100,100,100,100,99,97,100,100,0,94,100,100,100,100,100,98,99,100,0,0,98,100,100,0,0,100,100,0,0,0,97,0,0,0,100,95,99,99,0,0,92,98,99,100,100,99,100,100,100,100,100,100,0,99,95,97,97,0,98,96,0,99,98,0,0,90,0,0,92,96,0,0,100,0,0,93,98,0,100,0,93,97,0,98,0,99,0,0,98,0,98,100,0,100,0,100,96,100,98,0,98,94,100,99,0,96,0,0,0,94,0,91,91,98,0,98,100,100,100,0,0,96,96,96,0,100,96,0,99,0,100,100,99,0,0,98,96,98,99,96,0,0,0,0,0,100,91,99,98,97,0,100,100,100,0,100,99,0,100,98,0,100,100,100,96,98,97,99,0,0,100,100,100,100,0,97,0,0,0,90,94,98,99,0,0,97,99,96,97,98,96,96,100,98,0,97,98,100,100,97,100,100,0,0,96,94,0,98,94,0,0,93,100,100,0,0,97,98,0,0,98,94,0,0,0,0,0,91,0,90,93,0,92,0,91,0,0,93,99,0,0,96,96,0,0,90,0,96,90,0,96,0,95,0,95,0,100,100,0,0,0,0,0,93,92,97,0,94,0,95,0,95,98,97,0,0,0,92,97,100,0,0,100,96,0,0,0,0,93,0,97,97,0,94,0,92,0,0,95,99,0,97,0,100,100,100,0,91,0,98,95,100,0,94,94,98,0,0,0,98,98,100,98,0,0,99,0,0,100,0,96,0,92,0,98,100,100,0,100,0,97,99,0,0,100,95,97,99,0,0,0,0,100,99,100,98,98,0,99,100,100,100,100,100,99,0,97,99,96,98,0,98,100,96,96,0,0,0,96,98,0,96,100,100,98,100,100,99,100,100,0,100,100,100,0,0,0,0,0,0,94,96,0,94,0,0,96,0,0,0,0,95,0,94,100,0,0,97,96,0,92,0,0,100,0,0,90,0,91,0,91,0,0,0,98,99,0,95,94,0,96,0,94,0,0,0,93,0,0,0,99,100,0,97,98,99,100,0,0,91,0,98,0,0,0,0,90,0,95,0,97,0,95,0,98,0,93,98,100,99,0,99,0,0,0,0,97,0,0,98,0,0,90,90,94,95,98,99,100,0,90,95,94,0,96,93,0,0,90,0,90,0,97,0,0,0,95,0,0,93,0,98,0,0,0,96,100,100,100,0,98,100,100,98,96,0,100,0,100,95,95,0,94,0,0,100,100,100,98,0,0,98,100,0,0,100,0,0,98,100,0,98,91,97,0,97,97,0,98,99,98,97,98,0,97,98,98,99,96,99,98,0,0,0,0,97,95,0,99,95,98,0,92,0,99,0,0,99,97,96,100,0,100,100,100,0,100,0,90,96,0,100,100,0,0,92,96,0,0,92,90,0,90,0,92,98,100,99,100,0,0,90,0,93,0,0,97,0,0,0,0,92,0,97,95,96,0,100,0,100,0,100,100,0,90,97,0,0,96,81,93,0,97,95,0,90,95,0,96,0,97,95,0,96,0,98,90,99,97,0,0,98,0,90,0,90,0,90,0,0,0,0,90,98,0,0,0,0,96,90,94,100,90,90,0,90,0,0,93,0,0,96,96,0,95,0,94,0,96,100,99,98,100,100,98,99,0,92,96,96,0,97,96,98,100,0,98,100,100,100,100,100,100,100,98,95,97,100,0,95,98,98,0,0,95,96,100,91,97,100,0,0,92,93,96,93,0,0,95,97,97,0,0,100,0,96,0,93,97,0,97,98,0,100,0,0,97,98,99,0,0,100,100,0,90,94,0,0,0,94,0,91,95,0,0,93,94,0,100,98,95,100,98,99,100,99,97,100,0,0,92,95,95,0,0,98,92,94,0,87,96,96,92,90,97,99,100,99,94,95,100,99,0,98,96,99,100,100,100,0,100,0,100,100,0,100,98,0,0,98,96,95,0,93,0,90,0,93,99,0,0,97,99,99,0,0,0,0,99,0,0,0,98,0,97,98,96,90,93,98,99,100,0,0,92,94,0,93,95,0,0,100,100,0,100,100,100,100,0,95,96,93,0,98,98,100,97,97,94,99,100,98,100,0,0,90,93,98,0,99,100,0,100,100,100,100,100,0,94,98,96,0,98,100,100,100,0,0,90,0,90,94,0,96,0,97,97,0,100,95,99,99,100,0,100,95,0,0,91,97,95,0,98,0,92,94,97,0,93,0,97,97,95,0,98,100,100,0,100,0,100,100,98,100,0,90,0,93,0,0,96,91,100,100,100,100,100,100,98,100,100,100,98,98,100,100,100,100,0,96,0,100,98,100,100,100,99,100,93,0,0,90,97,0,92,96,96,0,0,0,0,91,93,0,100,98,100,94,95,0,90,98,0,97,98,99,0,95,97,100,0,100,0,0,0,0,90,90,0,0,98,0,0,0,0,0,100,0,0,0,97,0,0,91,0,93,97,0,96,98,98,0,95,98,0,96,97,95,0,100,100,98,100,100,100,100,100,0,91,95,0,96,0,98,100,100,100,99,100,100,98,99,100,100,100,100,0,98,100,0,100,100,100,0,0,100,100,100,0,100,100,100,0,0,100,99,99,98,97,0,100,100,0,99,100,99,99,100,100,97,0,100,100,96,100,100,0,100,0,98,0,99,100,0,95,0,92,96,0,0,96,0,0,0,0,99,100,100,0,0,0,91,0,0,0,94,0,100,100,0,96,0,0,98,0,98,0,0,100,100,0,97,100,0,93,0,97,96,0,0,97,0,0,93,98,100,0,90,96,96,0,97,95,0,80,0,95,97,99,98,100,98,0,0,97,96,0,100,0,0,90,0,90,97,0,96,96,96,97,94,98,0,0,99,96,0,0,93,98,0,97,0,0,100,98,99,97,100,100,100,0,100,98,94,0,93,99,0,93,100,0,99,94,0,97,97,0,90,0,96,93,0,0,0,94,90,99,95,98,94,96,98,98,0,100,98,100,100,0,0,94,98,100,99,99,100,96,0,100,98,98,98,0,0,100,100,100,0,100,100,100,100,100,100,100,100,100,100,100,100,0,100,97,0,97,0,100,0,0,0,98,0,97,98,0,98,100,0,100,0,0,96,96,0,93,0,0,90,0,0,92,98,0,0,100,100,99,100,0,0,93,98,0,94,97,0,0,0,0,96,97,0,0,100,100,100,100,99,0,100,0,100,98,98,100,0,95,98,99,97,100,95,94,99,98,100,100,98,98,98,0,98,94,0,0,0,0,0,0,99,0,92,92,94,0,0,0,0,0,94,94,100,0,96,94,0,0,94,0,0,92,0,0,94,98,0,100,100,0,100,100,98,0,0,0,99,0,0,0,0,0,0,95,0,0,91,91,0,0,0,0,90,95,96,0,94,97,98,100,0,98,97,0,100,97,0,0,0,92,0,96,97,0,0,99,99,99,99,100,99,100,0,94,0,95,0,92,0,90,0,91,95,0,0,100,100,0,0,97,95,0,0,98,98,100,0,90,94,0,0,97,0,92,0,100,100,100,94,0,97,93,0,98,0,100,100,100,0,0,98,0,0,91,91,0,97,96,0,96,0,98,0,98,92,0,94,100,0,0,0,0,95,93,0,0,0,0,96,0,97,0,96,0,96,98,98,98,0,93,0,98,0,0,0,100,97,96,97,0,96,100,100,100,0,100,100,100,0,95,97,96,0,97,0,0,94,0,0,93,92,0,0,0,97,0,100,97,99,0,99,0,98,98,100,96,98,100,100,0,99,100,99,100,100,0,99,99,99,100,100,100,100,100,100,99,0,0,0,0,0,98,0,0,0,0,94,100,96,0,0,97,97,100,97,0,98,100,100,100,100,98,100,0,100,98,100,94,0,99,0,0,99,99,96,0,0,93,0,0,98,97,0,93,0,96,94,0,99,0,95,93,98,96,0,0,0,97,98,0,100,97,0,93,0,0,94,0,98,0,0,98,0,0,95,98,0,91,96,0,96,100,100,0,99,98,0,0,97,99,0,100,99,100,98,0,97,0,93,0,0,0,0,0,93,0,97,99,0,98,0,0,93,96,0,94,0,95,0,0,0,95,92,91,0,0,92,0,100,100,98,98,100,96,0,94,92,0,95,100,0,100,100,98,99,100,0,99,97,97,98,0,98,0,100,97,98,97,96,0,99,0,94,0,94,98,97,96,100,98,99,100,0,100,100,100,0,94,100,97,0,95,0,100,0,100,100,98,100,100,98,100,98,100,0,97,100,0,100,100,0,100,0,0,0,98,100,0,98,0,98,100,100,99,100,96,100,100,100,0,0,0,0,0,0,96,0,0,0,0,95,0,98,0,0,91,92,100,97,99,0,93,96,0,97,0,0,100,90,99,96,96,97,0,0,93,0,96,95,0,0,100,97,100,0,100,100,95,99,99,94,97,95,0,98,0,0,100,100,100,0,98,100,100,0,91,91,95,0,97,97,0,98,100,97,96,96,99,99,0,98,98,100,0,100,100,0,100,0,93,0,93,97,0,94,0,0,90,100,100,100,0,93,95,0,97,98,0,100,98,100,95,99,0,100,0,0,97,0,100,97,97,100,97,98,0,98,0,94,0,98,95,100,99,0,100,92,92,0,0,90,97,0,98,0,95,96,98,96,100,0,95,0,94,0,97,98,0,97,0,95,100,0,100,96,0,96,98,0,98,96,0,0,0,0,0,0,100,0,96,98,99,98,0,0,99,100,100,0,100,99,0,96,100,99,100,100,100,99,95,100,94,0,91,0,96,90,96,94,0,92,0,91,100,95,97,0,94,98,0,0,97,0,94,0,92,96,0,0,0,0,90,99,96,0,0,93,0,90,95,0,0,99,100,92,96,98,95,97,99,98,99,0,100,100,0,100,0,93,100,100,100,0,100,100,97,100,0,97,100,100,100,0,98,100,100,100,0,100,100,100,100,98,98,99,100,100,0,98,98,99,0,0,0,0,0,0,99,0,98,97,93,98,0,97,91,0,100,100,100,92,95,96,0,0,96,100,100,99,95,0,0,91,93,98,97,0,90,0,94,0,93,93,0,0,95,94,0,99,98,0,98,100,100,0,0,0,91,0,90,0,90,98,0,0,0,0,0,93,0,90,95,0,0,0,91,96,96,100,99,100,90,95,97,0,0,0,95,100,99,100,0,0,94,96,0,0,0,95,98,94,0,0,95,0,0,95,91,97,97,94,0,0,95,97,90,0,93,0,0,93,0,92,98,94,0,0,0,98,100,100,0,0,90,92,0,91,0,93,0,0,0,94,99,99,100,99,98,99,99,99,0,100,97,0,100,100,100,100,100,100,98,98,100,100,100,100,0,0,0,0,0,0,98,98,99,100,99,100,0,100,0,0,0,93,97,0,100,0,0,0,98,98,94,96,0,96,99,0,0,0,0,100,100,0,90,93,97,0,100,100,100,100,97,100,0,0,91,100,98,0,98,0,0,95,93,0,0,100,100,0,100,100,100,100,0,92,0,95,0,0,93,0,100,97,100,0,0,95,0,0,92,98,98,0,93,0,96,0,98,98,0,99,0,0,94,94,0,98,0,96,0,95,0,100,99,100,98,100,100,100,0,0,92,96,97,97,0,0,95,100,0,0,95,96,100,0,100,100,100,0,98,0,0,94,90,95,0,95,0,92,0,95,98,97,100,98,98,0,92,93,97,0,91,95,0,90,99,0,99,100,100,0,0,93,97,0,94,0,0,0,0,94,0,98,99,100,100,100,100,0,97,98,98,0,93,98,0,96,96,94,0,98,100,0,0,91,92,0,91,91,0,0,100,100,100,100,0,98,94,0,96,97,100,0,98,99,0,98,98,100,100,100,100,98,100,100,99,100,0,98,100,100,100,100,0,93,0,0,90,91,94,0,95,98,0,0,99,100,100,98,0,96,100,100,100,100,100,100,100,0,97,0,98,98,0,0,0,92,93,0,96,0,94,92,100,0,90,0,0,94,95,96,96,94,0,100,0,93,96,100,99,100,0,96,0,0,100,0,0,97,96,100,0,100,0,0,93,0,94,94,0,94,96,99,0,0,96,98,0,100,100,100,0,96,95,0,99,90,99,95,100,100,0,100,98,97,100,0,97,95,0,97,95,96,96,100,0,97,100,0,0,0,97,100,98,100,0,95,94,0,99,0,0,0,0,91,0,92,0,94,100,100,0,0,0,96,0,90,0,93,0,0,98,100,98,0,100,0,100,92,0,100,98,99,0,98,97,0,100,93,99,0,0,96,100,91,99,98,0,0,94,98,99,99,99,0,99,0,93,97,0,0,0,94,0,0,94,0,96,0,95,0,0,100,99,100,99,0,0,96,0,96,99,100,0,0,100,97,96,100,0,98,98,99,100,0,0,100,100,100,0,0,97,99,100,100,0,97,100,94,0,99,0,100,98,100,0,0,98,100,95,100,98,98,98,0,93,100,94,95,99,100,0,100,98,0,98,100,98,100,99,98,100,0,100,100,100,0,99,94,0,0,0,90,97,99,0,0,90,98,0,98,0,95,98,100,100,98,100,94,0,0,93,95,98,0,91,0,100,91,0,90,80,92,0,0,90,82,0,92,100,0,0,90,92,0,90,93,0,92,96,99,0,96,0,0,98,97,0,0,94,97,0,0,100,98,98,100,100,100,100,95,94,0,98,0,96,97,0,0,98,0,0,100,100,98,99,100,100,98,100,0,100,0,95,95,100,0,100,0,95,93,0,0,0,0,0,91,95,98,100,98,100,91,95,98,0,99,94,0,98,93,95,0,91,98,0,0,91,0,0,90,94,95,95,0,100,94,0,97,0,0,91,94,0,0,98,98,98,97,96,100,100,100,100,98,0,98,98,99,98,0,0,93,0,90,96,100,100,0,0,100,98,100,98,100,100,98,95,0,0,91,98,98,96,0,98,100,100,100,100,97,99,99,0,98,0,0,0,0,0,0,96,96,100,100,0,100,97,97,100,0,100,100,100,99,100,100,98,95,0,91,97,0,0,0,0,0,0,0,90,93,0,90,100,100,0,92,90,0,94,99,0,97,96,0,0,93,97,0,95,0,98,100,100,92,96,90,100,94,0,94,98,100,93,96,0,97,98,0,99,97,0,100,100,97,98,100,99,100,100,0,0,95,0,94,97,100,98,98,100,100,100,100,98,0,93,96,96,95,100,100,100,100,94,94,94,100,0,0,94,0,94,98,0,0,99,98,99,0,98,96,100,100,96,0,100,98,100,100,96,100,0,99,100,100,100,94,100,97,0,97,99,100,100,98,99,98,0,0,0,0,0,0,100,99,0,100,99,0,0,100,100,99,98,98,100,98,0,0,0,99,97,100,0,98,100,99,100,0,0,100,100,98,0,100,0,90,0,96,80,96,0,96,0,0,100,0,100,98,0,96,0,94,96,0,0,93,0,98,0,0,100,98,100,0,100,100,0,0,98,0,99,0,99,0,91,100,100,0,0,93,0,92,95,100,0,95,0,93,97,98,0,0,98,99,100,94,94,95,0,100,100,100,0,98,98,98,97,97,94,99,97,98,100,99,99,100,100,100,100,100,100,0,96,0,98,0,0,0,93,0,0,96,0,100,100,0,100,100,0,98,100,99,100,0,100,100,99,98,100,94,97,100,96,99,100,99,100,100,100,100,0,0,95,92,90,98,0,0,97,100,99,0,0,0,90,95,95,0,0,0,97,98,99,100,0,0,0,0,92,0,0,97,86,0,93,0,0,95,97,0,97,98,0,0,0,99,0,97,98,98,99,99,96,97,0,96,0,0,96,0,84,0,0,90],\"xaxis\":\"x\",\"yaxis\":\"y\",\"type\":\"histogram\"}],                        {\"template\":{\"data\":{\"barpolar\":[{\"marker\":{\"line\":{\"color\":\"white\",\"width\":0.5},\"pattern\":{\"fillmode\":\"overlay\",\"size\":10,\"solidity\":0.2}},\"type\":\"barpolar\"}],\"bar\":[{\"error_x\":{\"color\":\"rgb(36,36,36)\"},\"error_y\":{\"color\":\"rgb(36,36,36)\"},\"marker\":{\"line\":{\"color\":\"white\",\"width\":0.5},\"pattern\":{\"fillmode\":\"overlay\",\"size\":10,\"solidity\":0.2}},\"type\":\"bar\"}],\"carpet\":[{\"aaxis\":{\"endlinecolor\":\"rgb(36,36,36)\",\"gridcolor\":\"white\",\"linecolor\":\"white\",\"minorgridcolor\":\"white\",\"startlinecolor\":\"rgb(36,36,36)\"},\"baxis\":{\"endlinecolor\":\"rgb(36,36,36)\",\"gridcolor\":\"white\",\"linecolor\":\"white\",\"minorgridcolor\":\"white\",\"startlinecolor\":\"rgb(36,36,36)\"},\"type\":\"carpet\"}],\"choropleth\":[{\"colorbar\":{\"outlinewidth\":1,\"tickcolor\":\"rgb(36,36,36)\",\"ticks\":\"outside\"},\"type\":\"choropleth\"}],\"contourcarpet\":[{\"colorbar\":{\"outlinewidth\":1,\"tickcolor\":\"rgb(36,36,36)\",\"ticks\":\"outside\"},\"type\":\"contourcarpet\"}],\"contour\":[{\"colorbar\":{\"outlinewidth\":1,\"tickcolor\":\"rgb(36,36,36)\",\"ticks\":\"outside\"},\"colorscale\":[[0.0,\"#440154\"],[0.1111111111111111,\"#482878\"],[0.2222222222222222,\"#3e4989\"],[0.3333333333333333,\"#31688e\"],[0.4444444444444444,\"#26828e\"],[0.5555555555555556,\"#1f9e89\"],[0.6666666666666666,\"#35b779\"],[0.7777777777777778,\"#6ece58\"],[0.8888888888888888,\"#b5de2b\"],[1.0,\"#fde725\"]],\"type\":\"contour\"}],\"heatmapgl\":[{\"colorbar\":{\"outlinewidth\":1,\"tickcolor\":\"rgb(36,36,36)\",\"ticks\":\"outside\"},\"colorscale\":[[0.0,\"#440154\"],[0.1111111111111111,\"#482878\"],[0.2222222222222222,\"#3e4989\"],[0.3333333333333333,\"#31688e\"],[0.4444444444444444,\"#26828e\"],[0.5555555555555556,\"#1f9e89\"],[0.6666666666666666,\"#35b779\"],[0.7777777777777778,\"#6ece58\"],[0.8888888888888888,\"#b5de2b\"],[1.0,\"#fde725\"]],\"type\":\"heatmapgl\"}],\"heatmap\":[{\"colorbar\":{\"outlinewidth\":1,\"tickcolor\":\"rgb(36,36,36)\",\"ticks\":\"outside\"},\"colorscale\":[[0.0,\"#440154\"],[0.1111111111111111,\"#482878\"],[0.2222222222222222,\"#3e4989\"],[0.3333333333333333,\"#31688e\"],[0.4444444444444444,\"#26828e\"],[0.5555555555555556,\"#1f9e89\"],[0.6666666666666666,\"#35b779\"],[0.7777777777777778,\"#6ece58\"],[0.8888888888888888,\"#b5de2b\"],[1.0,\"#fde725\"]],\"type\":\"heatmap\"}],\"histogram2dcontour\":[{\"colorbar\":{\"outlinewidth\":1,\"tickcolor\":\"rgb(36,36,36)\",\"ticks\":\"outside\"},\"colorscale\":[[0.0,\"#440154\"],[0.1111111111111111,\"#482878\"],[0.2222222222222222,\"#3e4989\"],[0.3333333333333333,\"#31688e\"],[0.4444444444444444,\"#26828e\"],[0.5555555555555556,\"#1f9e89\"],[0.6666666666666666,\"#35b779\"],[0.7777777777777778,\"#6ece58\"],[0.8888888888888888,\"#b5de2b\"],[1.0,\"#fde725\"]],\"type\":\"histogram2dcontour\"}],\"histogram2d\":[{\"colorbar\":{\"outlinewidth\":1,\"tickcolor\":\"rgb(36,36,36)\",\"ticks\":\"outside\"},\"colorscale\":[[0.0,\"#440154\"],[0.1111111111111111,\"#482878\"],[0.2222222222222222,\"#3e4989\"],[0.3333333333333333,\"#31688e\"],[0.4444444444444444,\"#26828e\"],[0.5555555555555556,\"#1f9e89\"],[0.6666666666666666,\"#35b779\"],[0.7777777777777778,\"#6ece58\"],[0.8888888888888888,\"#b5de2b\"],[1.0,\"#fde725\"]],\"type\":\"histogram2d\"}],\"histogram\":[{\"marker\":{\"line\":{\"color\":\"white\",\"width\":0.6}},\"type\":\"histogram\"}],\"mesh3d\":[{\"colorbar\":{\"outlinewidth\":1,\"tickcolor\":\"rgb(36,36,36)\",\"ticks\":\"outside\"},\"type\":\"mesh3d\"}],\"parcoords\":[{\"line\":{\"colorbar\":{\"outlinewidth\":1,\"tickcolor\":\"rgb(36,36,36)\",\"ticks\":\"outside\"}},\"type\":\"parcoords\"}],\"pie\":[{\"automargin\":true,\"type\":\"pie\"}],\"scatter3d\":[{\"line\":{\"colorbar\":{\"outlinewidth\":1,\"tickcolor\":\"rgb(36,36,36)\",\"ticks\":\"outside\"}},\"marker\":{\"colorbar\":{\"outlinewidth\":1,\"tickcolor\":\"rgb(36,36,36)\",\"ticks\":\"outside\"}},\"type\":\"scatter3d\"}],\"scattercarpet\":[{\"marker\":{\"colorbar\":{\"outlinewidth\":1,\"tickcolor\":\"rgb(36,36,36)\",\"ticks\":\"outside\"}},\"type\":\"scattercarpet\"}],\"scattergeo\":[{\"marker\":{\"colorbar\":{\"outlinewidth\":1,\"tickcolor\":\"rgb(36,36,36)\",\"ticks\":\"outside\"}},\"type\":\"scattergeo\"}],\"scattergl\":[{\"marker\":{\"colorbar\":{\"outlinewidth\":1,\"tickcolor\":\"rgb(36,36,36)\",\"ticks\":\"outside\"}},\"type\":\"scattergl\"}],\"scattermapbox\":[{\"marker\":{\"colorbar\":{\"outlinewidth\":1,\"tickcolor\":\"rgb(36,36,36)\",\"ticks\":\"outside\"}},\"type\":\"scattermapbox\"}],\"scatterpolargl\":[{\"marker\":{\"colorbar\":{\"outlinewidth\":1,\"tickcolor\":\"rgb(36,36,36)\",\"ticks\":\"outside\"}},\"type\":\"scatterpolargl\"}],\"scatterpolar\":[{\"marker\":{\"colorbar\":{\"outlinewidth\":1,\"tickcolor\":\"rgb(36,36,36)\",\"ticks\":\"outside\"}},\"type\":\"scatterpolar\"}],\"scatter\":[{\"fillpattern\":{\"fillmode\":\"overlay\",\"size\":10,\"solidity\":0.2},\"type\":\"scatter\"}],\"scatterternary\":[{\"marker\":{\"colorbar\":{\"outlinewidth\":1,\"tickcolor\":\"rgb(36,36,36)\",\"ticks\":\"outside\"}},\"type\":\"scatterternary\"}],\"surface\":[{\"colorbar\":{\"outlinewidth\":1,\"tickcolor\":\"rgb(36,36,36)\",\"ticks\":\"outside\"},\"colorscale\":[[0.0,\"#440154\"],[0.1111111111111111,\"#482878\"],[0.2222222222222222,\"#3e4989\"],[0.3333333333333333,\"#31688e\"],[0.4444444444444444,\"#26828e\"],[0.5555555555555556,\"#1f9e89\"],[0.6666666666666666,\"#35b779\"],[0.7777777777777778,\"#6ece58\"],[0.8888888888888888,\"#b5de2b\"],[1.0,\"#fde725\"]],\"type\":\"surface\"}],\"table\":[{\"cells\":{\"fill\":{\"color\":\"rgb(237,237,237)\"},\"line\":{\"color\":\"white\"}},\"header\":{\"fill\":{\"color\":\"rgb(217,217,217)\"},\"line\":{\"color\":\"white\"}},\"type\":\"table\"}]},\"layout\":{\"annotationdefaults\":{\"arrowhead\":0,\"arrowwidth\":1},\"autotypenumbers\":\"strict\",\"coloraxis\":{\"colorbar\":{\"outlinewidth\":1,\"tickcolor\":\"rgb(36,36,36)\",\"ticks\":\"outside\"}},\"colorscale\":{\"diverging\":[[0.0,\"rgb(103,0,31)\"],[0.1,\"rgb(178,24,43)\"],[0.2,\"rgb(214,96,77)\"],[0.3,\"rgb(244,165,130)\"],[0.4,\"rgb(253,219,199)\"],[0.5,\"rgb(247,247,247)\"],[0.6,\"rgb(209,229,240)\"],[0.7,\"rgb(146,197,222)\"],[0.8,\"rgb(67,147,195)\"],[0.9,\"rgb(33,102,172)\"],[1.0,\"rgb(5,48,97)\"]],\"sequential\":[[0.0,\"#440154\"],[0.1111111111111111,\"#482878\"],[0.2222222222222222,\"#3e4989\"],[0.3333333333333333,\"#31688e\"],[0.4444444444444444,\"#26828e\"],[0.5555555555555556,\"#1f9e89\"],[0.6666666666666666,\"#35b779\"],[0.7777777777777778,\"#6ece58\"],[0.8888888888888888,\"#b5de2b\"],[1.0,\"#fde725\"]],\"sequentialminus\":[[0.0,\"#440154\"],[0.1111111111111111,\"#482878\"],[0.2222222222222222,\"#3e4989\"],[0.3333333333333333,\"#31688e\"],[0.4444444444444444,\"#26828e\"],[0.5555555555555556,\"#1f9e89\"],[0.6666666666666666,\"#35b779\"],[0.7777777777777778,\"#6ece58\"],[0.8888888888888888,\"#b5de2b\"],[1.0,\"#fde725\"]]},\"colorway\":[\"#1F77B4\",\"#FF7F0E\",\"#2CA02C\",\"#D62728\",\"#9467BD\",\"#8C564B\",\"#E377C2\",\"#7F7F7F\",\"#BCBD22\",\"#17BECF\"],\"font\":{\"color\":\"rgb(36,36,36)\"},\"geo\":{\"bgcolor\":\"white\",\"lakecolor\":\"white\",\"landcolor\":\"white\",\"showlakes\":true,\"showland\":true,\"subunitcolor\":\"white\"},\"hoverlabel\":{\"align\":\"left\"},\"hovermode\":\"closest\",\"mapbox\":{\"style\":\"light\"},\"paper_bgcolor\":\"white\",\"plot_bgcolor\":\"white\",\"polar\":{\"angularaxis\":{\"gridcolor\":\"rgb(232,232,232)\",\"linecolor\":\"rgb(36,36,36)\",\"showgrid\":false,\"showline\":true,\"ticks\":\"outside\"},\"bgcolor\":\"white\",\"radialaxis\":{\"gridcolor\":\"rgb(232,232,232)\",\"linecolor\":\"rgb(36,36,36)\",\"showgrid\":false,\"showline\":true,\"ticks\":\"outside\"}},\"scene\":{\"xaxis\":{\"backgroundcolor\":\"white\",\"gridcolor\":\"rgb(232,232,232)\",\"gridwidth\":2,\"linecolor\":\"rgb(36,36,36)\",\"showbackground\":true,\"showgrid\":false,\"showline\":true,\"ticks\":\"outside\",\"zeroline\":false,\"zerolinecolor\":\"rgb(36,36,36)\"},\"yaxis\":{\"backgroundcolor\":\"white\",\"gridcolor\":\"rgb(232,232,232)\",\"gridwidth\":2,\"linecolor\":\"rgb(36,36,36)\",\"showbackground\":true,\"showgrid\":false,\"showline\":true,\"ticks\":\"outside\",\"zeroline\":false,\"zerolinecolor\":\"rgb(36,36,36)\"},\"zaxis\":{\"backgroundcolor\":\"white\",\"gridcolor\":\"rgb(232,232,232)\",\"gridwidth\":2,\"linecolor\":\"rgb(36,36,36)\",\"showbackground\":true,\"showgrid\":false,\"showline\":true,\"ticks\":\"outside\",\"zeroline\":false,\"zerolinecolor\":\"rgb(36,36,36)\"}},\"shapedefaults\":{\"fillcolor\":\"black\",\"line\":{\"width\":0},\"opacity\":0.3},\"ternary\":{\"aaxis\":{\"gridcolor\":\"rgb(232,232,232)\",\"linecolor\":\"rgb(36,36,36)\",\"showgrid\":false,\"showline\":true,\"ticks\":\"outside\"},\"baxis\":{\"gridcolor\":\"rgb(232,232,232)\",\"linecolor\":\"rgb(36,36,36)\",\"showgrid\":false,\"showline\":true,\"ticks\":\"outside\"},\"bgcolor\":\"white\",\"caxis\":{\"gridcolor\":\"rgb(232,232,232)\",\"linecolor\":\"rgb(36,36,36)\",\"showgrid\":false,\"showline\":true,\"ticks\":\"outside\"}},\"title\":{\"x\":0.5,\"xanchor\":\"center\"},\"xaxis\":{\"automargin\":true,\"gridcolor\":\"rgb(232,232,232)\",\"linecolor\":\"rgb(36,36,36)\",\"showgrid\":true,\"showline\":true,\"ticks\":\"outside\",\"title\":{\"standoff\":15},\"zeroline\":false,\"zerolinecolor\":\"rgb(36,36,36)\"},\"yaxis\":{\"automargin\":true,\"gridcolor\":\"rgb(232,232,232)\",\"linecolor\":\"rgb(36,36,36)\",\"showgrid\":true,\"showline\":true,\"ticks\":\"outside\",\"title\":{\"standoff\":15},\"zeroline\":false,\"zerolinecolor\":\"rgb(36,36,36)\"},\"autosize\":true,\"height\":400,\"margin\":{\"b\":30,\"l\":30,\"r\":30,\"t\":30},\"width\":600}},\"xaxis\":{\"anchor\":\"y\",\"domain\":[0.0,1.0],\"title\":{\"text\":\"value\"}},\"yaxis\":{\"anchor\":\"x\",\"domain\":[0.0,1.0],\"title\":{\"text\":\"count\"}},\"legend\":{\"title\":{\"text\":\"variable\"},\"tracegroupgap\":0},\"barmode\":\"relative\"},                        {\"responsive\": true}                    ).then(function(){\n",
       "                            \n",
       "var gd = document.getElementById('5492ee18-ae41-4db3-bd3e-74fa85781ea5');\n",
       "var x = new MutationObserver(function (mutations, observer) {{\n",
       "        var display = window.getComputedStyle(gd).display;\n",
       "        if (!display || display === 'none') {{\n",
       "            console.log([gd, 'removed!']);\n",
       "            Plotly.purge(gd);\n",
       "            observer.disconnect();\n",
       "        }}\n",
       "}});\n",
       "\n",
       "// Listen for the removal of the full notebook cells\n",
       "var notebookContainer = gd.closest('#notebook-container');\n",
       "if (notebookContainer) {{\n",
       "    x.observe(notebookContainer, {childList: true});\n",
       "}}\n",
       "\n",
       "// Listen for the clearing of the current output cell\n",
       "var outputEl = gd.closest('.output');\n",
       "if (outputEl) {{\n",
       "    x.observe(outputEl, {childList: true});\n",
       "}}\n",
       "\n",
       "                        })                };                });            </script>        </div>"
      ]
     },
     "metadata": {},
     "output_type": "display_data"
    }
   ],
   "source": [
    "px.histogram(insp['score'])"
   ]
  },
  {
   "cell_type": "code",
   "execution_count": 13,
   "id": "e74310df",
   "metadata": {},
   "outputs": [
    {
     "data": {
      "text/plain": [
       "Index(['custom_id', 'business_id', 'inspection_id', 'description', 'type',\n",
       "       'score', 'grade', 'completed_date', 'status', 'link', 'status_link'],\n",
       "      dtype='object')"
      ]
     },
     "execution_count": 13,
     "metadata": {},
     "output_type": "execute_result"
    }
   ],
   "source": [
    "insp.columns"
   ]
  },
  {
   "cell_type": "markdown",
   "id": "56de6973",
   "metadata": {
    "slideshow": {
     "slide_type": "slide"
    }
   },
   "source": [
    "How about the distribution of average inspection `'score'` per `'grade'`?"
   ]
  },
  {
   "cell_type": "code",
   "execution_count": 14,
   "id": "ace9f95d",
   "metadata": {},
   "outputs": [
    {
     "data": {
      "text/html": [
       "<div>\n",
       "<style scoped>\n",
       "    .dataframe tbody tr th:only-of-type {\n",
       "        vertical-align: middle;\n",
       "    }\n",
       "\n",
       "    .dataframe tbody tr th {\n",
       "        vertical-align: top;\n",
       "    }\n",
       "\n",
       "    .dataframe thead th {\n",
       "        text-align: right;\n",
       "    }\n",
       "</style>\n",
       "<table border=\"1\" class=\"dataframe\">\n",
       "  <thead>\n",
       "    <tr style=\"text-align: right;\">\n",
       "      <th></th>\n",
       "      <th>grade</th>\n",
       "      <th>score</th>\n",
       "    </tr>\n",
       "  </thead>\n",
       "  <tbody>\n",
       "    <tr>\n",
       "      <th>0</th>\n",
       "      <td>A</td>\n",
       "      <td>97.27</td>\n",
       "    </tr>\n",
       "    <tr>\n",
       "      <th>1</th>\n",
       "      <td>B</td>\n",
       "      <td>81.91</td>\n",
       "    </tr>\n",
       "  </tbody>\n",
       "</table>\n",
       "</div>"
      ],
      "text/plain": [
       "  grade  score\n",
       "0     A  97.27\n",
       "1     B  81.91"
      ]
     },
     "execution_count": 14,
     "metadata": {},
     "output_type": "execute_result"
    }
   ],
   "source": [
    "scores = (\n",
    "    insp[['grade', 'score']]\n",
    "    .groupby('grade')\n",
    "    .mean()\n",
    "    .reset_index()\n",
    ")\n",
    "scores"
   ]
  },
  {
   "cell_type": "code",
   "execution_count": 15,
   "id": "9e201097",
   "metadata": {},
   "outputs": [
    {
     "data": {
      "text/html": [
       "<div>                            <div id=\"668241d0-9562-48be-832b-9d5e1b55b9a9\" class=\"plotly-graph-div\" style=\"height:400px; width:600px;\"></div>            <script type=\"text/javascript\">                require([\"plotly\"], function(Plotly) {                    window.PLOTLYENV=window.PLOTLYENV || {};                                    if (document.getElementById(\"668241d0-9562-48be-832b-9d5e1b55b9a9\")) {                    Plotly.newPlot(                        \"668241d0-9562-48be-832b-9d5e1b55b9a9\",                        [{\"alignmentgroup\":\"True\",\"hovertemplate\":\"grade=%{x}\\u003cbr\\u003escore=%{y}\\u003cextra\\u003e\\u003c\\u002fextra\\u003e\",\"legendgroup\":\"\",\"marker\":{\"color\":\"#1F77B4\",\"pattern\":{\"shape\":\"\"}},\"name\":\"\",\"offsetgroup\":\"\",\"orientation\":\"v\",\"showlegend\":false,\"textposition\":\"auto\",\"x\":[\"A\",\"B\"],\"xaxis\":\"x\",\"y\":[97.2686366689053,81.9090909090909],\"yaxis\":\"y\",\"type\":\"bar\"}],                        {\"template\":{\"data\":{\"barpolar\":[{\"marker\":{\"line\":{\"color\":\"white\",\"width\":0.5},\"pattern\":{\"fillmode\":\"overlay\",\"size\":10,\"solidity\":0.2}},\"type\":\"barpolar\"}],\"bar\":[{\"error_x\":{\"color\":\"rgb(36,36,36)\"},\"error_y\":{\"color\":\"rgb(36,36,36)\"},\"marker\":{\"line\":{\"color\":\"white\",\"width\":0.5},\"pattern\":{\"fillmode\":\"overlay\",\"size\":10,\"solidity\":0.2}},\"type\":\"bar\"}],\"carpet\":[{\"aaxis\":{\"endlinecolor\":\"rgb(36,36,36)\",\"gridcolor\":\"white\",\"linecolor\":\"white\",\"minorgridcolor\":\"white\",\"startlinecolor\":\"rgb(36,36,36)\"},\"baxis\":{\"endlinecolor\":\"rgb(36,36,36)\",\"gridcolor\":\"white\",\"linecolor\":\"white\",\"minorgridcolor\":\"white\",\"startlinecolor\":\"rgb(36,36,36)\"},\"type\":\"carpet\"}],\"choropleth\":[{\"colorbar\":{\"outlinewidth\":1,\"tickcolor\":\"rgb(36,36,36)\",\"ticks\":\"outside\"},\"type\":\"choropleth\"}],\"contourcarpet\":[{\"colorbar\":{\"outlinewidth\":1,\"tickcolor\":\"rgb(36,36,36)\",\"ticks\":\"outside\"},\"type\":\"contourcarpet\"}],\"contour\":[{\"colorbar\":{\"outlinewidth\":1,\"tickcolor\":\"rgb(36,36,36)\",\"ticks\":\"outside\"},\"colorscale\":[[0.0,\"#440154\"],[0.1111111111111111,\"#482878\"],[0.2222222222222222,\"#3e4989\"],[0.3333333333333333,\"#31688e\"],[0.4444444444444444,\"#26828e\"],[0.5555555555555556,\"#1f9e89\"],[0.6666666666666666,\"#35b779\"],[0.7777777777777778,\"#6ece58\"],[0.8888888888888888,\"#b5de2b\"],[1.0,\"#fde725\"]],\"type\":\"contour\"}],\"heatmapgl\":[{\"colorbar\":{\"outlinewidth\":1,\"tickcolor\":\"rgb(36,36,36)\",\"ticks\":\"outside\"},\"colorscale\":[[0.0,\"#440154\"],[0.1111111111111111,\"#482878\"],[0.2222222222222222,\"#3e4989\"],[0.3333333333333333,\"#31688e\"],[0.4444444444444444,\"#26828e\"],[0.5555555555555556,\"#1f9e89\"],[0.6666666666666666,\"#35b779\"],[0.7777777777777778,\"#6ece58\"],[0.8888888888888888,\"#b5de2b\"],[1.0,\"#fde725\"]],\"type\":\"heatmapgl\"}],\"heatmap\":[{\"colorbar\":{\"outlinewidth\":1,\"tickcolor\":\"rgb(36,36,36)\",\"ticks\":\"outside\"},\"colorscale\":[[0.0,\"#440154\"],[0.1111111111111111,\"#482878\"],[0.2222222222222222,\"#3e4989\"],[0.3333333333333333,\"#31688e\"],[0.4444444444444444,\"#26828e\"],[0.5555555555555556,\"#1f9e89\"],[0.6666666666666666,\"#35b779\"],[0.7777777777777778,\"#6ece58\"],[0.8888888888888888,\"#b5de2b\"],[1.0,\"#fde725\"]],\"type\":\"heatmap\"}],\"histogram2dcontour\":[{\"colorbar\":{\"outlinewidth\":1,\"tickcolor\":\"rgb(36,36,36)\",\"ticks\":\"outside\"},\"colorscale\":[[0.0,\"#440154\"],[0.1111111111111111,\"#482878\"],[0.2222222222222222,\"#3e4989\"],[0.3333333333333333,\"#31688e\"],[0.4444444444444444,\"#26828e\"],[0.5555555555555556,\"#1f9e89\"],[0.6666666666666666,\"#35b779\"],[0.7777777777777778,\"#6ece58\"],[0.8888888888888888,\"#b5de2b\"],[1.0,\"#fde725\"]],\"type\":\"histogram2dcontour\"}],\"histogram2d\":[{\"colorbar\":{\"outlinewidth\":1,\"tickcolor\":\"rgb(36,36,36)\",\"ticks\":\"outside\"},\"colorscale\":[[0.0,\"#440154\"],[0.1111111111111111,\"#482878\"],[0.2222222222222222,\"#3e4989\"],[0.3333333333333333,\"#31688e\"],[0.4444444444444444,\"#26828e\"],[0.5555555555555556,\"#1f9e89\"],[0.6666666666666666,\"#35b779\"],[0.7777777777777778,\"#6ece58\"],[0.8888888888888888,\"#b5de2b\"],[1.0,\"#fde725\"]],\"type\":\"histogram2d\"}],\"histogram\":[{\"marker\":{\"line\":{\"color\":\"white\",\"width\":0.6}},\"type\":\"histogram\"}],\"mesh3d\":[{\"colorbar\":{\"outlinewidth\":1,\"tickcolor\":\"rgb(36,36,36)\",\"ticks\":\"outside\"},\"type\":\"mesh3d\"}],\"parcoords\":[{\"line\":{\"colorbar\":{\"outlinewidth\":1,\"tickcolor\":\"rgb(36,36,36)\",\"ticks\":\"outside\"}},\"type\":\"parcoords\"}],\"pie\":[{\"automargin\":true,\"type\":\"pie\"}],\"scatter3d\":[{\"line\":{\"colorbar\":{\"outlinewidth\":1,\"tickcolor\":\"rgb(36,36,36)\",\"ticks\":\"outside\"}},\"marker\":{\"colorbar\":{\"outlinewidth\":1,\"tickcolor\":\"rgb(36,36,36)\",\"ticks\":\"outside\"}},\"type\":\"scatter3d\"}],\"scattercarpet\":[{\"marker\":{\"colorbar\":{\"outlinewidth\":1,\"tickcolor\":\"rgb(36,36,36)\",\"ticks\":\"outside\"}},\"type\":\"scattercarpet\"}],\"scattergeo\":[{\"marker\":{\"colorbar\":{\"outlinewidth\":1,\"tickcolor\":\"rgb(36,36,36)\",\"ticks\":\"outside\"}},\"type\":\"scattergeo\"}],\"scattergl\":[{\"marker\":{\"colorbar\":{\"outlinewidth\":1,\"tickcolor\":\"rgb(36,36,36)\",\"ticks\":\"outside\"}},\"type\":\"scattergl\"}],\"scattermapbox\":[{\"marker\":{\"colorbar\":{\"outlinewidth\":1,\"tickcolor\":\"rgb(36,36,36)\",\"ticks\":\"outside\"}},\"type\":\"scattermapbox\"}],\"scatterpolargl\":[{\"marker\":{\"colorbar\":{\"outlinewidth\":1,\"tickcolor\":\"rgb(36,36,36)\",\"ticks\":\"outside\"}},\"type\":\"scatterpolargl\"}],\"scatterpolar\":[{\"marker\":{\"colorbar\":{\"outlinewidth\":1,\"tickcolor\":\"rgb(36,36,36)\",\"ticks\":\"outside\"}},\"type\":\"scatterpolar\"}],\"scatter\":[{\"fillpattern\":{\"fillmode\":\"overlay\",\"size\":10,\"solidity\":0.2},\"type\":\"scatter\"}],\"scatterternary\":[{\"marker\":{\"colorbar\":{\"outlinewidth\":1,\"tickcolor\":\"rgb(36,36,36)\",\"ticks\":\"outside\"}},\"type\":\"scatterternary\"}],\"surface\":[{\"colorbar\":{\"outlinewidth\":1,\"tickcolor\":\"rgb(36,36,36)\",\"ticks\":\"outside\"},\"colorscale\":[[0.0,\"#440154\"],[0.1111111111111111,\"#482878\"],[0.2222222222222222,\"#3e4989\"],[0.3333333333333333,\"#31688e\"],[0.4444444444444444,\"#26828e\"],[0.5555555555555556,\"#1f9e89\"],[0.6666666666666666,\"#35b779\"],[0.7777777777777778,\"#6ece58\"],[0.8888888888888888,\"#b5de2b\"],[1.0,\"#fde725\"]],\"type\":\"surface\"}],\"table\":[{\"cells\":{\"fill\":{\"color\":\"rgb(237,237,237)\"},\"line\":{\"color\":\"white\"}},\"header\":{\"fill\":{\"color\":\"rgb(217,217,217)\"},\"line\":{\"color\":\"white\"}},\"type\":\"table\"}]},\"layout\":{\"annotationdefaults\":{\"arrowhead\":0,\"arrowwidth\":1},\"autotypenumbers\":\"strict\",\"coloraxis\":{\"colorbar\":{\"outlinewidth\":1,\"tickcolor\":\"rgb(36,36,36)\",\"ticks\":\"outside\"}},\"colorscale\":{\"diverging\":[[0.0,\"rgb(103,0,31)\"],[0.1,\"rgb(178,24,43)\"],[0.2,\"rgb(214,96,77)\"],[0.3,\"rgb(244,165,130)\"],[0.4,\"rgb(253,219,199)\"],[0.5,\"rgb(247,247,247)\"],[0.6,\"rgb(209,229,240)\"],[0.7,\"rgb(146,197,222)\"],[0.8,\"rgb(67,147,195)\"],[0.9,\"rgb(33,102,172)\"],[1.0,\"rgb(5,48,97)\"]],\"sequential\":[[0.0,\"#440154\"],[0.1111111111111111,\"#482878\"],[0.2222222222222222,\"#3e4989\"],[0.3333333333333333,\"#31688e\"],[0.4444444444444444,\"#26828e\"],[0.5555555555555556,\"#1f9e89\"],[0.6666666666666666,\"#35b779\"],[0.7777777777777778,\"#6ece58\"],[0.8888888888888888,\"#b5de2b\"],[1.0,\"#fde725\"]],\"sequentialminus\":[[0.0,\"#440154\"],[0.1111111111111111,\"#482878\"],[0.2222222222222222,\"#3e4989\"],[0.3333333333333333,\"#31688e\"],[0.4444444444444444,\"#26828e\"],[0.5555555555555556,\"#1f9e89\"],[0.6666666666666666,\"#35b779\"],[0.7777777777777778,\"#6ece58\"],[0.8888888888888888,\"#b5de2b\"],[1.0,\"#fde725\"]]},\"colorway\":[\"#1F77B4\",\"#FF7F0E\",\"#2CA02C\",\"#D62728\",\"#9467BD\",\"#8C564B\",\"#E377C2\",\"#7F7F7F\",\"#BCBD22\",\"#17BECF\"],\"font\":{\"color\":\"rgb(36,36,36)\"},\"geo\":{\"bgcolor\":\"white\",\"lakecolor\":\"white\",\"landcolor\":\"white\",\"showlakes\":true,\"showland\":true,\"subunitcolor\":\"white\"},\"hoverlabel\":{\"align\":\"left\"},\"hovermode\":\"closest\",\"mapbox\":{\"style\":\"light\"},\"paper_bgcolor\":\"white\",\"plot_bgcolor\":\"white\",\"polar\":{\"angularaxis\":{\"gridcolor\":\"rgb(232,232,232)\",\"linecolor\":\"rgb(36,36,36)\",\"showgrid\":false,\"showline\":true,\"ticks\":\"outside\"},\"bgcolor\":\"white\",\"radialaxis\":{\"gridcolor\":\"rgb(232,232,232)\",\"linecolor\":\"rgb(36,36,36)\",\"showgrid\":false,\"showline\":true,\"ticks\":\"outside\"}},\"scene\":{\"xaxis\":{\"backgroundcolor\":\"white\",\"gridcolor\":\"rgb(232,232,232)\",\"gridwidth\":2,\"linecolor\":\"rgb(36,36,36)\",\"showbackground\":true,\"showgrid\":false,\"showline\":true,\"ticks\":\"outside\",\"zeroline\":false,\"zerolinecolor\":\"rgb(36,36,36)\"},\"yaxis\":{\"backgroundcolor\":\"white\",\"gridcolor\":\"rgb(232,232,232)\",\"gridwidth\":2,\"linecolor\":\"rgb(36,36,36)\",\"showbackground\":true,\"showgrid\":false,\"showline\":true,\"ticks\":\"outside\",\"zeroline\":false,\"zerolinecolor\":\"rgb(36,36,36)\"},\"zaxis\":{\"backgroundcolor\":\"white\",\"gridcolor\":\"rgb(232,232,232)\",\"gridwidth\":2,\"linecolor\":\"rgb(36,36,36)\",\"showbackground\":true,\"showgrid\":false,\"showline\":true,\"ticks\":\"outside\",\"zeroline\":false,\"zerolinecolor\":\"rgb(36,36,36)\"}},\"shapedefaults\":{\"fillcolor\":\"black\",\"line\":{\"width\":0},\"opacity\":0.3},\"ternary\":{\"aaxis\":{\"gridcolor\":\"rgb(232,232,232)\",\"linecolor\":\"rgb(36,36,36)\",\"showgrid\":false,\"showline\":true,\"ticks\":\"outside\"},\"baxis\":{\"gridcolor\":\"rgb(232,232,232)\",\"linecolor\":\"rgb(36,36,36)\",\"showgrid\":false,\"showline\":true,\"ticks\":\"outside\"},\"bgcolor\":\"white\",\"caxis\":{\"gridcolor\":\"rgb(232,232,232)\",\"linecolor\":\"rgb(36,36,36)\",\"showgrid\":false,\"showline\":true,\"ticks\":\"outside\"}},\"title\":{\"x\":0.5,\"xanchor\":\"center\"},\"xaxis\":{\"automargin\":true,\"gridcolor\":\"rgb(232,232,232)\",\"linecolor\":\"rgb(36,36,36)\",\"showgrid\":true,\"showline\":true,\"ticks\":\"outside\",\"title\":{\"standoff\":15},\"zeroline\":false,\"zerolinecolor\":\"rgb(36,36,36)\"},\"yaxis\":{\"automargin\":true,\"gridcolor\":\"rgb(232,232,232)\",\"linecolor\":\"rgb(36,36,36)\",\"showgrid\":true,\"showline\":true,\"ticks\":\"outside\",\"title\":{\"standoff\":15},\"zeroline\":false,\"zerolinecolor\":\"rgb(36,36,36)\"},\"autosize\":true,\"height\":400,\"margin\":{\"b\":30,\"l\":30,\"r\":30,\"t\":30},\"width\":600}},\"xaxis\":{\"anchor\":\"y\",\"domain\":[0.0,1.0],\"title\":{\"text\":\"grade\"}},\"yaxis\":{\"anchor\":\"x\",\"domain\":[0.0,1.0],\"title\":{\"text\":\"score\"}},\"legend\":{\"tracegroupgap\":0},\"barmode\":\"relative\"},                        {\"responsive\": true}                    ).then(function(){\n",
       "                            \n",
       "var gd = document.getElementById('668241d0-9562-48be-832b-9d5e1b55b9a9');\n",
       "var x = new MutationObserver(function (mutations, observer) {{\n",
       "        var display = window.getComputedStyle(gd).display;\n",
       "        if (!display || display === 'none') {{\n",
       "            console.log([gd, 'removed!']);\n",
       "            Plotly.purge(gd);\n",
       "            observer.disconnect();\n",
       "        }}\n",
       "}});\n",
       "\n",
       "// Listen for the removal of the full notebook cells\n",
       "var notebookContainer = gd.closest('#notebook-container');\n",
       "if (notebookContainer) {{\n",
       "    x.observe(notebookContainer, {childList: true});\n",
       "}}\n",
       "\n",
       "// Listen for the clearing of the current output cell\n",
       "var outputEl = gd.closest('.output');\n",
       "if (outputEl) {{\n",
       "    x.observe(outputEl, {childList: true});\n",
       "}}\n",
       "\n",
       "                        })                };                });            </script>        </div>"
      ]
     },
     "metadata": {},
     "output_type": "display_data"
    }
   ],
   "source": [
    "px.bar(scores, x='grade', y='score')"
   ]
  },
  {
   "cell_type": "code",
   "execution_count": 16,
   "id": "29b951fe",
   "metadata": {},
   "outputs": [
    {
     "data": {
      "text/html": [
       "<div>                            <div id=\"97b0f4aa-844c-4266-985c-f919ea5d61ee\" class=\"plotly-graph-div\" style=\"height:400px; width:600px;\"></div>            <script type=\"text/javascript\">                require([\"plotly\"], function(Plotly) {                    window.PLOTLYENV=window.PLOTLYENV || {};                                    if (document.getElementById(\"97b0f4aa-844c-4266-985c-f919ea5d61ee\")) {                    Plotly.newPlot(                        \"97b0f4aa-844c-4266-985c-f919ea5d61ee\",                        [{\"alignmentgroup\":\"True\",\"hovertemplate\":\"grade=%{x}\\u003cbr\\u003escore=%{y}\\u003cextra\\u003e\\u003c\\u002fextra\\u003e\",\"legendgroup\":\"\",\"marker\":{\"color\":\"#1F77B4\",\"pattern\":{\"shape\":\"\"}},\"name\":\"\",\"offsetgroup\":\"\",\"orientation\":\"v\",\"showlegend\":false,\"textposition\":\"auto\",\"x\":[\"A\",\"B\"],\"xaxis\":\"x\",\"y\":[97.2686366689053,81.9090909090909],\"yaxis\":\"y\",\"type\":\"bar\"}],                        {\"template\":{\"data\":{\"barpolar\":[{\"marker\":{\"line\":{\"color\":\"white\",\"width\":0.5},\"pattern\":{\"fillmode\":\"overlay\",\"size\":10,\"solidity\":0.2}},\"type\":\"barpolar\"}],\"bar\":[{\"error_x\":{\"color\":\"rgb(36,36,36)\"},\"error_y\":{\"color\":\"rgb(36,36,36)\"},\"marker\":{\"line\":{\"color\":\"white\",\"width\":0.5},\"pattern\":{\"fillmode\":\"overlay\",\"size\":10,\"solidity\":0.2}},\"type\":\"bar\"}],\"carpet\":[{\"aaxis\":{\"endlinecolor\":\"rgb(36,36,36)\",\"gridcolor\":\"white\",\"linecolor\":\"white\",\"minorgridcolor\":\"white\",\"startlinecolor\":\"rgb(36,36,36)\"},\"baxis\":{\"endlinecolor\":\"rgb(36,36,36)\",\"gridcolor\":\"white\",\"linecolor\":\"white\",\"minorgridcolor\":\"white\",\"startlinecolor\":\"rgb(36,36,36)\"},\"type\":\"carpet\"}],\"choropleth\":[{\"colorbar\":{\"outlinewidth\":1,\"tickcolor\":\"rgb(36,36,36)\",\"ticks\":\"outside\"},\"type\":\"choropleth\"}],\"contourcarpet\":[{\"colorbar\":{\"outlinewidth\":1,\"tickcolor\":\"rgb(36,36,36)\",\"ticks\":\"outside\"},\"type\":\"contourcarpet\"}],\"contour\":[{\"colorbar\":{\"outlinewidth\":1,\"tickcolor\":\"rgb(36,36,36)\",\"ticks\":\"outside\"},\"colorscale\":[[0.0,\"#440154\"],[0.1111111111111111,\"#482878\"],[0.2222222222222222,\"#3e4989\"],[0.3333333333333333,\"#31688e\"],[0.4444444444444444,\"#26828e\"],[0.5555555555555556,\"#1f9e89\"],[0.6666666666666666,\"#35b779\"],[0.7777777777777778,\"#6ece58\"],[0.8888888888888888,\"#b5de2b\"],[1.0,\"#fde725\"]],\"type\":\"contour\"}],\"heatmapgl\":[{\"colorbar\":{\"outlinewidth\":1,\"tickcolor\":\"rgb(36,36,36)\",\"ticks\":\"outside\"},\"colorscale\":[[0.0,\"#440154\"],[0.1111111111111111,\"#482878\"],[0.2222222222222222,\"#3e4989\"],[0.3333333333333333,\"#31688e\"],[0.4444444444444444,\"#26828e\"],[0.5555555555555556,\"#1f9e89\"],[0.6666666666666666,\"#35b779\"],[0.7777777777777778,\"#6ece58\"],[0.8888888888888888,\"#b5de2b\"],[1.0,\"#fde725\"]],\"type\":\"heatmapgl\"}],\"heatmap\":[{\"colorbar\":{\"outlinewidth\":1,\"tickcolor\":\"rgb(36,36,36)\",\"ticks\":\"outside\"},\"colorscale\":[[0.0,\"#440154\"],[0.1111111111111111,\"#482878\"],[0.2222222222222222,\"#3e4989\"],[0.3333333333333333,\"#31688e\"],[0.4444444444444444,\"#26828e\"],[0.5555555555555556,\"#1f9e89\"],[0.6666666666666666,\"#35b779\"],[0.7777777777777778,\"#6ece58\"],[0.8888888888888888,\"#b5de2b\"],[1.0,\"#fde725\"]],\"type\":\"heatmap\"}],\"histogram2dcontour\":[{\"colorbar\":{\"outlinewidth\":1,\"tickcolor\":\"rgb(36,36,36)\",\"ticks\":\"outside\"},\"colorscale\":[[0.0,\"#440154\"],[0.1111111111111111,\"#482878\"],[0.2222222222222222,\"#3e4989\"],[0.3333333333333333,\"#31688e\"],[0.4444444444444444,\"#26828e\"],[0.5555555555555556,\"#1f9e89\"],[0.6666666666666666,\"#35b779\"],[0.7777777777777778,\"#6ece58\"],[0.8888888888888888,\"#b5de2b\"],[1.0,\"#fde725\"]],\"type\":\"histogram2dcontour\"}],\"histogram2d\":[{\"colorbar\":{\"outlinewidth\":1,\"tickcolor\":\"rgb(36,36,36)\",\"ticks\":\"outside\"},\"colorscale\":[[0.0,\"#440154\"],[0.1111111111111111,\"#482878\"],[0.2222222222222222,\"#3e4989\"],[0.3333333333333333,\"#31688e\"],[0.4444444444444444,\"#26828e\"],[0.5555555555555556,\"#1f9e89\"],[0.6666666666666666,\"#35b779\"],[0.7777777777777778,\"#6ece58\"],[0.8888888888888888,\"#b5de2b\"],[1.0,\"#fde725\"]],\"type\":\"histogram2d\"}],\"histogram\":[{\"marker\":{\"line\":{\"color\":\"white\",\"width\":0.6}},\"type\":\"histogram\"}],\"mesh3d\":[{\"colorbar\":{\"outlinewidth\":1,\"tickcolor\":\"rgb(36,36,36)\",\"ticks\":\"outside\"},\"type\":\"mesh3d\"}],\"parcoords\":[{\"line\":{\"colorbar\":{\"outlinewidth\":1,\"tickcolor\":\"rgb(36,36,36)\",\"ticks\":\"outside\"}},\"type\":\"parcoords\"}],\"pie\":[{\"automargin\":true,\"type\":\"pie\"}],\"scatter3d\":[{\"line\":{\"colorbar\":{\"outlinewidth\":1,\"tickcolor\":\"rgb(36,36,36)\",\"ticks\":\"outside\"}},\"marker\":{\"colorbar\":{\"outlinewidth\":1,\"tickcolor\":\"rgb(36,36,36)\",\"ticks\":\"outside\"}},\"type\":\"scatter3d\"}],\"scattercarpet\":[{\"marker\":{\"colorbar\":{\"outlinewidth\":1,\"tickcolor\":\"rgb(36,36,36)\",\"ticks\":\"outside\"}},\"type\":\"scattercarpet\"}],\"scattergeo\":[{\"marker\":{\"colorbar\":{\"outlinewidth\":1,\"tickcolor\":\"rgb(36,36,36)\",\"ticks\":\"outside\"}},\"type\":\"scattergeo\"}],\"scattergl\":[{\"marker\":{\"colorbar\":{\"outlinewidth\":1,\"tickcolor\":\"rgb(36,36,36)\",\"ticks\":\"outside\"}},\"type\":\"scattergl\"}],\"scattermapbox\":[{\"marker\":{\"colorbar\":{\"outlinewidth\":1,\"tickcolor\":\"rgb(36,36,36)\",\"ticks\":\"outside\"}},\"type\":\"scattermapbox\"}],\"scatterpolargl\":[{\"marker\":{\"colorbar\":{\"outlinewidth\":1,\"tickcolor\":\"rgb(36,36,36)\",\"ticks\":\"outside\"}},\"type\":\"scatterpolargl\"}],\"scatterpolar\":[{\"marker\":{\"colorbar\":{\"outlinewidth\":1,\"tickcolor\":\"rgb(36,36,36)\",\"ticks\":\"outside\"}},\"type\":\"scatterpolar\"}],\"scatter\":[{\"fillpattern\":{\"fillmode\":\"overlay\",\"size\":10,\"solidity\":0.2},\"type\":\"scatter\"}],\"scatterternary\":[{\"marker\":{\"colorbar\":{\"outlinewidth\":1,\"tickcolor\":\"rgb(36,36,36)\",\"ticks\":\"outside\"}},\"type\":\"scatterternary\"}],\"surface\":[{\"colorbar\":{\"outlinewidth\":1,\"tickcolor\":\"rgb(36,36,36)\",\"ticks\":\"outside\"},\"colorscale\":[[0.0,\"#440154\"],[0.1111111111111111,\"#482878\"],[0.2222222222222222,\"#3e4989\"],[0.3333333333333333,\"#31688e\"],[0.4444444444444444,\"#26828e\"],[0.5555555555555556,\"#1f9e89\"],[0.6666666666666666,\"#35b779\"],[0.7777777777777778,\"#6ece58\"],[0.8888888888888888,\"#b5de2b\"],[1.0,\"#fde725\"]],\"type\":\"surface\"}],\"table\":[{\"cells\":{\"fill\":{\"color\":\"rgb(237,237,237)\"},\"line\":{\"color\":\"white\"}},\"header\":{\"fill\":{\"color\":\"rgb(217,217,217)\"},\"line\":{\"color\":\"white\"}},\"type\":\"table\"}]},\"layout\":{\"annotationdefaults\":{\"arrowhead\":0,\"arrowwidth\":1},\"autotypenumbers\":\"strict\",\"coloraxis\":{\"colorbar\":{\"outlinewidth\":1,\"tickcolor\":\"rgb(36,36,36)\",\"ticks\":\"outside\"}},\"colorscale\":{\"diverging\":[[0.0,\"rgb(103,0,31)\"],[0.1,\"rgb(178,24,43)\"],[0.2,\"rgb(214,96,77)\"],[0.3,\"rgb(244,165,130)\"],[0.4,\"rgb(253,219,199)\"],[0.5,\"rgb(247,247,247)\"],[0.6,\"rgb(209,229,240)\"],[0.7,\"rgb(146,197,222)\"],[0.8,\"rgb(67,147,195)\"],[0.9,\"rgb(33,102,172)\"],[1.0,\"rgb(5,48,97)\"]],\"sequential\":[[0.0,\"#440154\"],[0.1111111111111111,\"#482878\"],[0.2222222222222222,\"#3e4989\"],[0.3333333333333333,\"#31688e\"],[0.4444444444444444,\"#26828e\"],[0.5555555555555556,\"#1f9e89\"],[0.6666666666666666,\"#35b779\"],[0.7777777777777778,\"#6ece58\"],[0.8888888888888888,\"#b5de2b\"],[1.0,\"#fde725\"]],\"sequentialminus\":[[0.0,\"#440154\"],[0.1111111111111111,\"#482878\"],[0.2222222222222222,\"#3e4989\"],[0.3333333333333333,\"#31688e\"],[0.4444444444444444,\"#26828e\"],[0.5555555555555556,\"#1f9e89\"],[0.6666666666666666,\"#35b779\"],[0.7777777777777778,\"#6ece58\"],[0.8888888888888888,\"#b5de2b\"],[1.0,\"#fde725\"]]},\"colorway\":[\"#1F77B4\",\"#FF7F0E\",\"#2CA02C\",\"#D62728\",\"#9467BD\",\"#8C564B\",\"#E377C2\",\"#7F7F7F\",\"#BCBD22\",\"#17BECF\"],\"font\":{\"color\":\"rgb(36,36,36)\"},\"geo\":{\"bgcolor\":\"white\",\"lakecolor\":\"white\",\"landcolor\":\"white\",\"showlakes\":true,\"showland\":true,\"subunitcolor\":\"white\"},\"hoverlabel\":{\"align\":\"left\"},\"hovermode\":\"closest\",\"mapbox\":{\"style\":\"light\"},\"paper_bgcolor\":\"white\",\"plot_bgcolor\":\"white\",\"polar\":{\"angularaxis\":{\"gridcolor\":\"rgb(232,232,232)\",\"linecolor\":\"rgb(36,36,36)\",\"showgrid\":false,\"showline\":true,\"ticks\":\"outside\"},\"bgcolor\":\"white\",\"radialaxis\":{\"gridcolor\":\"rgb(232,232,232)\",\"linecolor\":\"rgb(36,36,36)\",\"showgrid\":false,\"showline\":true,\"ticks\":\"outside\"}},\"scene\":{\"xaxis\":{\"backgroundcolor\":\"white\",\"gridcolor\":\"rgb(232,232,232)\",\"gridwidth\":2,\"linecolor\":\"rgb(36,36,36)\",\"showbackground\":true,\"showgrid\":false,\"showline\":true,\"ticks\":\"outside\",\"zeroline\":false,\"zerolinecolor\":\"rgb(36,36,36)\"},\"yaxis\":{\"backgroundcolor\":\"white\",\"gridcolor\":\"rgb(232,232,232)\",\"gridwidth\":2,\"linecolor\":\"rgb(36,36,36)\",\"showbackground\":true,\"showgrid\":false,\"showline\":true,\"ticks\":\"outside\",\"zeroline\":false,\"zerolinecolor\":\"rgb(36,36,36)\"},\"zaxis\":{\"backgroundcolor\":\"white\",\"gridcolor\":\"rgb(232,232,232)\",\"gridwidth\":2,\"linecolor\":\"rgb(36,36,36)\",\"showbackground\":true,\"showgrid\":false,\"showline\":true,\"ticks\":\"outside\",\"zeroline\":false,\"zerolinecolor\":\"rgb(36,36,36)\"}},\"shapedefaults\":{\"fillcolor\":\"black\",\"line\":{\"width\":0},\"opacity\":0.3},\"ternary\":{\"aaxis\":{\"gridcolor\":\"rgb(232,232,232)\",\"linecolor\":\"rgb(36,36,36)\",\"showgrid\":false,\"showline\":true,\"ticks\":\"outside\"},\"baxis\":{\"gridcolor\":\"rgb(232,232,232)\",\"linecolor\":\"rgb(36,36,36)\",\"showgrid\":false,\"showline\":true,\"ticks\":\"outside\"},\"bgcolor\":\"white\",\"caxis\":{\"gridcolor\":\"rgb(232,232,232)\",\"linecolor\":\"rgb(36,36,36)\",\"showgrid\":false,\"showline\":true,\"ticks\":\"outside\"}},\"title\":{\"x\":0.5,\"xanchor\":\"center\"},\"xaxis\":{\"automargin\":true,\"gridcolor\":\"rgb(232,232,232)\",\"linecolor\":\"rgb(36,36,36)\",\"showgrid\":true,\"showline\":true,\"ticks\":\"outside\",\"title\":{\"standoff\":15},\"zeroline\":false,\"zerolinecolor\":\"rgb(36,36,36)\"},\"yaxis\":{\"automargin\":true,\"gridcolor\":\"rgb(232,232,232)\",\"linecolor\":\"rgb(36,36,36)\",\"showgrid\":true,\"showline\":true,\"ticks\":\"outside\",\"title\":{\"standoff\":15},\"zeroline\":false,\"zerolinecolor\":\"rgb(36,36,36)\"},\"autosize\":true,\"height\":400,\"margin\":{\"b\":30,\"l\":30,\"r\":30,\"t\":30},\"width\":600}},\"xaxis\":{\"anchor\":\"y\",\"domain\":[0.0,1.0],\"title\":{\"text\":\"grade\"}},\"yaxis\":{\"anchor\":\"x\",\"domain\":[0.0,1.0],\"title\":{\"text\":\"score\"}},\"legend\":{\"tracegroupgap\":0},\"barmode\":\"relative\"},                        {\"responsive\": true}                    ).then(function(){\n",
       "                            \n",
       "var gd = document.getElementById('97b0f4aa-844c-4266-985c-f919ea5d61ee');\n",
       "var x = new MutationObserver(function (mutations, observer) {{\n",
       "        var display = window.getComputedStyle(gd).display;\n",
       "        if (!display || display === 'none') {{\n",
       "            console.log([gd, 'removed!']);\n",
       "            Plotly.purge(gd);\n",
       "            observer.disconnect();\n",
       "        }}\n",
       "}});\n",
       "\n",
       "// Listen for the removal of the full notebook cells\n",
       "var notebookContainer = gd.closest('#notebook-container');\n",
       "if (notebookContainer) {{\n",
       "    x.observe(notebookContainer, {childList: true});\n",
       "}}\n",
       "\n",
       "// Listen for the clearing of the current output cell\n",
       "var outputEl = gd.closest('.output');\n",
       "if (outputEl) {{\n",
       "    x.observe(outputEl, {childList: true});\n",
       "}}\n",
       "\n",
       "                        })                };                });            </script>        </div>"
      ]
     },
     "metadata": {},
     "output_type": "display_data"
    }
   ],
   "source": [
    "scores.plot(kind='bar', x='grade', y='score')"
   ]
  },
  {
   "cell_type": "markdown",
   "id": "c16546d9",
   "metadata": {
    "slideshow": {
     "slide_type": "slide"
    }
   },
   "source": [
    "## Exploratory data analysis and feature types"
   ]
  },
  {
   "cell_type": "markdown",
   "id": "50511216",
   "metadata": {
    "slideshow": {
     "slide_type": "slide"
    }
   },
   "source": [
    "### The data science lifecycle, revisited\n",
    "\n",
    "<center>\n",
    "    <img src=\"imgs/ds-lifecycle.svg\" width=50%>\n",
    "</center>\n",
    "\n",
    "We're at the stage of **understanding the data**."
   ]
  },
  {
   "cell_type": "markdown",
   "id": "5c4dcfca",
   "metadata": {
    "slideshow": {
     "slide_type": "slide"
    }
   },
   "source": [
    "### Exploratory data analysis (EDA)"
   ]
  },
  {
   "cell_type": "markdown",
   "id": "f132e354",
   "metadata": {
    "slideshow": {
     "slide_type": "fragment"
    }
   },
   "source": [
    "- Historically, data analysis was dominated by formal statistics, including tools like confidence intervals, hypothesis tests, and statistical modeling."
   ]
  },
  {
   "cell_type": "markdown",
   "id": "c719dca9",
   "metadata": {
    "slideshow": {
     "slide_type": "fragment"
    }
   },
   "source": [
    "- In 1977, John Tukey [defined](https://search.worldcat.org/title/3058187) the term **exploratory data analysis**, which described a philosophy for proceeding about data analysis:\n",
    "\n",
    "> Exploratory data analysis is actively incisive, rather than passively descriptive, with real emphasis on the discovery of the unexpected.\n",
    "\n"
   ]
  },
  {
   "cell_type": "markdown",
   "id": "81e8ed6b",
   "metadata": {
    "slideshow": {
     "slide_type": "fragment"
    }
   },
   "source": [
    "- Practically, EDA involves, among other things, computing summary statistics and drawing plots to understand the nature of the data at hand.\n",
    "\n",
    "> The greatest gains from data come from surprises… The unexpected is best brought to our attention by **pictures**."
   ]
  },
  {
   "cell_type": "markdown",
   "id": "0b41ad00",
   "metadata": {
    "slideshow": {
     "slide_type": "slide"
    }
   },
   "source": [
    "### Different feature types\n",
    "\n",
    "<center><img src='imgs/data-types.png' width=90%></center>"
   ]
  },
  {
   "cell_type": "markdown",
   "id": "7d7696f2",
   "metadata": {
    "slideshow": {
     "slide_type": "slide"
    }
   },
   "source": [
    "<div class=\"alert alert-success\" markdown=\"1\">\n",
    "    <h3>Exercise</h3>\n",
    "    Determine the <b>feature type</b> of each of the following variables.\n",
    "    \n",
    "- `insp['score']`\n",
    "- `insp['grade']`\n",
    "- `viol['violation_accela']`\n",
    "- `viol['major_violation']`\n",
    "- `rest['business_id']`\n",
    "- `rest['opened_date']`\n",
    "\n",
    "</div>\n",
    "\n"
   ]
  },
  {
   "cell_type": "code",
   "execution_count": 26,
   "id": "252004ad",
   "metadata": {},
   "outputs": [
    {
     "data": {
      "text/html": [
       "<div>\n",
       "<style scoped>\n",
       "    .dataframe tbody tr th:only-of-type {\n",
       "        vertical-align: middle;\n",
       "    }\n",
       "\n",
       "    .dataframe tbody tr th {\n",
       "        vertical-align: top;\n",
       "    }\n",
       "\n",
       "    .dataframe thead th {\n",
       "        text-align: right;\n",
       "    }\n",
       "</style>\n",
       "<table border=\"1\" class=\"dataframe\">\n",
       "  <thead>\n",
       "    <tr style=\"text-align: right;\">\n",
       "      <th></th>\n",
       "      <th>business_id</th>\n",
       "      <th>name</th>\n",
       "      <th>business_type</th>\n",
       "      <th>address</th>\n",
       "      <th>...</th>\n",
       "      <th>lat</th>\n",
       "      <th>long</th>\n",
       "      <th>opened_date</th>\n",
       "      <th>distance</th>\n",
       "    </tr>\n",
       "  </thead>\n",
       "  <tbody>\n",
       "    <tr>\n",
       "      <th>0</th>\n",
       "      <td>211898487641</td>\n",
       "      <td>MOBIL MART LA JOLLA VILLAGE</td>\n",
       "      <td>Pre-Packaged Retail Market</td>\n",
       "      <td>3233 LA JOLLA VILLAGE DR, LA JOLLA, CA 92037</td>\n",
       "      <td>...</td>\n",
       "      <td>32.87</td>\n",
       "      <td>-117.23</td>\n",
       "      <td>2002-05-05</td>\n",
       "      <td>0.62</td>\n",
       "    </tr>\n",
       "    <tr>\n",
       "      <th>1</th>\n",
       "      <td>211930769329</td>\n",
       "      <td>CAFE 477</td>\n",
       "      <td>Low Risk Food Facility</td>\n",
       "      <td>8950 VILLA LA JOLLA DR, SUITE# B123, LA JOLLA,...</td>\n",
       "      <td>...</td>\n",
       "      <td>32.87</td>\n",
       "      <td>-117.24</td>\n",
       "      <td>2023-07-24</td>\n",
       "      <td>0.64</td>\n",
       "    </tr>\n",
       "    <tr>\n",
       "      <th>2</th>\n",
       "      <td>211909057778</td>\n",
       "      <td>VALLEY FARM MARKET</td>\n",
       "      <td>Retail Market with Deli</td>\n",
       "      <td>6902 LA JOLLA BLVD, LA JOLLA, CA 92037</td>\n",
       "      <td>...</td>\n",
       "      <td>32.87</td>\n",
       "      <td>-117.24</td>\n",
       "      <td>2019-01-22</td>\n",
       "      <td>0.64</td>\n",
       "    </tr>\n",
       "    <tr>\n",
       "      <th>...</th>\n",
       "      <td>...</td>\n",
       "      <td>...</td>\n",
       "      <td>...</td>\n",
       "      <td>...</td>\n",
       "      <td>...</td>\n",
       "      <td>...</td>\n",
       "      <td>...</td>\n",
       "      <td>...</td>\n",
       "      <td>...</td>\n",
       "    </tr>\n",
       "    <tr>\n",
       "      <th>997</th>\n",
       "      <td>211899338714</td>\n",
       "      <td>PACIFIC BEACH ELEMENTARY</td>\n",
       "      <td>School Processing Food Facility</td>\n",
       "      <td>1234 TOURMALINE ST, SAN DIEGO, CA 92109-1856</td>\n",
       "      <td>...</td>\n",
       "      <td>32.81</td>\n",
       "      <td>-117.25</td>\n",
       "      <td>2002-05-05</td>\n",
       "      <td>4.97</td>\n",
       "    </tr>\n",
       "    <tr>\n",
       "      <th>998</th>\n",
       "      <td>211942150255</td>\n",
       "      <td>POKEWAN DEL MAR</td>\n",
       "      <td>Restaurant Food Facility</td>\n",
       "      <td>12925 EL CAMINO REAL, SUITE# AA4, SAN DIEGO, C...</td>\n",
       "      <td>...</td>\n",
       "      <td>32.95</td>\n",
       "      <td>-117.23</td>\n",
       "      <td>2016-11-03</td>\n",
       "      <td>4.97</td>\n",
       "    </tr>\n",
       "    <tr>\n",
       "      <th>999</th>\n",
       "      <td>211925713322</td>\n",
       "      <td>SAFFRONO LOUNGE RESTAURANT</td>\n",
       "      <td>Restaurant Food Facility</td>\n",
       "      <td>2672 DEL MAR HEIGHTS RD, DEL MAR, CA 92014</td>\n",
       "      <td>...</td>\n",
       "      <td>32.95</td>\n",
       "      <td>-117.25</td>\n",
       "      <td>2022-11-03</td>\n",
       "      <td>4.97</td>\n",
       "    </tr>\n",
       "  </tbody>\n",
       "</table>\n",
       "<p>1000 rows × 12 columns</p>\n",
       "</div>"
      ],
      "text/plain": [
       "      business_id                         name  \\\n",
       "0    211898487641  MOBIL MART LA JOLLA VILLAGE   \n",
       "1    211930769329                     CAFE 477   \n",
       "2    211909057778           VALLEY FARM MARKET   \n",
       "..            ...                          ...   \n",
       "997  211899338714     PACIFIC BEACH ELEMENTARY   \n",
       "998  211942150255              POKEWAN DEL MAR   \n",
       "999  211925713322   SAFFRONO LOUNGE RESTAURANT   \n",
       "\n",
       "                       business_type  \\\n",
       "0         Pre-Packaged Retail Market   \n",
       "1             Low Risk Food Facility   \n",
       "2            Retail Market with Deli   \n",
       "..                               ...   \n",
       "997  School Processing Food Facility   \n",
       "998         Restaurant Food Facility   \n",
       "999         Restaurant Food Facility   \n",
       "\n",
       "                                               address  ...    lat    long  \\\n",
       "0         3233 LA JOLLA VILLAGE DR, LA JOLLA, CA 92037  ...  32.87 -117.23   \n",
       "1    8950 VILLA LA JOLLA DR, SUITE# B123, LA JOLLA,...  ...  32.87 -117.24   \n",
       "2               6902 LA JOLLA BLVD, LA JOLLA, CA 92037  ...  32.87 -117.24   \n",
       "..                                                 ...  ...    ...     ...   \n",
       "997       1234 TOURMALINE ST, SAN DIEGO, CA 92109-1856  ...  32.81 -117.25   \n",
       "998  12925 EL CAMINO REAL, SUITE# AA4, SAN DIEGO, C...  ...  32.95 -117.23   \n",
       "999         2672 DEL MAR HEIGHTS RD, DEL MAR, CA 92014  ...  32.95 -117.25   \n",
       "\n",
       "    opened_date distance  \n",
       "0    2002-05-05     0.62  \n",
       "1    2023-07-24     0.64  \n",
       "2    2019-01-22     0.64  \n",
       "..          ...      ...  \n",
       "997  2002-05-05     4.97  \n",
       "998  2016-11-03     4.97  \n",
       "999  2022-11-03     4.97  \n",
       "\n",
       "[1000 rows x 12 columns]"
      ]
     },
     "execution_count": 26,
     "metadata": {},
     "output_type": "execute_result"
    }
   ],
   "source": [
    "# Your code goes here.\n",
    "rest"
   ]
  },
  {
   "cell_type": "code",
   "execution_count": 18,
   "id": "166c5780",
   "metadata": {},
   "outputs": [
    {
     "data": {
      "text/plain": [
       "0       96\n",
       "1       98\n",
       "2       98\n",
       "        ..\n",
       "5176     0\n",
       "5177     0\n",
       "5178    90\n",
       "Name: score, Length: 5179, dtype: int64"
      ]
     },
     "execution_count": 18,
     "metadata": {},
     "output_type": "execute_result"
    }
   ],
   "source": [
    "insp['score']\n",
    "#continuous"
   ]
  },
  {
   "cell_type": "code",
   "execution_count": 19,
   "id": "ca685bd8",
   "metadata": {},
   "outputs": [
    {
     "data": {
      "text/plain": [
       "A    2978\n",
       "B      11\n",
       "Name: grade, dtype: int64"
      ]
     },
     "execution_count": 19,
     "metadata": {},
     "output_type": "execute_result"
    }
   ],
   "source": [
    "insp['grade'].value_counts()\n",
    "#grade is ordinal"
   ]
  },
  {
   "cell_type": "code",
   "execution_count": 27,
   "id": "d6ef21b5",
   "metadata": {},
   "outputs": [
    {
     "data": {
      "text/html": [
       "<div>\n",
       "<style scoped>\n",
       "    .dataframe tbody tr th:only-of-type {\n",
       "        vertical-align: middle;\n",
       "    }\n",
       "\n",
       "    .dataframe tbody tr th {\n",
       "        vertical-align: top;\n",
       "    }\n",
       "\n",
       "    .dataframe thead th {\n",
       "        text-align: right;\n",
       "    }\n",
       "</style>\n",
       "<table border=\"1\" class=\"dataframe\">\n",
       "  <thead>\n",
       "    <tr style=\"text-align: right;\">\n",
       "      <th></th>\n",
       "      <th>inspection_id</th>\n",
       "      <th>violation</th>\n",
       "      <th>major_violation</th>\n",
       "      <th>status</th>\n",
       "      <th>violation_text</th>\n",
       "      <th>correction_type_link</th>\n",
       "      <th>violation_accela</th>\n",
       "      <th>link</th>\n",
       "    </tr>\n",
       "  </thead>\n",
       "  <tbody>\n",
       "    <tr>\n",
       "      <th>0</th>\n",
       "      <td>6886133</td>\n",
       "      <td>Hot and Cold Water</td>\n",
       "      <td>Y</td>\n",
       "      <td>Out of Compliance - Major</td>\n",
       "      <td>Hot and Cold Water</td>\n",
       "      <td>http://www.sandiegocounty.gov/deh/fhd/ffis/vio...</td>\n",
       "      <td>21. Hot &amp; cold water available</td>\n",
       "      <td>http://www.sandiegocounty.gov/deh/fhd/ffis/vio...</td>\n",
       "    </tr>\n",
       "    <tr>\n",
       "      <th>1</th>\n",
       "      <td>6631228</td>\n",
       "      <td>Hot and Cold Water</td>\n",
       "      <td>N</td>\n",
       "      <td>Out of Compliance - Minor</td>\n",
       "      <td>Hot and Cold Water</td>\n",
       "      <td>http://www.sandiegocounty.gov/deh/fhd/ffis/vio...</td>\n",
       "      <td>21. Hot &amp; cold water available</td>\n",
       "      <td>http://www.sandiegocounty.gov/deh/fhd/ffis/vio...</td>\n",
       "    </tr>\n",
       "    <tr>\n",
       "      <th>2</th>\n",
       "      <td>6357338</td>\n",
       "      <td>Holding Temperatures</td>\n",
       "      <td>N</td>\n",
       "      <td>Out of Compliance - Minor</td>\n",
       "      <td>Holding Temperatures</td>\n",
       "      <td>http://www.sandiegocounty.gov/deh/fhd/ffis/vio...</td>\n",
       "      <td>7. Proper hot &amp; cold holding temperatures</td>\n",
       "      <td>http://www.sandiegocounty.gov/deh/fhd/ffis/vio...</td>\n",
       "    </tr>\n",
       "    <tr>\n",
       "      <th>...</th>\n",
       "      <td>...</td>\n",
       "      <td>...</td>\n",
       "      <td>...</td>\n",
       "      <td>...</td>\n",
       "      <td>...</td>\n",
       "      <td>...</td>\n",
       "      <td>...</td>\n",
       "      <td>...</td>\n",
       "    </tr>\n",
       "    <tr>\n",
       "      <th>5967</th>\n",
       "      <td>7104077</td>\n",
       "      <td>Equipment and Utensil Storage, Use</td>\n",
       "      <td>N</td>\n",
       "      <td>Out of Compliance</td>\n",
       "      <td>Equipment and Utensil Storage, Use</td>\n",
       "      <td>http://www.sandiegocounty.gov/deh/fhd/ffis/vio...</td>\n",
       "      <td>35. Equipment / Utensils -approved, installed,...</td>\n",
       "      <td>http://www.sandiegocounty.gov/deh/fhd/ffis/vio...</td>\n",
       "    </tr>\n",
       "    <tr>\n",
       "      <th>5968</th>\n",
       "      <td>7104077</td>\n",
       "      <td>Toilet Facilities</td>\n",
       "      <td>N</td>\n",
       "      <td>Out of Compliance</td>\n",
       "      <td>Toilet Facilities</td>\n",
       "      <td>http://www.sandiegocounty.gov/deh/fhd/ffis/vio...</td>\n",
       "      <td>43. Toilet facilities -properly constructed, s...</td>\n",
       "      <td>http://www.sandiegocounty.gov/deh/fhd/ffis/vio...</td>\n",
       "    </tr>\n",
       "    <tr>\n",
       "      <th>5969</th>\n",
       "      <td>7104077</td>\n",
       "      <td>Floors, Walls, and Ceilings</td>\n",
       "      <td>N</td>\n",
       "      <td>Out of Compliance</td>\n",
       "      <td>Floors, Walls, and Ceilings</td>\n",
       "      <td>http://www.sandiegocounty.gov/deh/fhd/ffis/vio...</td>\n",
       "      <td>45. Floor, walls and ceilings - built, maintai...</td>\n",
       "      <td>http://www.sandiegocounty.gov/deh/fhd/ffis/vio...</td>\n",
       "    </tr>\n",
       "  </tbody>\n",
       "</table>\n",
       "<p>5970 rows × 8 columns</p>\n",
       "</div>"
      ],
      "text/plain": [
       "      inspection_id                           violation major_violation  \\\n",
       "0           6886133                  Hot and Cold Water               Y   \n",
       "1           6631228                  Hot and Cold Water               N   \n",
       "2           6357338                Holding Temperatures               N   \n",
       "...             ...                                 ...             ...   \n",
       "5967        7104077  Equipment and Utensil Storage, Use               N   \n",
       "5968        7104077                   Toilet Facilities               N   \n",
       "5969        7104077         Floors, Walls, and Ceilings               N   \n",
       "\n",
       "                         status                      violation_text  \\\n",
       "0     Out of Compliance - Major                  Hot and Cold Water   \n",
       "1     Out of Compliance - Minor                  Hot and Cold Water   \n",
       "2     Out of Compliance - Minor                Holding Temperatures   \n",
       "...                         ...                                 ...   \n",
       "5967          Out of Compliance  Equipment and Utensil Storage, Use   \n",
       "5968          Out of Compliance                   Toilet Facilities   \n",
       "5969          Out of Compliance         Floors, Walls, and Ceilings   \n",
       "\n",
       "                                   correction_type_link  \\\n",
       "0     http://www.sandiegocounty.gov/deh/fhd/ffis/vio...   \n",
       "1     http://www.sandiegocounty.gov/deh/fhd/ffis/vio...   \n",
       "2     http://www.sandiegocounty.gov/deh/fhd/ffis/vio...   \n",
       "...                                                 ...   \n",
       "5967  http://www.sandiegocounty.gov/deh/fhd/ffis/vio...   \n",
       "5968  http://www.sandiegocounty.gov/deh/fhd/ffis/vio...   \n",
       "5969  http://www.sandiegocounty.gov/deh/fhd/ffis/vio...   \n",
       "\n",
       "                                       violation_accela  \\\n",
       "0                        21. Hot & cold water available   \n",
       "1                        21. Hot & cold water available   \n",
       "2             7. Proper hot & cold holding temperatures   \n",
       "...                                                 ...   \n",
       "5967  35. Equipment / Utensils -approved, installed,...   \n",
       "5968  43. Toilet facilities -properly constructed, s...   \n",
       "5969  45. Floor, walls and ceilings - built, maintai...   \n",
       "\n",
       "                                                   link  \n",
       "0     http://www.sandiegocounty.gov/deh/fhd/ffis/vio...  \n",
       "1     http://www.sandiegocounty.gov/deh/fhd/ffis/vio...  \n",
       "2     http://www.sandiegocounty.gov/deh/fhd/ffis/vio...  \n",
       "...                                                 ...  \n",
       "5967  http://www.sandiegocounty.gov/deh/fhd/ffis/vio...  \n",
       "5968  http://www.sandiegocounty.gov/deh/fhd/ffis/vio...  \n",
       "5969  http://www.sandiegocounty.gov/deh/fhd/ffis/vio...  \n",
       "\n",
       "[5970 rows x 8 columns]"
      ]
     },
     "execution_count": 27,
     "metadata": {},
     "output_type": "execute_result"
    }
   ],
   "source": [
    "viol"
   ]
  },
  {
   "cell_type": "code",
   "execution_count": 28,
   "id": "f15d0f8c",
   "metadata": {},
   "outputs": [
    {
     "data": {
      "text/plain": [
       "0                          21. Hot & cold water available\n",
       "1                          21. Hot & cold water available\n",
       "2               7. Proper hot & cold holding temperatures\n",
       "                              ...                        \n",
       "5967    35. Equipment / Utensils -approved, installed,...\n",
       "5968    43. Toilet facilities -properly constructed, s...\n",
       "5969    45. Floor, walls and ceilings - built, maintai...\n",
       "Name: violation_accela, Length: 5970, dtype: object"
      ]
     },
     "execution_count": 28,
     "metadata": {},
     "output_type": "execute_result"
    }
   ],
   "source": [
    "viol['violation_accela']\n",
    "#nominal"
   ]
  },
  {
   "cell_type": "code",
   "execution_count": 21,
   "id": "aa8abfde",
   "metadata": {},
   "outputs": [
    {
     "data": {
      "text/plain": [
       "0       Y\n",
       "1       N\n",
       "2       N\n",
       "       ..\n",
       "5967    N\n",
       "5968    N\n",
       "5969    N\n",
       "Name: major_violation, Length: 5970, dtype: object"
      ]
     },
     "execution_count": 21,
     "metadata": {},
     "output_type": "execute_result"
    }
   ],
   "source": [
    "viol['major_violation']\n",
    "#nominal"
   ]
  },
  {
   "cell_type": "code",
   "execution_count": 22,
   "id": "d21cef05",
   "metadata": {},
   "outputs": [
    {
     "data": {
      "text/plain": [
       "0      211898487641\n",
       "1      211930769329\n",
       "2      211909057778\n",
       "           ...     \n",
       "997    211899338714\n",
       "998    211942150255\n",
       "999    211925713322\n",
       "Name: business_id, Length: 1000, dtype: int64"
      ]
     },
     "execution_count": 22,
     "metadata": {},
     "output_type": "execute_result"
    }
   ],
   "source": [
    "rest['business_id']\n",
    "#nominal"
   ]
  },
  {
   "cell_type": "code",
   "execution_count": 23,
   "id": "5395ec49",
   "metadata": {},
   "outputs": [
    {
     "data": {
      "text/plain": [
       "0      2002-05-05\n",
       "1      2023-07-24\n",
       "2      2019-01-22\n",
       "          ...    \n",
       "997    2002-05-05\n",
       "998    2016-11-03\n",
       "999    2022-11-03\n",
       "Name: opened_date, Length: 1000, dtype: object"
      ]
     },
     "execution_count": 23,
     "metadata": {},
     "output_type": "execute_result"
    }
   ],
   "source": [
    "rest['opened_date']\n",
    "#numerical "
   ]
  },
  {
   "cell_type": "markdown",
   "id": "c32888d7",
   "metadata": {
    "slideshow": {
     "slide_type": "slide"
    }
   },
   "source": [
    "### Feature types vs. data types"
   ]
  },
  {
   "cell_type": "markdown",
   "id": "10d134d4",
   "metadata": {
    "slideshow": {
     "slide_type": "fragment"
    }
   },
   "source": [
    "- The data type `pandas` uses is not the same as the \"data type\" we talked about just now!\n",
    "    - There's a difference between feature type and computational data type."
   ]
  },
  {
   "cell_type": "markdown",
   "id": "fb7e8b34",
   "metadata": {
    "slideshow": {
     "slide_type": "fragment"
    }
   },
   "source": [
    "- Take care when the two don't match up very well!"
   ]
  },
  {
   "cell_type": "code",
   "execution_count": 24,
   "id": "39dab3be",
   "metadata": {},
   "outputs": [
    {
     "data": {
      "text/plain": [
       "0      211898487641\n",
       "1      211930769329\n",
       "2      211909057778\n",
       "           ...     \n",
       "997    211899338714\n",
       "998    211942150255\n",
       "999    211925713322\n",
       "Name: business_id, Length: 1000, dtype: int64"
      ]
     },
     "execution_count": 24,
     "metadata": {},
     "output_type": "execute_result"
    }
   ],
   "source": [
    "# pandas stores these as ints, but they're actually nominal.\n",
    "rest['business_id']"
   ]
  },
  {
   "cell_type": "code",
   "execution_count": 25,
   "id": "7586f76d",
   "metadata": {},
   "outputs": [
    {
     "data": {
      "text/plain": [
       "0      2002-05-05\n",
       "1      2023-07-24\n",
       "2      2019-01-22\n",
       "          ...    \n",
       "997    2002-05-05\n",
       "998    2016-11-03\n",
       "999    2022-11-03\n",
       "Name: opened_date, Length: 1000, dtype: object"
      ]
     },
     "execution_count": 25,
     "metadata": {},
     "output_type": "execute_result"
    }
   ],
   "source": [
    "# pandas stores these as strings, but they're actually numeric.\n",
    "rest['opened_date']"
   ]
  },
  {
   "cell_type": "markdown",
   "id": "57fdcc40",
   "metadata": {
    "slideshow": {
     "slide_type": "slide"
    }
   },
   "source": [
    "## Data cleaning"
   ]
  },
  {
   "cell_type": "markdown",
   "id": "744e1505",
   "metadata": {
    "slideshow": {
     "slide_type": "slide"
    }
   },
   "source": [
    "### Four pillars of data cleaning\n",
    "\n",
    "When loading in a dataset, to clean the data – that is, to prepare it for further analysis – we will:"
   ]
  },
  {
   "cell_type": "markdown",
   "id": "a541c705",
   "metadata": {
    "slideshow": {
     "slide_type": "fragment"
    }
   },
   "source": [
    "1. Perform **data quality checks**."
   ]
  },
  {
   "cell_type": "markdown",
   "id": "de3c78dc",
   "metadata": {
    "slideshow": {
     "slide_type": "fragment"
    }
   },
   "source": [
    "2. Identify and handle **missing values**."
   ]
  },
  {
   "cell_type": "markdown",
   "id": "1ea07074",
   "metadata": {
    "slideshow": {
     "slide_type": "fragment"
    }
   },
   "source": [
    "3. Perform **transformations**, including converting time series data to **timestamps**."
   ]
  },
  {
   "cell_type": "markdown",
   "id": "a6965ad8",
   "metadata": {
    "slideshow": {
     "slide_type": "fragment"
    }
   },
   "source": [
    "4. Modify **structure** as necessary."
   ]
  },
  {
   "cell_type": "markdown",
   "id": "be8786b0",
   "metadata": {
    "slideshow": {
     "slide_type": "slide"
    }
   },
   "source": [
    "## Data cleaning: Data quality checks"
   ]
  },
  {
   "cell_type": "markdown",
   "id": "92564b1e",
   "metadata": {
    "slideshow": {
     "slide_type": "slide"
    }
   },
   "source": [
    "### Data quality checks\n",
    "\n",
    "We often start an analysis by checking the quality of the data.\n",
    "\n",
    "- Scope: Do the data match your understanding of the population? \n",
    "- Measurements and values: Are the values reasonable?\n",
    "- Relationships: Are related features in agreement?\n",
    "- Analysis: Which features might be useful in a future analysis? "
   ]
  },
  {
   "cell_type": "markdown",
   "id": "6fdeb3ef",
   "metadata": {
    "slideshow": {
     "slide_type": "slide"
    }
   },
   "source": [
    "### Scope\n",
    "\n",
    "Do the data match your understanding of the population?"
   ]
  },
  {
   "cell_type": "markdown",
   "id": "a62ecab4",
   "metadata": {
    "slideshow": {
     "slide_type": "fragment"
    }
   },
   "source": [
    "We were told that we're only looking at the 1000 restaurants closest to UCSD, so the restaurants in `rest` should agree with that."
   ]
  },
  {
   "cell_type": "code",
   "execution_count": 29,
   "id": "4ef21b6b",
   "metadata": {},
   "outputs": [
    {
     "data": {
      "text/html": [
       "<div>\n",
       "<style scoped>\n",
       "    .dataframe tbody tr th:only-of-type {\n",
       "        vertical-align: middle;\n",
       "    }\n",
       "\n",
       "    .dataframe tbody tr th {\n",
       "        vertical-align: top;\n",
       "    }\n",
       "\n",
       "    .dataframe thead th {\n",
       "        text-align: right;\n",
       "    }\n",
       "</style>\n",
       "<table border=\"1\" class=\"dataframe\">\n",
       "  <thead>\n",
       "    <tr style=\"text-align: right;\">\n",
       "      <th></th>\n",
       "      <th>business_id</th>\n",
       "      <th>name</th>\n",
       "      <th>business_type</th>\n",
       "      <th>address</th>\n",
       "      <th>...</th>\n",
       "      <th>lat</th>\n",
       "      <th>long</th>\n",
       "      <th>opened_date</th>\n",
       "      <th>distance</th>\n",
       "    </tr>\n",
       "  </thead>\n",
       "  <tbody>\n",
       "    <tr>\n",
       "      <th>405</th>\n",
       "      <td>211954423786</td>\n",
       "      <td>MAXIS LANCHEONETTE</td>\n",
       "      <td>Restaurant Food Facility</td>\n",
       "      <td>10068 PACIFIC HEIGHTS BLVD, SAN DIEGO, CA 92121</td>\n",
       "      <td>...</td>\n",
       "      <td>32.90</td>\n",
       "      <td>-117.19</td>\n",
       "      <td>2014-08-21</td>\n",
       "      <td>2.77</td>\n",
       "    </tr>\n",
       "    <tr>\n",
       "      <th>302</th>\n",
       "      <td>211938645620</td>\n",
       "      <td>DARU INDIAN GASTROPUB</td>\n",
       "      <td>Restaurant Food Facility</td>\n",
       "      <td>9430 SCRANTON RD, SUITE# 101, SAN DIEGO, CA 92...</td>\n",
       "      <td>...</td>\n",
       "      <td>32.89</td>\n",
       "      <td>-117.20</td>\n",
       "      <td>2021-05-10</td>\n",
       "      <td>2.06</td>\n",
       "    </tr>\n",
       "    <tr>\n",
       "      <th>228</th>\n",
       "      <td>211899040580</td>\n",
       "      <td>HILTON LA JOLLA TORREY PINES - EMPLOYEE CAFETERIA</td>\n",
       "      <td>Restaurant Food Facility</td>\n",
       "      <td>10950 N TORREY PINES RD, LA JOLLA, CA 92037-1006</td>\n",
       "      <td>...</td>\n",
       "      <td>32.90</td>\n",
       "      <td>-117.24</td>\n",
       "      <td>2002-05-05</td>\n",
       "      <td>1.60</td>\n",
       "    </tr>\n",
       "    <tr>\n",
       "      <th>10</th>\n",
       "      <td>211899579775</td>\n",
       "      <td>DOMINOS PIZZA #8407</td>\n",
       "      <td>Restaurant Food Facility</td>\n",
       "      <td>3211 HOLIDAY CT, LA JOLLA, CA 92037</td>\n",
       "      <td>...</td>\n",
       "      <td>32.87</td>\n",
       "      <td>-117.23</td>\n",
       "      <td>2012-08-03</td>\n",
       "      <td>0.70</td>\n",
       "    </tr>\n",
       "    <tr>\n",
       "      <th>196</th>\n",
       "      <td>211898831193</td>\n",
       "      <td>SD NEWSSTANDS</td>\n",
       "      <td>Miscellaneous Food Facility</td>\n",
       "      <td>4525 LA JOLLA VILLAGE DR, SAN DIEGO, CA 92122</td>\n",
       "      <td>...</td>\n",
       "      <td>32.87</td>\n",
       "      <td>-117.21</td>\n",
       "      <td>2003-01-09</td>\n",
       "      <td>1.51</td>\n",
       "    </tr>\n",
       "  </tbody>\n",
       "</table>\n",
       "<p>5 rows × 12 columns</p>\n",
       "</div>"
      ],
      "text/plain": [
       "      business_id                                               name  \\\n",
       "405  211954423786                                 MAXIS LANCHEONETTE   \n",
       "302  211938645620                              DARU INDIAN GASTROPUB   \n",
       "228  211899040580  HILTON LA JOLLA TORREY PINES - EMPLOYEE CAFETERIA   \n",
       "10   211899579775                                DOMINOS PIZZA #8407   \n",
       "196  211898831193                                      SD NEWSSTANDS   \n",
       "\n",
       "                   business_type  \\\n",
       "405     Restaurant Food Facility   \n",
       "302     Restaurant Food Facility   \n",
       "228     Restaurant Food Facility   \n",
       "10      Restaurant Food Facility   \n",
       "196  Miscellaneous Food Facility   \n",
       "\n",
       "                                               address  ...    lat    long  \\\n",
       "405    10068 PACIFIC HEIGHTS BLVD, SAN DIEGO, CA 92121  ...  32.90 -117.19   \n",
       "302  9430 SCRANTON RD, SUITE# 101, SAN DIEGO, CA 92...  ...  32.89 -117.20   \n",
       "228   10950 N TORREY PINES RD, LA JOLLA, CA 92037-1006  ...  32.90 -117.24   \n",
       "10                 3211 HOLIDAY CT, LA JOLLA, CA 92037  ...  32.87 -117.23   \n",
       "196      4525 LA JOLLA VILLAGE DR, SAN DIEGO, CA 92122  ...  32.87 -117.21   \n",
       "\n",
       "    opened_date distance  \n",
       "405  2014-08-21     2.77  \n",
       "302  2021-05-10     2.06  \n",
       "228  2002-05-05     1.60  \n",
       "10   2012-08-03     0.70  \n",
       "196  2003-01-09     1.51  \n",
       "\n",
       "[5 rows x 12 columns]"
      ]
     },
     "execution_count": 29,
     "metadata": {},
     "output_type": "execute_result"
    }
   ],
   "source": [
    "rest.sample(5)"
   ]
  },
  {
   "cell_type": "markdown",
   "id": "e1df0230",
   "metadata": {
    "slideshow": {
     "slide_type": "slide"
    }
   },
   "source": [
    "### Measurements and values\n",
    "\n",
    "Are the values reasonable?"
   ]
  },
  {
   "cell_type": "markdown",
   "id": "865c5d81",
   "metadata": {
    "slideshow": {
     "slide_type": "fragment"
    }
   },
   "source": [
    "Do the values in the `'grade'` column match what we'd expect grades to look like?"
   ]
  },
  {
   "cell_type": "code",
   "execution_count": 30,
   "id": "dce83dff",
   "metadata": {},
   "outputs": [
    {
     "data": {
      "text/plain": [
       "A    2978\n",
       "B      11\n",
       "Name: grade, dtype: int64"
      ]
     },
     "execution_count": 30,
     "metadata": {},
     "output_type": "execute_result"
    }
   ],
   "source": [
    "insp['grade'].value_counts()"
   ]
  },
  {
   "cell_type": "markdown",
   "id": "72806b8d",
   "metadata": {
    "slideshow": {
     "slide_type": "fragment"
    }
   },
   "source": [
    "What kinds of information does the `insp` DataFrame hold?"
   ]
  },
  {
   "cell_type": "code",
   "execution_count": 31,
   "id": "a3206cb6",
   "metadata": {},
   "outputs": [
    {
     "name": "stdout",
     "output_type": "stream",
     "text": [
      "<class 'pandas.core.frame.DataFrame'>\n",
      "RangeIndex: 5179 entries, 0 to 5178\n",
      "Data columns (total 11 columns):\n",
      " #   Column          Non-Null Count  Dtype  \n",
      "---  ------          --------------  -----  \n",
      " 0   custom_id       5179 non-null   object \n",
      " 1   business_id     5179 non-null   int64  \n",
      " 2   inspection_id   5179 non-null   int64  \n",
      " 3   description     0 non-null      float64\n",
      " 4   type            5179 non-null   object \n",
      " 5   score           5179 non-null   int64  \n",
      " 6   grade           2989 non-null   object \n",
      " 7   completed_date  5179 non-null   object \n",
      " 8   status          5179 non-null   object \n",
      " 9   link            5179 non-null   object \n",
      " 10  status_link     5179 non-null   object \n",
      "dtypes: float64(1), int64(3), object(7)\n",
      "memory usage: 445.2+ KB\n"
     ]
    }
   ],
   "source": [
    "insp.info()"
   ]
  },
  {
   "cell_type": "markdown",
   "id": "23f33640",
   "metadata": {
    "slideshow": {
     "slide_type": "fragment"
    }
   },
   "source": [
    "What's going on in the `'address'` column of `rest`?"
   ]
  },
  {
   "cell_type": "code",
   "execution_count": 38,
   "id": "8ab9641a",
   "metadata": {},
   "outputs": [
    {
     "data": {
      "text/plain": [
       "'5300 GRAND DEL MAR CT, SAN DIEGO, CA 92130'"
      ]
     },
     "execution_count": 38,
     "metadata": {},
     "output_type": "execute_result"
    }
   ],
   "source": [
    "# Are there multiple restaurants with the same address?\n",
    "rest['address'].value_counts().idxmax()"
   ]
  },
  {
   "cell_type": "code",
   "execution_count": 40,
   "id": "d6739477",
   "metadata": {},
   "outputs": [
    {
     "data": {
      "text/html": [
       "<div>\n",
       "<style scoped>\n",
       "    .dataframe tbody tr th:only-of-type {\n",
       "        vertical-align: middle;\n",
       "    }\n",
       "\n",
       "    .dataframe tbody tr th {\n",
       "        vertical-align: top;\n",
       "    }\n",
       "\n",
       "    .dataframe thead th {\n",
       "        text-align: right;\n",
       "    }\n",
       "</style>\n",
       "<table border=\"1\" class=\"dataframe\">\n",
       "  <thead>\n",
       "    <tr style=\"text-align: right;\">\n",
       "      <th></th>\n",
       "      <th>business_id</th>\n",
       "      <th>name</th>\n",
       "      <th>business_type</th>\n",
       "      <th>address</th>\n",
       "      <th>...</th>\n",
       "      <th>lat</th>\n",
       "      <th>long</th>\n",
       "      <th>opened_date</th>\n",
       "      <th>distance</th>\n",
       "    </tr>\n",
       "  </thead>\n",
       "  <tbody>\n",
       "    <tr>\n",
       "      <th>0</th>\n",
       "      <td>211898487641</td>\n",
       "      <td>MOBIL MART LA JOLLA VILLAGE</td>\n",
       "      <td>Pre-Packaged Retail Market</td>\n",
       "      <td>3233 LA JOLLA VILLAGE DR, LA JOLLA, CA 92037</td>\n",
       "      <td>...</td>\n",
       "      <td>32.87</td>\n",
       "      <td>-117.23</td>\n",
       "      <td>2002-05-05</td>\n",
       "      <td>0.62</td>\n",
       "    </tr>\n",
       "    <tr>\n",
       "      <th>1</th>\n",
       "      <td>211930769329</td>\n",
       "      <td>CAFE 477</td>\n",
       "      <td>Low Risk Food Facility</td>\n",
       "      <td>8950 VILLA LA JOLLA DR, SUITE# B123, LA JOLLA,...</td>\n",
       "      <td>...</td>\n",
       "      <td>32.87</td>\n",
       "      <td>-117.24</td>\n",
       "      <td>2023-07-24</td>\n",
       "      <td>0.64</td>\n",
       "    </tr>\n",
       "    <tr>\n",
       "      <th>2</th>\n",
       "      <td>211909057778</td>\n",
       "      <td>VALLEY FARM MARKET</td>\n",
       "      <td>Retail Market with Deli</td>\n",
       "      <td>6902 LA JOLLA BLVD, LA JOLLA, CA 92037</td>\n",
       "      <td>...</td>\n",
       "      <td>32.87</td>\n",
       "      <td>-117.24</td>\n",
       "      <td>2019-01-22</td>\n",
       "      <td>0.64</td>\n",
       "    </tr>\n",
       "    <tr>\n",
       "      <th>...</th>\n",
       "      <td>...</td>\n",
       "      <td>...</td>\n",
       "      <td>...</td>\n",
       "      <td>...</td>\n",
       "      <td>...</td>\n",
       "      <td>...</td>\n",
       "      <td>...</td>\n",
       "      <td>...</td>\n",
       "      <td>...</td>\n",
       "    </tr>\n",
       "    <tr>\n",
       "      <th>997</th>\n",
       "      <td>211899338714</td>\n",
       "      <td>PACIFIC BEACH ELEMENTARY</td>\n",
       "      <td>School Processing Food Facility</td>\n",
       "      <td>1234 TOURMALINE ST, SAN DIEGO, CA 92109-1856</td>\n",
       "      <td>...</td>\n",
       "      <td>32.81</td>\n",
       "      <td>-117.25</td>\n",
       "      <td>2002-05-05</td>\n",
       "      <td>4.97</td>\n",
       "    </tr>\n",
       "    <tr>\n",
       "      <th>998</th>\n",
       "      <td>211942150255</td>\n",
       "      <td>POKEWAN DEL MAR</td>\n",
       "      <td>Restaurant Food Facility</td>\n",
       "      <td>12925 EL CAMINO REAL, SUITE# AA4, SAN DIEGO, C...</td>\n",
       "      <td>...</td>\n",
       "      <td>32.95</td>\n",
       "      <td>-117.23</td>\n",
       "      <td>2016-11-03</td>\n",
       "      <td>4.97</td>\n",
       "    </tr>\n",
       "    <tr>\n",
       "      <th>999</th>\n",
       "      <td>211925713322</td>\n",
       "      <td>SAFFRONO LOUNGE RESTAURANT</td>\n",
       "      <td>Restaurant Food Facility</td>\n",
       "      <td>2672 DEL MAR HEIGHTS RD, DEL MAR, CA 92014</td>\n",
       "      <td>...</td>\n",
       "      <td>32.95</td>\n",
       "      <td>-117.25</td>\n",
       "      <td>2022-11-03</td>\n",
       "      <td>4.97</td>\n",
       "    </tr>\n",
       "  </tbody>\n",
       "</table>\n",
       "<p>1000 rows × 12 columns</p>\n",
       "</div>"
      ],
      "text/plain": [
       "      business_id                         name  \\\n",
       "0    211898487641  MOBIL MART LA JOLLA VILLAGE   \n",
       "1    211930769329                     CAFE 477   \n",
       "2    211909057778           VALLEY FARM MARKET   \n",
       "..            ...                          ...   \n",
       "997  211899338714     PACIFIC BEACH ELEMENTARY   \n",
       "998  211942150255              POKEWAN DEL MAR   \n",
       "999  211925713322   SAFFRONO LOUNGE RESTAURANT   \n",
       "\n",
       "                       business_type  \\\n",
       "0         Pre-Packaged Retail Market   \n",
       "1             Low Risk Food Facility   \n",
       "2            Retail Market with Deli   \n",
       "..                               ...   \n",
       "997  School Processing Food Facility   \n",
       "998         Restaurant Food Facility   \n",
       "999         Restaurant Food Facility   \n",
       "\n",
       "                                               address  ...    lat    long  \\\n",
       "0         3233 LA JOLLA VILLAGE DR, LA JOLLA, CA 92037  ...  32.87 -117.23   \n",
       "1    8950 VILLA LA JOLLA DR, SUITE# B123, LA JOLLA,...  ...  32.87 -117.24   \n",
       "2               6902 LA JOLLA BLVD, LA JOLLA, CA 92037  ...  32.87 -117.24   \n",
       "..                                                 ...  ...    ...     ...   \n",
       "997       1234 TOURMALINE ST, SAN DIEGO, CA 92109-1856  ...  32.81 -117.25   \n",
       "998  12925 EL CAMINO REAL, SUITE# AA4, SAN DIEGO, C...  ...  32.95 -117.23   \n",
       "999         2672 DEL MAR HEIGHTS RD, DEL MAR, CA 92014  ...  32.95 -117.25   \n",
       "\n",
       "    opened_date distance  \n",
       "0    2002-05-05     0.62  \n",
       "1    2023-07-24     0.64  \n",
       "2    2019-01-22     0.64  \n",
       "..          ...      ...  \n",
       "997  2002-05-05     4.97  \n",
       "998  2016-11-03     4.97  \n",
       "999  2022-11-03     4.97  \n",
       "\n",
       "[1000 rows x 12 columns]"
      ]
     },
     "execution_count": 40,
     "metadata": {},
     "output_type": "execute_result"
    }
   ],
   "source": [
    "rest"
   ]
  },
  {
   "cell_type": "code",
   "execution_count": 39,
   "id": "6a5d8823",
   "metadata": {},
   "outputs": [
    {
     "data": {
      "text/html": [
       "<div>\n",
       "<style scoped>\n",
       "    .dataframe tbody tr th:only-of-type {\n",
       "        vertical-align: middle;\n",
       "    }\n",
       "\n",
       "    .dataframe tbody tr th {\n",
       "        vertical-align: top;\n",
       "    }\n",
       "\n",
       "    .dataframe thead th {\n",
       "        text-align: right;\n",
       "    }\n",
       "</style>\n",
       "<table border=\"1\" class=\"dataframe\">\n",
       "  <thead>\n",
       "    <tr style=\"text-align: right;\">\n",
       "      <th></th>\n",
       "      <th>business_id</th>\n",
       "      <th>name</th>\n",
       "      <th>business_type</th>\n",
       "      <th>address</th>\n",
       "      <th>...</th>\n",
       "      <th>lat</th>\n",
       "      <th>long</th>\n",
       "      <th>opened_date</th>\n",
       "      <th>distance</th>\n",
       "    </tr>\n",
       "  </thead>\n",
       "  <tbody>\n",
       "    <tr>\n",
       "      <th>406</th>\n",
       "      <td>211899308875</td>\n",
       "      <td>NASEEMS BAKERY &amp; KABOB</td>\n",
       "      <td>Restaurant Food Facility</td>\n",
       "      <td>10066 PACIFIC HEIGHTS BLVD, SAN DIEGO, CA 92121</td>\n",
       "      <td>...</td>\n",
       "      <td>32.90</td>\n",
       "      <td>-117.19</td>\n",
       "      <td>2012-04-17</td>\n",
       "      <td>2.77</td>\n",
       "    </tr>\n",
       "    <tr>\n",
       "      <th>402</th>\n",
       "      <td>211898699154</td>\n",
       "      <td>HANAYA SUSHI CAFE</td>\n",
       "      <td>Restaurant Food Facility</td>\n",
       "      <td>10066 PACIFIC HEIGHTS BLVD, SAN DIEGO, CA 92121</td>\n",
       "      <td>...</td>\n",
       "      <td>32.90</td>\n",
       "      <td>-117.19</td>\n",
       "      <td>2011-03-22</td>\n",
       "      <td>2.77</td>\n",
       "    </tr>\n",
       "    <tr>\n",
       "      <th>401</th>\n",
       "      <td>211899558107</td>\n",
       "      <td>ARMANDOS MEXICAN FOOD</td>\n",
       "      <td>Restaurant Food Facility</td>\n",
       "      <td>10066 PACIFIC HEIGHTS BLVD, SAN DIEGO, CA 92121</td>\n",
       "      <td>...</td>\n",
       "      <td>32.90</td>\n",
       "      <td>-117.19</td>\n",
       "      <td>2005-06-28</td>\n",
       "      <td>2.77</td>\n",
       "    </tr>\n",
       "    <tr>\n",
       "      <th>...</th>\n",
       "      <td>...</td>\n",
       "      <td>...</td>\n",
       "      <td>...</td>\n",
       "      <td>...</td>\n",
       "      <td>...</td>\n",
       "      <td>...</td>\n",
       "      <td>...</td>\n",
       "      <td>...</td>\n",
       "      <td>...</td>\n",
       "    </tr>\n",
       "    <tr>\n",
       "      <th>575</th>\n",
       "      <td>211972411855</td>\n",
       "      <td>TARA HEATHER CAKE DESIGN</td>\n",
       "      <td>Caterer</td>\n",
       "      <td>9932 MESA RIM RD, SUITE# A, SAN DIEGO, CA 9212...</td>\n",
       "      <td>...</td>\n",
       "      <td>32.90</td>\n",
       "      <td>-117.18</td>\n",
       "      <td>2014-04-24</td>\n",
       "      <td>3.51</td>\n",
       "    </tr>\n",
       "    <tr>\n",
       "      <th>344</th>\n",
       "      <td>211990537315</td>\n",
       "      <td>COMPASS GROUP FEDEX EXPRESS OLSON</td>\n",
       "      <td>Pre-Packaged Retail Market</td>\n",
       "      <td>9999 OLSON DR, SAN DIEGO, CA 92121-2837</td>\n",
       "      <td>...</td>\n",
       "      <td>32.89</td>\n",
       "      <td>-117.20</td>\n",
       "      <td>2022-10-19</td>\n",
       "      <td>2.27</td>\n",
       "    </tr>\n",
       "    <tr>\n",
       "      <th>343</th>\n",
       "      <td>211976587262</td>\n",
       "      <td>CANTEEN - FED EX OLSON</td>\n",
       "      <td>Pre-Packaged Retail Market</td>\n",
       "      <td>9999 OLSON DR, SAN DIEGO, CA 92121-2837</td>\n",
       "      <td>...</td>\n",
       "      <td>32.89</td>\n",
       "      <td>-117.20</td>\n",
       "      <td>2020-07-31</td>\n",
       "      <td>2.27</td>\n",
       "    </tr>\n",
       "  </tbody>\n",
       "</table>\n",
       "<p>213 rows × 12 columns</p>\n",
       "</div>"
      ],
      "text/plain": [
       "      business_id                               name  \\\n",
       "406  211899308875             NASEEMS BAKERY & KABOB   \n",
       "402  211898699154                  HANAYA SUSHI CAFE   \n",
       "401  211899558107              ARMANDOS MEXICAN FOOD   \n",
       "..            ...                                ...   \n",
       "575  211972411855           TARA HEATHER CAKE DESIGN   \n",
       "344  211990537315  COMPASS GROUP FEDEX EXPRESS OLSON   \n",
       "343  211976587262             CANTEEN - FED EX OLSON   \n",
       "\n",
       "                  business_type  \\\n",
       "406    Restaurant Food Facility   \n",
       "402    Restaurant Food Facility   \n",
       "401    Restaurant Food Facility   \n",
       "..                          ...   \n",
       "575                     Caterer   \n",
       "344  Pre-Packaged Retail Market   \n",
       "343  Pre-Packaged Retail Market   \n",
       "\n",
       "                                               address  ...    lat    long  \\\n",
       "406    10066 PACIFIC HEIGHTS BLVD, SAN DIEGO, CA 92121  ...  32.90 -117.19   \n",
       "402    10066 PACIFIC HEIGHTS BLVD, SAN DIEGO, CA 92121  ...  32.90 -117.19   \n",
       "401    10066 PACIFIC HEIGHTS BLVD, SAN DIEGO, CA 92121  ...  32.90 -117.19   \n",
       "..                                                 ...  ...    ...     ...   \n",
       "575  9932 MESA RIM RD, SUITE# A, SAN DIEGO, CA 9212...  ...  32.90 -117.18   \n",
       "344            9999 OLSON DR, SAN DIEGO, CA 92121-2837  ...  32.89 -117.20   \n",
       "343            9999 OLSON DR, SAN DIEGO, CA 92121-2837  ...  32.89 -117.20   \n",
       "\n",
       "    opened_date distance  \n",
       "406  2012-04-17     2.77  \n",
       "402  2011-03-22     2.77  \n",
       "401  2005-06-28     2.77  \n",
       "..          ...      ...  \n",
       "575  2014-04-24     3.51  \n",
       "344  2022-10-19     2.27  \n",
       "343  2020-07-31     2.27  \n",
       "\n",
       "[213 rows x 12 columns]"
      ]
     },
     "execution_count": 39,
     "metadata": {},
     "output_type": "execute_result"
    }
   ],
   "source": [
    "# Keeps all rows with duplicate addresses.\n",
    "(\n",
    "    rest\n",
    "    .groupby('address')\n",
    "    .filter(lambda df: df.shape[0] >= 2)\n",
    "    .sort_values('address')\n",
    ")"
   ]
  },
  {
   "cell_type": "code",
   "execution_count": 41,
   "id": "a7ace0e3",
   "metadata": {},
   "outputs": [
    {
     "data": {
      "text/html": [
       "<div>\n",
       "<style scoped>\n",
       "    .dataframe tbody tr th:only-of-type {\n",
       "        vertical-align: middle;\n",
       "    }\n",
       "\n",
       "    .dataframe tbody tr th {\n",
       "        vertical-align: top;\n",
       "    }\n",
       "\n",
       "    .dataframe thead th {\n",
       "        text-align: right;\n",
       "    }\n",
       "</style>\n",
       "<table border=\"1\" class=\"dataframe\">\n",
       "  <thead>\n",
       "    <tr style=\"text-align: right;\">\n",
       "      <th></th>\n",
       "      <th>business_id</th>\n",
       "      <th>name</th>\n",
       "      <th>business_type</th>\n",
       "      <th>address</th>\n",
       "      <th>...</th>\n",
       "      <th>lat</th>\n",
       "      <th>long</th>\n",
       "      <th>opened_date</th>\n",
       "      <th>distance</th>\n",
       "    </tr>\n",
       "  </thead>\n",
       "  <tbody>\n",
       "    <tr>\n",
       "      <th>406</th>\n",
       "      <td>211899308875</td>\n",
       "      <td>NASEEMS BAKERY &amp; KABOB</td>\n",
       "      <td>Restaurant Food Facility</td>\n",
       "      <td>10066 PACIFIC HEIGHTS BLVD, SAN DIEGO, CA 92121</td>\n",
       "      <td>...</td>\n",
       "      <td>32.90</td>\n",
       "      <td>-117.19</td>\n",
       "      <td>2012-04-17</td>\n",
       "      <td>2.77</td>\n",
       "    </tr>\n",
       "    <tr>\n",
       "      <th>402</th>\n",
       "      <td>211898699154</td>\n",
       "      <td>HANAYA SUSHI CAFE</td>\n",
       "      <td>Restaurant Food Facility</td>\n",
       "      <td>10066 PACIFIC HEIGHTS BLVD, SAN DIEGO, CA 92121</td>\n",
       "      <td>...</td>\n",
       "      <td>32.90</td>\n",
       "      <td>-117.19</td>\n",
       "      <td>2011-03-22</td>\n",
       "      <td>2.77</td>\n",
       "    </tr>\n",
       "    <tr>\n",
       "      <th>401</th>\n",
       "      <td>211899558107</td>\n",
       "      <td>ARMANDOS MEXICAN FOOD</td>\n",
       "      <td>Restaurant Food Facility</td>\n",
       "      <td>10066 PACIFIC HEIGHTS BLVD, SAN DIEGO, CA 92121</td>\n",
       "      <td>...</td>\n",
       "      <td>32.90</td>\n",
       "      <td>-117.19</td>\n",
       "      <td>2005-06-28</td>\n",
       "      <td>2.77</td>\n",
       "    </tr>\n",
       "    <tr>\n",
       "      <th>...</th>\n",
       "      <td>...</td>\n",
       "      <td>...</td>\n",
       "      <td>...</td>\n",
       "      <td>...</td>\n",
       "      <td>...</td>\n",
       "      <td>...</td>\n",
       "      <td>...</td>\n",
       "      <td>...</td>\n",
       "      <td>...</td>\n",
       "    </tr>\n",
       "    <tr>\n",
       "      <th>575</th>\n",
       "      <td>211972411855</td>\n",
       "      <td>TARA HEATHER CAKE DESIGN</td>\n",
       "      <td>Caterer</td>\n",
       "      <td>9932 MESA RIM RD, SUITE# A, SAN DIEGO, CA 9212...</td>\n",
       "      <td>...</td>\n",
       "      <td>32.90</td>\n",
       "      <td>-117.18</td>\n",
       "      <td>2014-04-24</td>\n",
       "      <td>3.51</td>\n",
       "    </tr>\n",
       "    <tr>\n",
       "      <th>344</th>\n",
       "      <td>211990537315</td>\n",
       "      <td>COMPASS GROUP FEDEX EXPRESS OLSON</td>\n",
       "      <td>Pre-Packaged Retail Market</td>\n",
       "      <td>9999 OLSON DR, SAN DIEGO, CA 92121-2837</td>\n",
       "      <td>...</td>\n",
       "      <td>32.89</td>\n",
       "      <td>-117.20</td>\n",
       "      <td>2022-10-19</td>\n",
       "      <td>2.27</td>\n",
       "    </tr>\n",
       "    <tr>\n",
       "      <th>343</th>\n",
       "      <td>211976587262</td>\n",
       "      <td>CANTEEN - FED EX OLSON</td>\n",
       "      <td>Pre-Packaged Retail Market</td>\n",
       "      <td>9999 OLSON DR, SAN DIEGO, CA 92121-2837</td>\n",
       "      <td>...</td>\n",
       "      <td>32.89</td>\n",
       "      <td>-117.20</td>\n",
       "      <td>2020-07-31</td>\n",
       "      <td>2.27</td>\n",
       "    </tr>\n",
       "  </tbody>\n",
       "</table>\n",
       "<p>213 rows × 12 columns</p>\n",
       "</div>"
      ],
      "text/plain": [
       "      business_id                               name  \\\n",
       "406  211899308875             NASEEMS BAKERY & KABOB   \n",
       "402  211898699154                  HANAYA SUSHI CAFE   \n",
       "401  211899558107              ARMANDOS MEXICAN FOOD   \n",
       "..            ...                                ...   \n",
       "575  211972411855           TARA HEATHER CAKE DESIGN   \n",
       "344  211990537315  COMPASS GROUP FEDEX EXPRESS OLSON   \n",
       "343  211976587262             CANTEEN - FED EX OLSON   \n",
       "\n",
       "                  business_type  \\\n",
       "406    Restaurant Food Facility   \n",
       "402    Restaurant Food Facility   \n",
       "401    Restaurant Food Facility   \n",
       "..                          ...   \n",
       "575                     Caterer   \n",
       "344  Pre-Packaged Retail Market   \n",
       "343  Pre-Packaged Retail Market   \n",
       "\n",
       "                                               address  ...    lat    long  \\\n",
       "406    10066 PACIFIC HEIGHTS BLVD, SAN DIEGO, CA 92121  ...  32.90 -117.19   \n",
       "402    10066 PACIFIC HEIGHTS BLVD, SAN DIEGO, CA 92121  ...  32.90 -117.19   \n",
       "401    10066 PACIFIC HEIGHTS BLVD, SAN DIEGO, CA 92121  ...  32.90 -117.19   \n",
       "..                                                 ...  ...    ...     ...   \n",
       "575  9932 MESA RIM RD, SUITE# A, SAN DIEGO, CA 9212...  ...  32.90 -117.18   \n",
       "344            9999 OLSON DR, SAN DIEGO, CA 92121-2837  ...  32.89 -117.20   \n",
       "343            9999 OLSON DR, SAN DIEGO, CA 92121-2837  ...  32.89 -117.20   \n",
       "\n",
       "    opened_date distance  \n",
       "406  2012-04-17     2.77  \n",
       "402  2011-03-22     2.77  \n",
       "401  2005-06-28     2.77  \n",
       "..          ...      ...  \n",
       "575  2014-04-24     3.51  \n",
       "344  2022-10-19     2.27  \n",
       "343  2020-07-31     2.27  \n",
       "\n",
       "[213 rows x 12 columns]"
      ]
     },
     "execution_count": 41,
     "metadata": {},
     "output_type": "execute_result"
    }
   ],
   "source": [
    "# Does the same thing as above!\n",
    "rest[rest.duplicated(subset=['address'], keep=False)].sort_values('address')"
   ]
  },
  {
   "cell_type": "markdown",
   "id": "f773936b",
   "metadata": {
    "slideshow": {
     "slide_type": "slide"
    }
   },
   "source": [
    "### Relationships\n",
    "\n",
    "Are related features in agreement?"
   ]
  },
  {
   "cell_type": "markdown",
   "id": "2d4836c4",
   "metadata": {
    "slideshow": {
     "slide_type": "fragment"
    }
   },
   "source": [
    "Do the `'address'`es and `'zip'` codes in `rest` match?"
   ]
  },
  {
   "cell_type": "code",
   "execution_count": 42,
   "id": "e4895b26",
   "metadata": {},
   "outputs": [
    {
     "data": {
      "text/html": [
       "<div>\n",
       "<style scoped>\n",
       "    .dataframe tbody tr th:only-of-type {\n",
       "        vertical-align: middle;\n",
       "    }\n",
       "\n",
       "    .dataframe tbody tr th {\n",
       "        vertical-align: top;\n",
       "    }\n",
       "\n",
       "    .dataframe thead th {\n",
       "        text-align: right;\n",
       "    }\n",
       "</style>\n",
       "<table border=\"1\" class=\"dataframe\">\n",
       "  <thead>\n",
       "    <tr style=\"text-align: right;\">\n",
       "      <th></th>\n",
       "      <th>address</th>\n",
       "      <th>zip</th>\n",
       "    </tr>\n",
       "  </thead>\n",
       "  <tbody>\n",
       "    <tr>\n",
       "      <th>0</th>\n",
       "      <td>3233 LA JOLLA VILLAGE DR, LA JOLLA, CA 92037</td>\n",
       "      <td>92037</td>\n",
       "    </tr>\n",
       "    <tr>\n",
       "      <th>1</th>\n",
       "      <td>8950 VILLA LA JOLLA DR, SUITE# B123, LA JOLLA,...</td>\n",
       "      <td>92037-1704</td>\n",
       "    </tr>\n",
       "    <tr>\n",
       "      <th>2</th>\n",
       "      <td>6902 LA JOLLA BLVD, LA JOLLA, CA 92037</td>\n",
       "      <td>92037</td>\n",
       "    </tr>\n",
       "    <tr>\n",
       "      <th>...</th>\n",
       "      <td>...</td>\n",
       "      <td>...</td>\n",
       "    </tr>\n",
       "    <tr>\n",
       "      <th>997</th>\n",
       "      <td>1234 TOURMALINE ST, SAN DIEGO, CA 92109-1856</td>\n",
       "      <td>92109-1856</td>\n",
       "    </tr>\n",
       "    <tr>\n",
       "      <th>998</th>\n",
       "      <td>12925 EL CAMINO REAL, SUITE# AA4, SAN DIEGO, C...</td>\n",
       "      <td>92130</td>\n",
       "    </tr>\n",
       "    <tr>\n",
       "      <th>999</th>\n",
       "      <td>2672 DEL MAR HEIGHTS RD, DEL MAR, CA 92014</td>\n",
       "      <td>92014</td>\n",
       "    </tr>\n",
       "  </tbody>\n",
       "</table>\n",
       "<p>1000 rows × 2 columns</p>\n",
       "</div>"
      ],
      "text/plain": [
       "                                               address         zip\n",
       "0         3233 LA JOLLA VILLAGE DR, LA JOLLA, CA 92037       92037\n",
       "1    8950 VILLA LA JOLLA DR, SUITE# B123, LA JOLLA,...  92037-1704\n",
       "2               6902 LA JOLLA BLVD, LA JOLLA, CA 92037       92037\n",
       "..                                                 ...         ...\n",
       "997       1234 TOURMALINE ST, SAN DIEGO, CA 92109-1856  92109-1856\n",
       "998  12925 EL CAMINO REAL, SUITE# AA4, SAN DIEGO, C...       92130\n",
       "999         2672 DEL MAR HEIGHTS RD, DEL MAR, CA 92014       92014\n",
       "\n",
       "[1000 rows x 2 columns]"
      ]
     },
     "execution_count": 42,
     "metadata": {},
     "output_type": "execute_result"
    }
   ],
   "source": [
    "rest[['address', 'zip']]"
   ]
  },
  {
   "cell_type": "markdown",
   "id": "38e8838b",
   "metadata": {
    "slideshow": {
     "slide_type": "fragment"
    }
   },
   "source": [
    "What about the `'score'`s and `'grade'`s in `insp`?"
   ]
  },
  {
   "cell_type": "code",
   "execution_count": 43,
   "id": "48fd4ed0",
   "metadata": {},
   "outputs": [
    {
     "data": {
      "text/html": [
       "<div>\n",
       "<style scoped>\n",
       "    .dataframe tbody tr th:only-of-type {\n",
       "        vertical-align: middle;\n",
       "    }\n",
       "\n",
       "    .dataframe tbody tr th {\n",
       "        vertical-align: top;\n",
       "    }\n",
       "\n",
       "    .dataframe thead th {\n",
       "        text-align: right;\n",
       "    }\n",
       "</style>\n",
       "<table border=\"1\" class=\"dataframe\">\n",
       "  <thead>\n",
       "    <tr style=\"text-align: right;\">\n",
       "      <th></th>\n",
       "      <th>score</th>\n",
       "      <th>grade</th>\n",
       "    </tr>\n",
       "  </thead>\n",
       "  <tbody>\n",
       "    <tr>\n",
       "      <th>0</th>\n",
       "      <td>96</td>\n",
       "      <td>NaN</td>\n",
       "    </tr>\n",
       "    <tr>\n",
       "      <th>1</th>\n",
       "      <td>98</td>\n",
       "      <td>NaN</td>\n",
       "    </tr>\n",
       "    <tr>\n",
       "      <th>2</th>\n",
       "      <td>98</td>\n",
       "      <td>NaN</td>\n",
       "    </tr>\n",
       "    <tr>\n",
       "      <th>...</th>\n",
       "      <td>...</td>\n",
       "      <td>...</td>\n",
       "    </tr>\n",
       "    <tr>\n",
       "      <th>5176</th>\n",
       "      <td>0</td>\n",
       "      <td>NaN</td>\n",
       "    </tr>\n",
       "    <tr>\n",
       "      <th>5177</th>\n",
       "      <td>0</td>\n",
       "      <td>NaN</td>\n",
       "    </tr>\n",
       "    <tr>\n",
       "      <th>5178</th>\n",
       "      <td>90</td>\n",
       "      <td>A</td>\n",
       "    </tr>\n",
       "  </tbody>\n",
       "</table>\n",
       "<p>5179 rows × 2 columns</p>\n",
       "</div>"
      ],
      "text/plain": [
       "      score grade\n",
       "0        96   NaN\n",
       "1        98   NaN\n",
       "2        98   NaN\n",
       "...     ...   ...\n",
       "5176      0   NaN\n",
       "5177      0   NaN\n",
       "5178     90     A\n",
       "\n",
       "[5179 rows x 2 columns]"
      ]
     },
     "execution_count": 43,
     "metadata": {},
     "output_type": "execute_result"
    }
   ],
   "source": [
    "insp[['score', 'grade']]"
   ]
  },
  {
   "cell_type": "markdown",
   "id": "baa7a3c2",
   "metadata": {
    "slideshow": {
     "slide_type": "slide"
    }
   },
   "source": [
    "### Analysis\n",
    "\n",
    "Which features might be useful in a future analysis?"
   ]
  },
  {
   "cell_type": "markdown",
   "id": "bd80378d",
   "metadata": {
    "slideshow": {
     "slide_type": "fragment"
    }
   },
   "source": [
    "- We're most interested in:\n",
    "    - These columns in the `rest` DataFrame: `'business_id'`, `'name'`, `'address'`, `'zip'`, and `'opened_date'`.\n",
    "    - These columns in the `insp` DataFrame: `'business_id'`, `'inspection_id'`, `'score'`, `'grade'`, `'completed_date'`, and `'status'`.\n",
    "    - These columns in the `viol` DataFrame: `'inspection_id'`, `'violation'`, `'major_violation'`, `'violation_text'`, and `'violation_accela'`."
   ]
  },
  {
   "cell_type": "markdown",
   "id": "f2a10c70",
   "metadata": {
    "slideshow": {
     "slide_type": "fragment"
    }
   },
   "source": [
    "- Also, let's rename a few columns to make them easier to work with."
   ]
  },
  {
   "cell_type": "markdown",
   "id": "26694343",
   "metadata": {
    "slideshow": {
     "slide_type": "slide"
    }
   },
   "source": [
    "### 💡 Pro-Tip: Using `pipe`\n",
    "\n",
    "When we manipulate DataFrames, it's best to define individual functions for each step, then use the `pipe` **method** to chain them all together.\n",
    "\n",
    "The `pipe` DataFrame method takes in a function, which itself takes in a DataFrame and returns a DataFrame.\n",
    "\n",
    "- In practice, we would add functions one by one to the top of a notebook, then `pipe` them all.\n",
    "- For today, will keep re-running `pipe` to show data cleaning process."
   ]
  },
  {
   "cell_type": "code",
   "execution_count": 44,
   "id": "49cbc16e",
   "metadata": {},
   "outputs": [
    {
     "data": {
      "text/html": [
       "<div>\n",
       "<style scoped>\n",
       "    .dataframe tbody tr th:only-of-type {\n",
       "        vertical-align: middle;\n",
       "    }\n",
       "\n",
       "    .dataframe tbody tr th {\n",
       "        vertical-align: top;\n",
       "    }\n",
       "\n",
       "    .dataframe thead th {\n",
       "        text-align: right;\n",
       "    }\n",
       "</style>\n",
       "<table border=\"1\" class=\"dataframe\">\n",
       "  <thead>\n",
       "    <tr style=\"text-align: right;\">\n",
       "      <th></th>\n",
       "      <th>business_id</th>\n",
       "      <th>name</th>\n",
       "      <th>address</th>\n",
       "      <th>zip</th>\n",
       "      <th>opened_date</th>\n",
       "    </tr>\n",
       "  </thead>\n",
       "  <tbody>\n",
       "    <tr>\n",
       "      <th>0</th>\n",
       "      <td>211898487641</td>\n",
       "      <td>MOBIL MART LA JOLLA VILLAGE</td>\n",
       "      <td>3233 LA JOLLA VILLAGE DR, LA JOLLA, CA 92037</td>\n",
       "      <td>92037</td>\n",
       "      <td>2002-05-05</td>\n",
       "    </tr>\n",
       "    <tr>\n",
       "      <th>1</th>\n",
       "      <td>211930769329</td>\n",
       "      <td>CAFE 477</td>\n",
       "      <td>8950 VILLA LA JOLLA DR, SUITE# B123, LA JOLLA,...</td>\n",
       "      <td>92037-1704</td>\n",
       "      <td>2023-07-24</td>\n",
       "    </tr>\n",
       "    <tr>\n",
       "      <th>2</th>\n",
       "      <td>211909057778</td>\n",
       "      <td>VALLEY FARM MARKET</td>\n",
       "      <td>6902 LA JOLLA BLVD, LA JOLLA, CA 92037</td>\n",
       "      <td>92037</td>\n",
       "      <td>2019-01-22</td>\n",
       "    </tr>\n",
       "    <tr>\n",
       "      <th>...</th>\n",
       "      <td>...</td>\n",
       "      <td>...</td>\n",
       "      <td>...</td>\n",
       "      <td>...</td>\n",
       "      <td>...</td>\n",
       "    </tr>\n",
       "    <tr>\n",
       "      <th>997</th>\n",
       "      <td>211899338714</td>\n",
       "      <td>PACIFIC BEACH ELEMENTARY</td>\n",
       "      <td>1234 TOURMALINE ST, SAN DIEGO, CA 92109-1856</td>\n",
       "      <td>92109-1856</td>\n",
       "      <td>2002-05-05</td>\n",
       "    </tr>\n",
       "    <tr>\n",
       "      <th>998</th>\n",
       "      <td>211942150255</td>\n",
       "      <td>POKEWAN DEL MAR</td>\n",
       "      <td>12925 EL CAMINO REAL, SUITE# AA4, SAN DIEGO, C...</td>\n",
       "      <td>92130</td>\n",
       "      <td>2016-11-03</td>\n",
       "    </tr>\n",
       "    <tr>\n",
       "      <th>999</th>\n",
       "      <td>211925713322</td>\n",
       "      <td>SAFFRONO LOUNGE RESTAURANT</td>\n",
       "      <td>2672 DEL MAR HEIGHTS RD, DEL MAR, CA 92014</td>\n",
       "      <td>92014</td>\n",
       "      <td>2022-11-03</td>\n",
       "    </tr>\n",
       "  </tbody>\n",
       "</table>\n",
       "<p>1000 rows × 5 columns</p>\n",
       "</div>"
      ],
      "text/plain": [
       "      business_id                         name  \\\n",
       "0    211898487641  MOBIL MART LA JOLLA VILLAGE   \n",
       "1    211930769329                     CAFE 477   \n",
       "2    211909057778           VALLEY FARM MARKET   \n",
       "..            ...                          ...   \n",
       "997  211899338714     PACIFIC BEACH ELEMENTARY   \n",
       "998  211942150255              POKEWAN DEL MAR   \n",
       "999  211925713322   SAFFRONO LOUNGE RESTAURANT   \n",
       "\n",
       "                                               address         zip opened_date  \n",
       "0         3233 LA JOLLA VILLAGE DR, LA JOLLA, CA 92037       92037  2002-05-05  \n",
       "1    8950 VILLA LA JOLLA DR, SUITE# B123, LA JOLLA,...  92037-1704  2023-07-24  \n",
       "2               6902 LA JOLLA BLVD, LA JOLLA, CA 92037       92037  2019-01-22  \n",
       "..                                                 ...         ...         ...  \n",
       "997       1234 TOURMALINE ST, SAN DIEGO, CA 92109-1856  92109-1856  2002-05-05  \n",
       "998  12925 EL CAMINO REAL, SUITE# AA4, SAN DIEGO, C...       92130  2016-11-03  \n",
       "999         2672 DEL MAR HEIGHTS RD, DEL MAR, CA 92014       92014  2022-11-03  \n",
       "\n",
       "[1000 rows x 5 columns]"
      ]
     },
     "execution_count": 44,
     "metadata": {},
     "output_type": "execute_result"
    }
   ],
   "source": [
    "def subset_rest(rest):\n",
    "    return rest[['business_id', 'name', 'address', 'zip', 'opened_date']]\n",
    "\n",
    "rest = (\n",
    "    pd.read_csv(rest_path)\n",
    "    .pipe(subset_rest)\n",
    ")\n",
    "rest"
   ]
  },
  {
   "cell_type": "code",
   "execution_count": 45,
   "id": "d2580209",
   "metadata": {},
   "outputs": [
    {
     "data": {
      "text/html": [
       "<div>\n",
       "<style scoped>\n",
       "    .dataframe tbody tr th:only-of-type {\n",
       "        vertical-align: middle;\n",
       "    }\n",
       "\n",
       "    .dataframe tbody tr th {\n",
       "        vertical-align: top;\n",
       "    }\n",
       "\n",
       "    .dataframe thead th {\n",
       "        text-align: right;\n",
       "    }\n",
       "</style>\n",
       "<table border=\"1\" class=\"dataframe\">\n",
       "  <thead>\n",
       "    <tr style=\"text-align: right;\">\n",
       "      <th></th>\n",
       "      <th>business_id</th>\n",
       "      <th>name</th>\n",
       "      <th>address</th>\n",
       "      <th>zip</th>\n",
       "      <th>opened_date</th>\n",
       "    </tr>\n",
       "  </thead>\n",
       "  <tbody>\n",
       "    <tr>\n",
       "      <th>0</th>\n",
       "      <td>211898487641</td>\n",
       "      <td>MOBIL MART LA JOLLA VILLAGE</td>\n",
       "      <td>3233 LA JOLLA VILLAGE DR, LA JOLLA, CA 92037</td>\n",
       "      <td>92037</td>\n",
       "      <td>2002-05-05</td>\n",
       "    </tr>\n",
       "    <tr>\n",
       "      <th>1</th>\n",
       "      <td>211930769329</td>\n",
       "      <td>CAFE 477</td>\n",
       "      <td>8950 VILLA LA JOLLA DR, SUITE# B123, LA JOLLA,...</td>\n",
       "      <td>92037-1704</td>\n",
       "      <td>2023-07-24</td>\n",
       "    </tr>\n",
       "    <tr>\n",
       "      <th>2</th>\n",
       "      <td>211909057778</td>\n",
       "      <td>VALLEY FARM MARKET</td>\n",
       "      <td>6902 LA JOLLA BLVD, LA JOLLA, CA 92037</td>\n",
       "      <td>92037</td>\n",
       "      <td>2019-01-22</td>\n",
       "    </tr>\n",
       "    <tr>\n",
       "      <th>...</th>\n",
       "      <td>...</td>\n",
       "      <td>...</td>\n",
       "      <td>...</td>\n",
       "      <td>...</td>\n",
       "      <td>...</td>\n",
       "    </tr>\n",
       "    <tr>\n",
       "      <th>997</th>\n",
       "      <td>211899338714</td>\n",
       "      <td>PACIFIC BEACH ELEMENTARY</td>\n",
       "      <td>1234 TOURMALINE ST, SAN DIEGO, CA 92109-1856</td>\n",
       "      <td>92109-1856</td>\n",
       "      <td>2002-05-05</td>\n",
       "    </tr>\n",
       "    <tr>\n",
       "      <th>998</th>\n",
       "      <td>211942150255</td>\n",
       "      <td>POKEWAN DEL MAR</td>\n",
       "      <td>12925 EL CAMINO REAL, SUITE# AA4, SAN DIEGO, C...</td>\n",
       "      <td>92130</td>\n",
       "      <td>2016-11-03</td>\n",
       "    </tr>\n",
       "    <tr>\n",
       "      <th>999</th>\n",
       "      <td>211925713322</td>\n",
       "      <td>SAFFRONO LOUNGE RESTAURANT</td>\n",
       "      <td>2672 DEL MAR HEIGHTS RD, DEL MAR, CA 92014</td>\n",
       "      <td>92014</td>\n",
       "      <td>2022-11-03</td>\n",
       "    </tr>\n",
       "  </tbody>\n",
       "</table>\n",
       "<p>1000 rows × 5 columns</p>\n",
       "</div>"
      ],
      "text/plain": [
       "      business_id                         name  \\\n",
       "0    211898487641  MOBIL MART LA JOLLA VILLAGE   \n",
       "1    211930769329                     CAFE 477   \n",
       "2    211909057778           VALLEY FARM MARKET   \n",
       "..            ...                          ...   \n",
       "997  211899338714     PACIFIC BEACH ELEMENTARY   \n",
       "998  211942150255              POKEWAN DEL MAR   \n",
       "999  211925713322   SAFFRONO LOUNGE RESTAURANT   \n",
       "\n",
       "                                               address         zip opened_date  \n",
       "0         3233 LA JOLLA VILLAGE DR, LA JOLLA, CA 92037       92037  2002-05-05  \n",
       "1    8950 VILLA LA JOLLA DR, SUITE# B123, LA JOLLA,...  92037-1704  2023-07-24  \n",
       "2               6902 LA JOLLA BLVD, LA JOLLA, CA 92037       92037  2019-01-22  \n",
       "..                                                 ...         ...         ...  \n",
       "997       1234 TOURMALINE ST, SAN DIEGO, CA 92109-1856  92109-1856  2002-05-05  \n",
       "998  12925 EL CAMINO REAL, SUITE# AA4, SAN DIEGO, C...       92130  2016-11-03  \n",
       "999         2672 DEL MAR HEIGHTS RD, DEL MAR, CA 92014       92014  2022-11-03  \n",
       "\n",
       "[1000 rows x 5 columns]"
      ]
     },
     "execution_count": 45,
     "metadata": {},
     "output_type": "execute_result"
    }
   ],
   "source": [
    "# Same as the above – but the above makes it easier to chain more .pipe calls afterwards.\n",
    "subset_rest(pd.read_csv(rest_path))"
   ]
  },
  {
   "cell_type": "markdown",
   "id": "b11e751e",
   "metadata": {
    "slideshow": {
     "slide_type": "slide"
    }
   },
   "source": [
    "Let's use `pipe` to keep (and rename) the subset of the columns we care about in the other two DataFrames as well."
   ]
  },
  {
   "cell_type": "code",
   "execution_count": 48,
   "id": "4a9e07d4",
   "metadata": {},
   "outputs": [],
   "source": [
    "def subset_insp(insp):\n",
    "    return (\n",
    "        insp[['business_id', 'inspection_id', 'score', 'grade', 'completed_date', 'status']]\n",
    "        .rename(columns={'completed_date': 'date'})\n",
    "    )\n",
    "\n",
    "insp = (\n",
    "    pd.read_csv(insp_path)\n",
    "    .pipe(subset_insp)\n",
    ")"
   ]
  },
  {
   "cell_type": "code",
   "execution_count": 49,
   "id": "05551101",
   "metadata": {},
   "outputs": [
    {
     "data": {
      "text/html": [
       "<div>\n",
       "<style scoped>\n",
       "    .dataframe tbody tr th:only-of-type {\n",
       "        vertical-align: middle;\n",
       "    }\n",
       "\n",
       "    .dataframe tbody tr th {\n",
       "        vertical-align: top;\n",
       "    }\n",
       "\n",
       "    .dataframe thead th {\n",
       "        text-align: right;\n",
       "    }\n",
       "</style>\n",
       "<table border=\"1\" class=\"dataframe\">\n",
       "  <thead>\n",
       "    <tr style=\"text-align: right;\">\n",
       "      <th></th>\n",
       "      <th>business_id</th>\n",
       "      <th>inspection_id</th>\n",
       "      <th>score</th>\n",
       "      <th>grade</th>\n",
       "      <th>date</th>\n",
       "      <th>status</th>\n",
       "    </tr>\n",
       "  </thead>\n",
       "  <tbody>\n",
       "    <tr>\n",
       "      <th>0</th>\n",
       "      <td>211898487641</td>\n",
       "      <td>6886133</td>\n",
       "      <td>96</td>\n",
       "      <td>NaN</td>\n",
       "      <td>2023-02-16</td>\n",
       "      <td>Complete</td>\n",
       "    </tr>\n",
       "    <tr>\n",
       "      <th>1</th>\n",
       "      <td>211898487641</td>\n",
       "      <td>6631228</td>\n",
       "      <td>98</td>\n",
       "      <td>NaN</td>\n",
       "      <td>2022-01-03</td>\n",
       "      <td>Complete</td>\n",
       "    </tr>\n",
       "    <tr>\n",
       "      <th>2</th>\n",
       "      <td>211898487641</td>\n",
       "      <td>6357338</td>\n",
       "      <td>98</td>\n",
       "      <td>NaN</td>\n",
       "      <td>2020-12-03</td>\n",
       "      <td>Complete</td>\n",
       "    </tr>\n",
       "    <tr>\n",
       "      <th>...</th>\n",
       "      <td>...</td>\n",
       "      <td>...</td>\n",
       "      <td>...</td>\n",
       "      <td>...</td>\n",
       "      <td>...</td>\n",
       "      <td>...</td>\n",
       "    </tr>\n",
       "    <tr>\n",
       "      <th>5176</th>\n",
       "      <td>211925713322</td>\n",
       "      <td>7183979</td>\n",
       "      <td>0</td>\n",
       "      <td>NaN</td>\n",
       "      <td>2023-03-06</td>\n",
       "      <td>Complete</td>\n",
       "    </tr>\n",
       "    <tr>\n",
       "      <th>5177</th>\n",
       "      <td>211925713322</td>\n",
       "      <td>7120778</td>\n",
       "      <td>0</td>\n",
       "      <td>NaN</td>\n",
       "      <td>2022-12-09</td>\n",
       "      <td>Complete</td>\n",
       "    </tr>\n",
       "    <tr>\n",
       "      <th>5178</th>\n",
       "      <td>211925713322</td>\n",
       "      <td>7104077</td>\n",
       "      <td>90</td>\n",
       "      <td>A</td>\n",
       "      <td>2022-11-30</td>\n",
       "      <td>Complete</td>\n",
       "    </tr>\n",
       "  </tbody>\n",
       "</table>\n",
       "<p>5179 rows × 6 columns</p>\n",
       "</div>"
      ],
      "text/plain": [
       "       business_id  inspection_id  score grade        date    status\n",
       "0     211898487641        6886133     96   NaN  2023-02-16  Complete\n",
       "1     211898487641        6631228     98   NaN  2022-01-03  Complete\n",
       "2     211898487641        6357338     98   NaN  2020-12-03  Complete\n",
       "...            ...            ...    ...   ...         ...       ...\n",
       "5176  211925713322        7183979      0   NaN  2023-03-06  Complete\n",
       "5177  211925713322        7120778      0   NaN  2022-12-09  Complete\n",
       "5178  211925713322        7104077     90     A  2022-11-30  Complete\n",
       "\n",
       "[5179 rows x 6 columns]"
      ]
     },
     "execution_count": 49,
     "metadata": {},
     "output_type": "execute_result"
    }
   ],
   "source": [
    "insp"
   ]
  },
  {
   "cell_type": "code",
   "execution_count": 50,
   "id": "b5be8c9d",
   "metadata": {},
   "outputs": [],
   "source": [
    "def subset_viol(viol):\n",
    "    return (\n",
    "        viol[['inspection_id', 'violation', 'major_violation', 'violation_accela']]\n",
    "        .rename(columns={'violation': 'kind',\n",
    "                         'major_violation': 'is_major',\n",
    "                         'violation_accela': 'violation'})\n",
    "    )\n",
    "\n",
    "viol = (\n",
    "    pd.read_csv(viol_path)\n",
    "    .pipe(subset_viol)\n",
    ")"
   ]
  },
  {
   "cell_type": "code",
   "execution_count": 53,
   "id": "a3edc33e",
   "metadata": {},
   "outputs": [
    {
     "data": {
      "text/html": [
       "<div>\n",
       "<style scoped>\n",
       "    .dataframe tbody tr th:only-of-type {\n",
       "        vertical-align: middle;\n",
       "    }\n",
       "\n",
       "    .dataframe tbody tr th {\n",
       "        vertical-align: top;\n",
       "    }\n",
       "\n",
       "    .dataframe thead th {\n",
       "        text-align: right;\n",
       "    }\n",
       "</style>\n",
       "<table border=\"1\" class=\"dataframe\">\n",
       "  <thead>\n",
       "    <tr style=\"text-align: right;\">\n",
       "      <th></th>\n",
       "      <th>inspection_id</th>\n",
       "      <th>kind</th>\n",
       "      <th>is_major</th>\n",
       "      <th>violation</th>\n",
       "    </tr>\n",
       "  </thead>\n",
       "  <tbody>\n",
       "    <tr>\n",
       "      <th>0</th>\n",
       "      <td>6886133</td>\n",
       "      <td>Hot and Cold Water</td>\n",
       "      <td>Y</td>\n",
       "      <td>21. Hot &amp; cold water available</td>\n",
       "    </tr>\n",
       "    <tr>\n",
       "      <th>1</th>\n",
       "      <td>6631228</td>\n",
       "      <td>Hot and Cold Water</td>\n",
       "      <td>N</td>\n",
       "      <td>21. Hot &amp; cold water available</td>\n",
       "    </tr>\n",
       "    <tr>\n",
       "      <th>2</th>\n",
       "      <td>6357338</td>\n",
       "      <td>Holding Temperatures</td>\n",
       "      <td>N</td>\n",
       "      <td>7. Proper hot &amp; cold holding temperatures</td>\n",
       "    </tr>\n",
       "    <tr>\n",
       "      <th>...</th>\n",
       "      <td>...</td>\n",
       "      <td>...</td>\n",
       "      <td>...</td>\n",
       "      <td>...</td>\n",
       "    </tr>\n",
       "    <tr>\n",
       "      <th>5967</th>\n",
       "      <td>7104077</td>\n",
       "      <td>Equipment and Utensil Storage, Use</td>\n",
       "      <td>N</td>\n",
       "      <td>35. Equipment / Utensils -approved, installed,...</td>\n",
       "    </tr>\n",
       "    <tr>\n",
       "      <th>5968</th>\n",
       "      <td>7104077</td>\n",
       "      <td>Toilet Facilities</td>\n",
       "      <td>N</td>\n",
       "      <td>43. Toilet facilities -properly constructed, s...</td>\n",
       "    </tr>\n",
       "    <tr>\n",
       "      <th>5969</th>\n",
       "      <td>7104077</td>\n",
       "      <td>Floors, Walls, and Ceilings</td>\n",
       "      <td>N</td>\n",
       "      <td>45. Floor, walls and ceilings - built, maintai...</td>\n",
       "    </tr>\n",
       "  </tbody>\n",
       "</table>\n",
       "<p>5970 rows × 4 columns</p>\n",
       "</div>"
      ],
      "text/plain": [
       "      inspection_id                                kind is_major  \\\n",
       "0           6886133                  Hot and Cold Water        Y   \n",
       "1           6631228                  Hot and Cold Water        N   \n",
       "2           6357338                Holding Temperatures        N   \n",
       "...             ...                                 ...      ...   \n",
       "5967        7104077  Equipment and Utensil Storage, Use        N   \n",
       "5968        7104077                   Toilet Facilities        N   \n",
       "5969        7104077         Floors, Walls, and Ceilings        N   \n",
       "\n",
       "                                              violation  \n",
       "0                        21. Hot & cold water available  \n",
       "1                        21. Hot & cold water available  \n",
       "2             7. Proper hot & cold holding temperatures  \n",
       "...                                                 ...  \n",
       "5967  35. Equipment / Utensils -approved, installed,...  \n",
       "5968  43. Toilet facilities -properly constructed, s...  \n",
       "5969  45. Floor, walls and ceilings - built, maintai...  \n",
       "\n",
       "[5970 rows x 4 columns]"
      ]
     },
     "execution_count": 53,
     "metadata": {},
     "output_type": "execute_result"
    }
   ],
   "source": [
    "viol"
   ]
  },
  {
   "cell_type": "markdown",
   "id": "4e1fd7f8",
   "metadata": {
    "slideshow": {
     "slide_type": "slide"
    }
   },
   "source": [
    "### Combining the restaurant data\n",
    "\n",
    "Let's join all three DataFrames together so that we have all the data in a single DataFrame."
   ]
  },
  {
   "cell_type": "code",
   "execution_count": 54,
   "id": "88827b0f",
   "metadata": {},
   "outputs": [
    {
     "data": {
      "text/html": [
       "<div>\n",
       "<style scoped>\n",
       "    .dataframe tbody tr th:only-of-type {\n",
       "        vertical-align: middle;\n",
       "    }\n",
       "\n",
       "    .dataframe tbody tr th {\n",
       "        vertical-align: top;\n",
       "    }\n",
       "\n",
       "    .dataframe thead th {\n",
       "        text-align: right;\n",
       "    }\n",
       "</style>\n",
       "<table border=\"1\" class=\"dataframe\">\n",
       "  <thead>\n",
       "    <tr style=\"text-align: right;\">\n",
       "      <th></th>\n",
       "      <th>business_id</th>\n",
       "      <th>name</th>\n",
       "      <th>address</th>\n",
       "      <th>zip</th>\n",
       "      <th>opened_date</th>\n",
       "    </tr>\n",
       "  </thead>\n",
       "  <tbody>\n",
       "    <tr>\n",
       "      <th>0</th>\n",
       "      <td>211898487641</td>\n",
       "      <td>MOBIL MART LA JOLLA VILLAGE</td>\n",
       "      <td>3233 LA JOLLA VILLAGE DR, LA JOLLA, CA 92037</td>\n",
       "      <td>92037</td>\n",
       "      <td>2002-05-05</td>\n",
       "    </tr>\n",
       "    <tr>\n",
       "      <th>1</th>\n",
       "      <td>211930769329</td>\n",
       "      <td>CAFE 477</td>\n",
       "      <td>8950 VILLA LA JOLLA DR, SUITE# B123, LA JOLLA,...</td>\n",
       "      <td>92037-1704</td>\n",
       "      <td>2023-07-24</td>\n",
       "    </tr>\n",
       "    <tr>\n",
       "      <th>2</th>\n",
       "      <td>211909057778</td>\n",
       "      <td>VALLEY FARM MARKET</td>\n",
       "      <td>6902 LA JOLLA BLVD, LA JOLLA, CA 92037</td>\n",
       "      <td>92037</td>\n",
       "      <td>2019-01-22</td>\n",
       "    </tr>\n",
       "    <tr>\n",
       "      <th>...</th>\n",
       "      <td>...</td>\n",
       "      <td>...</td>\n",
       "      <td>...</td>\n",
       "      <td>...</td>\n",
       "      <td>...</td>\n",
       "    </tr>\n",
       "    <tr>\n",
       "      <th>997</th>\n",
       "      <td>211899338714</td>\n",
       "      <td>PACIFIC BEACH ELEMENTARY</td>\n",
       "      <td>1234 TOURMALINE ST, SAN DIEGO, CA 92109-1856</td>\n",
       "      <td>92109-1856</td>\n",
       "      <td>2002-05-05</td>\n",
       "    </tr>\n",
       "    <tr>\n",
       "      <th>998</th>\n",
       "      <td>211942150255</td>\n",
       "      <td>POKEWAN DEL MAR</td>\n",
       "      <td>12925 EL CAMINO REAL, SUITE# AA4, SAN DIEGO, C...</td>\n",
       "      <td>92130</td>\n",
       "      <td>2016-11-03</td>\n",
       "    </tr>\n",
       "    <tr>\n",
       "      <th>999</th>\n",
       "      <td>211925713322</td>\n",
       "      <td>SAFFRONO LOUNGE RESTAURANT</td>\n",
       "      <td>2672 DEL MAR HEIGHTS RD, DEL MAR, CA 92014</td>\n",
       "      <td>92014</td>\n",
       "      <td>2022-11-03</td>\n",
       "    </tr>\n",
       "  </tbody>\n",
       "</table>\n",
       "<p>1000 rows × 5 columns</p>\n",
       "</div>"
      ],
      "text/plain": [
       "      business_id                         name  \\\n",
       "0    211898487641  MOBIL MART LA JOLLA VILLAGE   \n",
       "1    211930769329                     CAFE 477   \n",
       "2    211909057778           VALLEY FARM MARKET   \n",
       "..            ...                          ...   \n",
       "997  211899338714     PACIFIC BEACH ELEMENTARY   \n",
       "998  211942150255              POKEWAN DEL MAR   \n",
       "999  211925713322   SAFFRONO LOUNGE RESTAURANT   \n",
       "\n",
       "                                               address         zip opened_date  \n",
       "0         3233 LA JOLLA VILLAGE DR, LA JOLLA, CA 92037       92037  2002-05-05  \n",
       "1    8950 VILLA LA JOLLA DR, SUITE# B123, LA JOLLA,...  92037-1704  2023-07-24  \n",
       "2               6902 LA JOLLA BLVD, LA JOLLA, CA 92037       92037  2019-01-22  \n",
       "..                                                 ...         ...         ...  \n",
       "997       1234 TOURMALINE ST, SAN DIEGO, CA 92109-1856  92109-1856  2002-05-05  \n",
       "998  12925 EL CAMINO REAL, SUITE# AA4, SAN DIEGO, C...       92130  2016-11-03  \n",
       "999         2672 DEL MAR HEIGHTS RD, DEL MAR, CA 92014       92014  2022-11-03  \n",
       "\n",
       "[1000 rows x 5 columns]"
      ]
     },
     "execution_count": 54,
     "metadata": {},
     "output_type": "execute_result"
    }
   ],
   "source": [
    "rest"
   ]
  },
  {
   "cell_type": "code",
   "execution_count": 55,
   "id": "ddeadb32",
   "metadata": {},
   "outputs": [
    {
     "data": {
      "text/html": [
       "<div>\n",
       "<style scoped>\n",
       "    .dataframe tbody tr th:only-of-type {\n",
       "        vertical-align: middle;\n",
       "    }\n",
       "\n",
       "    .dataframe tbody tr th {\n",
       "        vertical-align: top;\n",
       "    }\n",
       "\n",
       "    .dataframe thead th {\n",
       "        text-align: right;\n",
       "    }\n",
       "</style>\n",
       "<table border=\"1\" class=\"dataframe\">\n",
       "  <thead>\n",
       "    <tr style=\"text-align: right;\">\n",
       "      <th></th>\n",
       "      <th>business_id</th>\n",
       "      <th>inspection_id</th>\n",
       "      <th>score</th>\n",
       "      <th>grade</th>\n",
       "      <th>date</th>\n",
       "      <th>status</th>\n",
       "    </tr>\n",
       "  </thead>\n",
       "  <tbody>\n",
       "    <tr>\n",
       "      <th>0</th>\n",
       "      <td>211898487641</td>\n",
       "      <td>6886133</td>\n",
       "      <td>96</td>\n",
       "      <td>NaN</td>\n",
       "      <td>2023-02-16</td>\n",
       "      <td>Complete</td>\n",
       "    </tr>\n",
       "    <tr>\n",
       "      <th>1</th>\n",
       "      <td>211898487641</td>\n",
       "      <td>6631228</td>\n",
       "      <td>98</td>\n",
       "      <td>NaN</td>\n",
       "      <td>2022-01-03</td>\n",
       "      <td>Complete</td>\n",
       "    </tr>\n",
       "    <tr>\n",
       "      <th>2</th>\n",
       "      <td>211898487641</td>\n",
       "      <td>6357338</td>\n",
       "      <td>98</td>\n",
       "      <td>NaN</td>\n",
       "      <td>2020-12-03</td>\n",
       "      <td>Complete</td>\n",
       "    </tr>\n",
       "    <tr>\n",
       "      <th>...</th>\n",
       "      <td>...</td>\n",
       "      <td>...</td>\n",
       "      <td>...</td>\n",
       "      <td>...</td>\n",
       "      <td>...</td>\n",
       "      <td>...</td>\n",
       "    </tr>\n",
       "    <tr>\n",
       "      <th>5176</th>\n",
       "      <td>211925713322</td>\n",
       "      <td>7183979</td>\n",
       "      <td>0</td>\n",
       "      <td>NaN</td>\n",
       "      <td>2023-03-06</td>\n",
       "      <td>Complete</td>\n",
       "    </tr>\n",
       "    <tr>\n",
       "      <th>5177</th>\n",
       "      <td>211925713322</td>\n",
       "      <td>7120778</td>\n",
       "      <td>0</td>\n",
       "      <td>NaN</td>\n",
       "      <td>2022-12-09</td>\n",
       "      <td>Complete</td>\n",
       "    </tr>\n",
       "    <tr>\n",
       "      <th>5178</th>\n",
       "      <td>211925713322</td>\n",
       "      <td>7104077</td>\n",
       "      <td>90</td>\n",
       "      <td>A</td>\n",
       "      <td>2022-11-30</td>\n",
       "      <td>Complete</td>\n",
       "    </tr>\n",
       "  </tbody>\n",
       "</table>\n",
       "<p>5179 rows × 6 columns</p>\n",
       "</div>"
      ],
      "text/plain": [
       "       business_id  inspection_id  score grade        date    status\n",
       "0     211898487641        6886133     96   NaN  2023-02-16  Complete\n",
       "1     211898487641        6631228     98   NaN  2022-01-03  Complete\n",
       "2     211898487641        6357338     98   NaN  2020-12-03  Complete\n",
       "...            ...            ...    ...   ...         ...       ...\n",
       "5176  211925713322        7183979      0   NaN  2023-03-06  Complete\n",
       "5177  211925713322        7120778      0   NaN  2022-12-09  Complete\n",
       "5178  211925713322        7104077     90     A  2022-11-30  Complete\n",
       "\n",
       "[5179 rows x 6 columns]"
      ]
     },
     "execution_count": 55,
     "metadata": {},
     "output_type": "execute_result"
    }
   ],
   "source": [
    "insp"
   ]
  },
  {
   "cell_type": "code",
   "execution_count": 57,
   "id": "e31ca1bc",
   "metadata": {},
   "outputs": [
    {
     "data": {
      "text/html": [
       "<div>\n",
       "<style scoped>\n",
       "    .dataframe tbody tr th:only-of-type {\n",
       "        vertical-align: middle;\n",
       "    }\n",
       "\n",
       "    .dataframe tbody tr th {\n",
       "        vertical-align: top;\n",
       "    }\n",
       "\n",
       "    .dataframe thead th {\n",
       "        text-align: right;\n",
       "    }\n",
       "</style>\n",
       "<table border=\"1\" class=\"dataframe\">\n",
       "  <thead>\n",
       "    <tr style=\"text-align: right;\">\n",
       "      <th></th>\n",
       "      <th>business_id</th>\n",
       "      <th>name</th>\n",
       "      <th>address</th>\n",
       "      <th>zip</th>\n",
       "      <th>...</th>\n",
       "      <th>status</th>\n",
       "      <th>kind</th>\n",
       "      <th>is_major</th>\n",
       "      <th>violation</th>\n",
       "    </tr>\n",
       "  </thead>\n",
       "  <tbody>\n",
       "    <tr>\n",
       "      <th>0</th>\n",
       "      <td>211898487641</td>\n",
       "      <td>MOBIL MART LA JOLLA VILLAGE</td>\n",
       "      <td>3233 LA JOLLA VILLAGE DR, LA JOLLA, CA 92037</td>\n",
       "      <td>92037</td>\n",
       "      <td>...</td>\n",
       "      <td>Complete</td>\n",
       "      <td>Hot and Cold Water</td>\n",
       "      <td>Y</td>\n",
       "      <td>21. Hot &amp; cold water available</td>\n",
       "    </tr>\n",
       "    <tr>\n",
       "      <th>1</th>\n",
       "      <td>211898487641</td>\n",
       "      <td>MOBIL MART LA JOLLA VILLAGE</td>\n",
       "      <td>3233 LA JOLLA VILLAGE DR, LA JOLLA, CA 92037</td>\n",
       "      <td>92037</td>\n",
       "      <td>...</td>\n",
       "      <td>Complete</td>\n",
       "      <td>Hot and Cold Water</td>\n",
       "      <td>N</td>\n",
       "      <td>21. Hot &amp; cold water available</td>\n",
       "    </tr>\n",
       "    <tr>\n",
       "      <th>2</th>\n",
       "      <td>211898487641</td>\n",
       "      <td>MOBIL MART LA JOLLA VILLAGE</td>\n",
       "      <td>3233 LA JOLLA VILLAGE DR, LA JOLLA, CA 92037</td>\n",
       "      <td>92037</td>\n",
       "      <td>...</td>\n",
       "      <td>Complete</td>\n",
       "      <td>Holding Temperatures</td>\n",
       "      <td>N</td>\n",
       "      <td>7. Proper hot &amp; cold holding temperatures</td>\n",
       "    </tr>\n",
       "    <tr>\n",
       "      <th>...</th>\n",
       "      <td>...</td>\n",
       "      <td>...</td>\n",
       "      <td>...</td>\n",
       "      <td>...</td>\n",
       "      <td>...</td>\n",
       "      <td>...</td>\n",
       "      <td>...</td>\n",
       "      <td>...</td>\n",
       "      <td>...</td>\n",
       "    </tr>\n",
       "    <tr>\n",
       "      <th>8728</th>\n",
       "      <td>211925713322</td>\n",
       "      <td>SAFFRONO LOUNGE RESTAURANT</td>\n",
       "      <td>2672 DEL MAR HEIGHTS RD, DEL MAR, CA 92014</td>\n",
       "      <td>92014</td>\n",
       "      <td>...</td>\n",
       "      <td>Complete</td>\n",
       "      <td>Equipment and Utensil Storage, Use</td>\n",
       "      <td>N</td>\n",
       "      <td>35. Equipment / Utensils -approved, installed,...</td>\n",
       "    </tr>\n",
       "    <tr>\n",
       "      <th>8729</th>\n",
       "      <td>211925713322</td>\n",
       "      <td>SAFFRONO LOUNGE RESTAURANT</td>\n",
       "      <td>2672 DEL MAR HEIGHTS RD, DEL MAR, CA 92014</td>\n",
       "      <td>92014</td>\n",
       "      <td>...</td>\n",
       "      <td>Complete</td>\n",
       "      <td>Toilet Facilities</td>\n",
       "      <td>N</td>\n",
       "      <td>43. Toilet facilities -properly constructed, s...</td>\n",
       "    </tr>\n",
       "    <tr>\n",
       "      <th>8730</th>\n",
       "      <td>211925713322</td>\n",
       "      <td>SAFFRONO LOUNGE RESTAURANT</td>\n",
       "      <td>2672 DEL MAR HEIGHTS RD, DEL MAR, CA 92014</td>\n",
       "      <td>92014</td>\n",
       "      <td>...</td>\n",
       "      <td>Complete</td>\n",
       "      <td>Floors, Walls, and Ceilings</td>\n",
       "      <td>N</td>\n",
       "      <td>45. Floor, walls and ceilings - built, maintai...</td>\n",
       "    </tr>\n",
       "  </tbody>\n",
       "</table>\n",
       "<p>8731 rows × 13 columns</p>\n",
       "</div>"
      ],
      "text/plain": [
       "       business_id                         name  \\\n",
       "0     211898487641  MOBIL MART LA JOLLA VILLAGE   \n",
       "1     211898487641  MOBIL MART LA JOLLA VILLAGE   \n",
       "2     211898487641  MOBIL MART LA JOLLA VILLAGE   \n",
       "...            ...                          ...   \n",
       "8728  211925713322   SAFFRONO LOUNGE RESTAURANT   \n",
       "8729  211925713322   SAFFRONO LOUNGE RESTAURANT   \n",
       "8730  211925713322   SAFFRONO LOUNGE RESTAURANT   \n",
       "\n",
       "                                           address    zip  ...    status  \\\n",
       "0     3233 LA JOLLA VILLAGE DR, LA JOLLA, CA 92037  92037  ...  Complete   \n",
       "1     3233 LA JOLLA VILLAGE DR, LA JOLLA, CA 92037  92037  ...  Complete   \n",
       "2     3233 LA JOLLA VILLAGE DR, LA JOLLA, CA 92037  92037  ...  Complete   \n",
       "...                                            ...    ...  ...       ...   \n",
       "8728    2672 DEL MAR HEIGHTS RD, DEL MAR, CA 92014  92014  ...  Complete   \n",
       "8729    2672 DEL MAR HEIGHTS RD, DEL MAR, CA 92014  92014  ...  Complete   \n",
       "8730    2672 DEL MAR HEIGHTS RD, DEL MAR, CA 92014  92014  ...  Complete   \n",
       "\n",
       "                                    kind  is_major  \\\n",
       "0                     Hot and Cold Water         Y   \n",
       "1                     Hot and Cold Water         N   \n",
       "2                   Holding Temperatures         N   \n",
       "...                                  ...       ...   \n",
       "8728  Equipment and Utensil Storage, Use         N   \n",
       "8729                   Toilet Facilities         N   \n",
       "8730         Floors, Walls, and Ceilings         N   \n",
       "\n",
       "                                              violation  \n",
       "0                        21. Hot & cold water available  \n",
       "1                        21. Hot & cold water available  \n",
       "2             7. Proper hot & cold holding temperatures  \n",
       "...                                                 ...  \n",
       "8728  35. Equipment / Utensils -approved, installed,...  \n",
       "8729  43. Toilet facilities -properly constructed, s...  \n",
       "8730  45. Floor, walls and ceilings - built, maintai...  \n",
       "\n",
       "[8731 rows x 13 columns]"
      ]
     },
     "execution_count": 57,
     "metadata": {},
     "output_type": "execute_result"
    }
   ],
   "source": [
    "def merge_all_restaurant_data():\n",
    "    return (\n",
    "        rest\n",
    "        .merge(insp, on='business_id', how='left')\n",
    "        .merge(viol, on='inspection_id', how='left')\n",
    "    )\n",
    "\n",
    "df = merge_all_restaurant_data()\n",
    "df"
   ]
  },
  {
   "cell_type": "markdown",
   "id": "3b92823e",
   "metadata": {
    "slideshow": {
     "slide_type": "slide"
    }
   },
   "source": [
    "## Data cleaning: Missing values"
   ]
  },
  {
   "cell_type": "markdown",
   "id": "7007e6ac",
   "metadata": {
    "slideshow": {
     "slide_type": "slide"
    }
   },
   "source": [
    "### Missing values\n",
    "\n",
    "Next, it's important to check for and handle missing values, as they can have a big effect on your analysis."
   ]
  },
  {
   "cell_type": "code",
   "execution_count": 58,
   "id": "d8190fca",
   "metadata": {},
   "outputs": [
    {
     "data": {
      "text/html": [
       "<div>\n",
       "<style scoped>\n",
       "    .dataframe tbody tr th:only-of-type {\n",
       "        vertical-align: middle;\n",
       "    }\n",
       "\n",
       "    .dataframe tbody tr th {\n",
       "        vertical-align: top;\n",
       "    }\n",
       "\n",
       "    .dataframe thead th {\n",
       "        text-align: right;\n",
       "    }\n",
       "</style>\n",
       "<table border=\"1\" class=\"dataframe\">\n",
       "  <thead>\n",
       "    <tr style=\"text-align: right;\">\n",
       "      <th></th>\n",
       "      <th>score</th>\n",
       "      <th>grade</th>\n",
       "    </tr>\n",
       "  </thead>\n",
       "  <tbody>\n",
       "    <tr>\n",
       "      <th>0</th>\n",
       "      <td>96</td>\n",
       "      <td>NaN</td>\n",
       "    </tr>\n",
       "    <tr>\n",
       "      <th>1</th>\n",
       "      <td>98</td>\n",
       "      <td>NaN</td>\n",
       "    </tr>\n",
       "    <tr>\n",
       "      <th>2</th>\n",
       "      <td>98</td>\n",
       "      <td>NaN</td>\n",
       "    </tr>\n",
       "    <tr>\n",
       "      <th>...</th>\n",
       "      <td>...</td>\n",
       "      <td>...</td>\n",
       "    </tr>\n",
       "    <tr>\n",
       "      <th>5176</th>\n",
       "      <td>0</td>\n",
       "      <td>NaN</td>\n",
       "    </tr>\n",
       "    <tr>\n",
       "      <th>5177</th>\n",
       "      <td>0</td>\n",
       "      <td>NaN</td>\n",
       "    </tr>\n",
       "    <tr>\n",
       "      <th>5178</th>\n",
       "      <td>90</td>\n",
       "      <td>A</td>\n",
       "    </tr>\n",
       "  </tbody>\n",
       "</table>\n",
       "<p>5179 rows × 2 columns</p>\n",
       "</div>"
      ],
      "text/plain": [
       "      score grade\n",
       "0        96   NaN\n",
       "1        98   NaN\n",
       "2        98   NaN\n",
       "...     ...   ...\n",
       "5176      0   NaN\n",
       "5177      0   NaN\n",
       "5178     90     A\n",
       "\n",
       "[5179 rows x 2 columns]"
      ]
     },
     "execution_count": 58,
     "metadata": {},
     "output_type": "execute_result"
    }
   ],
   "source": [
    "insp[['score', 'grade']]"
   ]
  },
  {
   "cell_type": "code",
   "execution_count": 67,
   "id": "76cf02db",
   "metadata": {},
   "outputs": [
    {
     "data": {
      "text/plain": [
       "business_id      0.00\n",
       "inspection_id    0.00\n",
       "score            0.00\n",
       "grade            0.42\n",
       "date             0.00\n",
       "status           0.00\n",
       "dtype: float64"
      ]
     },
     "execution_count": 67,
     "metadata": {},
     "output_type": "execute_result"
    }
   ],
   "source": [
    "# The proportion of values in each column that are missing.\n",
    "insp.isna().mean()"
   ]
  },
  {
   "cell_type": "code",
   "execution_count": 68,
   "id": "08fdee4d",
   "metadata": {
    "scrolled": true
   },
   "outputs": [
    {
     "data": {
      "text/plain": [
       "0.0033214981101821095"
      ]
     },
     "execution_count": 68,
     "metadata": {},
     "output_type": "execute_result"
    }
   ],
   "source": [
    "# Why are there null values here?\n",
    "# insp['inspection_id'] and viol['inspection_id'] don't have any null values...\n",
    "df['inspection_id'].isna().mean()"
   ]
  },
  {
   "cell_type": "markdown",
   "id": "afddb353",
   "metadata": {
    "slideshow": {
     "slide_type": "fragment"
    }
   },
   "source": [
    "There are many ways of handling missing values, which we'll cover in an entire lecture next week. But a good first step is to check how many there are!"
   ]
  },
  {
   "cell_type": "markdown",
   "id": "b2f39cbc",
   "metadata": {
    "slideshow": {
     "slide_type": "slide"
    }
   },
   "source": [
    "## Data cleaning: Transformations and timestamps"
   ]
  },
  {
   "cell_type": "markdown",
   "id": "7ce00205",
   "metadata": {
    "slideshow": {
     "slide_type": "slide"
    }
   },
   "source": [
    "### Transformations and timestamps\n",
    "\n",
    "From last class:\n",
    "\n",
    "> A transformation results from performing some operation on every element in a sequence, e.g. a Series.\n",
    "\n",
    "It's often useful to look at ways of transforming your data to make it easier to work with."
   ]
  },
  {
   "cell_type": "markdown",
   "id": "b49aa31e",
   "metadata": {
    "slideshow": {
     "slide_type": "fragment"
    }
   },
   "source": [
    "- Type conversions (e.g. changing the string `\"$2.99\"` to the number `2.99`)."
   ]
  },
  {
   "cell_type": "markdown",
   "id": "a59bb937",
   "metadata": {
    "slideshow": {
     "slide_type": "fragment"
    }
   },
   "source": [
    "- Unit conversion (e.g. feet to meters)."
   ]
  },
  {
   "cell_type": "markdown",
   "id": "0473ffa7",
   "metadata": {
    "slideshow": {
     "slide_type": "fragment"
    }
   },
   "source": [
    "- Extraction (Getting `'vermin'` out of `'Vermin Violation Recorded on 10/10/2023'`)."
   ]
  },
  {
   "cell_type": "markdown",
   "id": "5d87244b",
   "metadata": {
    "slideshow": {
     "slide_type": "slide"
    }
   },
   "source": [
    "### Creating timestamps\n",
    "\n",
    "Most commonly, we'll parse dates into `pd.Timestamp` objects."
   ]
  },
  {
   "cell_type": "code",
   "execution_count": 69,
   "id": "32e2e9bb",
   "metadata": {},
   "outputs": [
    {
     "data": {
      "text/plain": [
       "0       2023-02-16\n",
       "1       2022-01-03\n",
       "2       2020-12-03\n",
       "           ...    \n",
       "5176    2023-03-06\n",
       "5177    2022-12-09\n",
       "5178    2022-11-30\n",
       "Name: date, Length: 5179, dtype: object"
      ]
     },
     "execution_count": 69,
     "metadata": {},
     "output_type": "execute_result"
    }
   ],
   "source": [
    "# Look at the dtype!\n",
    "insp['date']"
   ]
  },
  {
   "cell_type": "code",
   "execution_count": 70,
   "id": "3adaa896",
   "metadata": {},
   "outputs": [
    {
     "data": {
      "text/plain": [
       "0      2023-02-16\n",
       "1      2022-01-03\n",
       "2      2020-12-03\n",
       "          ...    \n",
       "5176   2023-03-06\n",
       "5177   2022-12-09\n",
       "5178   2022-11-30\n",
       "Name: date, Length: 5179, dtype: datetime64[ns]"
      ]
     },
     "execution_count": 70,
     "metadata": {},
     "output_type": "execute_result"
    }
   ],
   "source": [
    "# This magical string tells Python what format the date is in.\n",
    "# For more info: https://docs.python.org/3/library/datetime.html#strftime-and-strptime-behavior\n",
    "date_format = '%Y-%m-%d'\n",
    "pd.to_datetime(insp['date'], format=date_format)"
   ]
  },
  {
   "cell_type": "code",
   "execution_count": 71,
   "id": "e54dee4d",
   "metadata": {
    "slideshow": {
     "slide_type": "slide"
    }
   },
   "outputs": [],
   "source": [
    "# Another advantage of defining functions is that we can reuse this function\n",
    "# for the 'opened_date' column in `rest` if we wanted to.\n",
    "def parse_dates(insp, col):\n",
    "    date_format = '%Y-%m-%d'\n",
    "    dates = pd.to_datetime(insp[col], format=date_format)\n",
    "    return insp.assign(**{col: dates})\n",
    "\n",
    "insp = (\n",
    "    pd.read_csv(insp_path)\n",
    "    .pipe(subset_insp)\n",
    "    .pipe(parse_dates, 'date')\n",
    ")\n",
    "\n",
    "# We should also remake df, since it depends on insp.\n",
    "# Note that the new insp is used to create df!\n",
    "df = merge_all_restaurant_data()"
   ]
  },
  {
   "cell_type": "code",
   "execution_count": 72,
   "id": "8f62bf1d",
   "metadata": {},
   "outputs": [
    {
     "data": {
      "text/plain": [
       "0      2023-02-16\n",
       "1      2022-01-03\n",
       "2      2020-12-03\n",
       "          ...    \n",
       "8728   2022-11-30\n",
       "8729   2022-11-30\n",
       "8730   2022-11-30\n",
       "Name: date, Length: 8731, dtype: datetime64[ns]"
      ]
     },
     "execution_count": 72,
     "metadata": {},
     "output_type": "execute_result"
    }
   ],
   "source": [
    "# Look at the dtype now!\n",
    "df['date']"
   ]
  },
  {
   "cell_type": "markdown",
   "id": "dbb9739b",
   "metadata": {
    "slideshow": {
     "slide_type": "slide"
    }
   },
   "source": [
    "### Working with timestamps\n",
    "\n",
    "- We often want to adjust granularity of timestamps to see overall trends, or seasonality.\n",
    "- Use the `resample` method in `pandas` ([documentation](https://pandas.pydata.org/pandas-docs/stable/user_guide/timeseries.html#dateoffset-objects)).\n",
    "    - Think of it like a version of `groupby`, but for timestamps.\n",
    "    - For instance, `insp.resample('2W', on='date')` separates every two weeks of data into a different group."
   ]
  },
  {
   "cell_type": "code",
   "execution_count": 73,
   "id": "05aa4cce",
   "metadata": {},
   "outputs": [
    {
     "data": {
      "text/html": [
       "<div>\n",
       "<style scoped>\n",
       "    .dataframe tbody tr th:only-of-type {\n",
       "        vertical-align: middle;\n",
       "    }\n",
       "\n",
       "    .dataframe tbody tr th {\n",
       "        vertical-align: top;\n",
       "    }\n",
       "\n",
       "    .dataframe thead th {\n",
       "        text-align: right;\n",
       "    }\n",
       "</style>\n",
       "<table border=\"1\" class=\"dataframe\">\n",
       "  <thead>\n",
       "    <tr style=\"text-align: right;\">\n",
       "      <th></th>\n",
       "      <th>business_id</th>\n",
       "      <th>inspection_id</th>\n",
       "      <th>score</th>\n",
       "    </tr>\n",
       "    <tr>\n",
       "      <th>date</th>\n",
       "      <th></th>\n",
       "      <th></th>\n",
       "      <th></th>\n",
       "    </tr>\n",
       "  </thead>\n",
       "  <tbody>\n",
       "    <tr>\n",
       "      <th>2020-01-05</th>\n",
       "      <td>2.12e+11</td>\n",
       "      <td>6.35e+06</td>\n",
       "      <td>42.67</td>\n",
       "    </tr>\n",
       "    <tr>\n",
       "      <th>2020-01-19</th>\n",
       "      <td>2.12e+11</td>\n",
       "      <td>6.30e+06</td>\n",
       "      <td>59.33</td>\n",
       "    </tr>\n",
       "    <tr>\n",
       "      <th>2020-02-02</th>\n",
       "      <td>2.12e+11</td>\n",
       "      <td>6.32e+06</td>\n",
       "      <td>56.34</td>\n",
       "    </tr>\n",
       "    <tr>\n",
       "      <th>...</th>\n",
       "      <td>...</td>\n",
       "      <td>...</td>\n",
       "      <td>...</td>\n",
       "    </tr>\n",
       "    <tr>\n",
       "      <th>2023-09-24</th>\n",
       "      <td>2.12e+11</td>\n",
       "      <td>7.15e+06</td>\n",
       "      <td>66.60</td>\n",
       "    </tr>\n",
       "    <tr>\n",
       "      <th>2023-10-08</th>\n",
       "      <td>2.12e+11</td>\n",
       "      <td>7.19e+06</td>\n",
       "      <td>59.58</td>\n",
       "    </tr>\n",
       "    <tr>\n",
       "      <th>2023-10-22</th>\n",
       "      <td>2.12e+11</td>\n",
       "      <td>7.20e+06</td>\n",
       "      <td>66.81</td>\n",
       "    </tr>\n",
       "  </tbody>\n",
       "</table>\n",
       "<p>100 rows × 3 columns</p>\n",
       "</div>"
      ],
      "text/plain": [
       "            business_id  inspection_id  score\n",
       "date                                         \n",
       "2020-01-05     2.12e+11       6.35e+06  42.67\n",
       "2020-01-19     2.12e+11       6.30e+06  59.33\n",
       "2020-02-02     2.12e+11       6.32e+06  56.34\n",
       "...                 ...            ...    ...\n",
       "2023-09-24     2.12e+11       7.15e+06  66.60\n",
       "2023-10-08     2.12e+11       7.19e+06  59.58\n",
       "2023-10-22     2.12e+11       7.20e+06  66.81\n",
       "\n",
       "[100 rows x 3 columns]"
      ]
     },
     "execution_count": 73,
     "metadata": {},
     "output_type": "execute_result"
    }
   ],
   "source": [
    "insp.resample('2W', on='date').mean()"
   ]
  },
  {
   "cell_type": "code",
   "execution_count": 78,
   "id": "6b6a90d0",
   "metadata": {},
   "outputs": [
    {
     "data": {
      "text/plain": [
       "97.51986951364175"
      ]
     },
     "execution_count": 78,
     "metadata": {},
     "output_type": "execute_result"
    }
   ],
   "source": [
    "insp[insp['score'] >= 90]['score'].mean()"
   ]
  },
  {
   "cell_type": "code",
   "execution_count": 79,
   "id": "1823b117",
   "metadata": {},
   "outputs": [
    {
     "data": {
      "text/plain": [
       "59.325581395348834"
      ]
     },
     "execution_count": 79,
     "metadata": {},
     "output_type": "execute_result"
    }
   ],
   "source": [
    "# Where are those numbers coming from?\n",
    "insp[(insp['date'] >= pd.Timestamp('2020-01-05')) &\n",
    "     (insp['date'] < pd.Timestamp('2020-01-19'))]['score'].mean()"
   ]
  },
  {
   "cell_type": "code",
   "execution_count": 80,
   "id": "02d55148",
   "metadata": {},
   "outputs": [
    {
     "data": {
      "text/html": [
       "<div>                            <div id=\"ba4ee6b8-5ec3-494d-b0c2-c6a839c317d8\" class=\"plotly-graph-div\" style=\"height:400px; width:600px;\"></div>            <script type=\"text/javascript\">                require([\"plotly\"], function(Plotly) {                    window.PLOTLYENV=window.PLOTLYENV || {};                                    if (document.getElementById(\"ba4ee6b8-5ec3-494d-b0c2-c6a839c317d8\")) {                    Plotly.newPlot(                        \"ba4ee6b8-5ec3-494d-b0c2-c6a839c317d8\",                        [{\"hovertemplate\":\"variable=score\\u003cbr\\u003edate=%{x}\\u003cbr\\u003evalue=%{y}\\u003cextra\\u003e\\u003c\\u002fextra\\u003e\",\"legendgroup\":\"score\",\"line\":{\"color\":\"#1F77B4\",\"dash\":\"solid\"},\"marker\":{\"symbol\":\"circle\"},\"mode\":\"lines\",\"name\":\"score\",\"orientation\":\"v\",\"showlegend\":true,\"x\":[\"2020-01-05T00:00:00\",\"2020-01-19T00:00:00\",\"2020-02-02T00:00:00\",\"2020-02-16T00:00:00\",\"2020-03-01T00:00:00\",\"2020-03-15T00:00:00\",\"2020-03-29T00:00:00\",\"2020-04-12T00:00:00\",\"2020-04-26T00:00:00\",\"2020-05-10T00:00:00\",\"2020-05-24T00:00:00\",\"2020-06-07T00:00:00\",\"2020-06-21T00:00:00\",\"2020-07-05T00:00:00\",\"2020-07-19T00:00:00\",\"2020-08-02T00:00:00\",\"2020-08-16T00:00:00\",\"2020-08-30T00:00:00\",\"2020-09-13T00:00:00\",\"2020-09-27T00:00:00\",\"2020-10-11T00:00:00\",\"2020-10-25T00:00:00\",\"2020-11-08T00:00:00\",\"2020-11-22T00:00:00\",\"2020-12-06T00:00:00\",\"2020-12-20T00:00:00\",\"2021-01-03T00:00:00\",\"2021-01-17T00:00:00\",\"2021-01-31T00:00:00\",\"2021-02-14T00:00:00\",\"2021-02-28T00:00:00\",\"2021-03-14T00:00:00\",\"2021-03-28T00:00:00\",\"2021-04-11T00:00:00\",\"2021-04-25T00:00:00\",\"2021-05-09T00:00:00\",\"2021-05-23T00:00:00\",\"2021-06-06T00:00:00\",\"2021-06-20T00:00:00\",\"2021-07-04T00:00:00\",\"2021-07-18T00:00:00\",\"2021-08-01T00:00:00\",\"2021-08-15T00:00:00\",\"2021-08-29T00:00:00\",\"2021-09-12T00:00:00\",\"2021-09-26T00:00:00\",\"2021-10-10T00:00:00\",\"2021-10-24T00:00:00\",\"2021-11-07T00:00:00\",\"2021-11-21T00:00:00\",\"2021-12-05T00:00:00\",\"2021-12-19T00:00:00\",\"2022-01-02T00:00:00\",\"2022-01-16T00:00:00\",\"2022-01-30T00:00:00\",\"2022-02-13T00:00:00\",\"2022-02-27T00:00:00\",\"2022-03-13T00:00:00\",\"2022-03-27T00:00:00\",\"2022-04-10T00:00:00\",\"2022-04-24T00:00:00\",\"2022-05-08T00:00:00\",\"2022-05-22T00:00:00\",\"2022-06-05T00:00:00\",\"2022-06-19T00:00:00\",\"2022-07-03T00:00:00\",\"2022-07-17T00:00:00\",\"2022-07-31T00:00:00\",\"2022-08-14T00:00:00\",\"2022-08-28T00:00:00\",\"2022-09-11T00:00:00\",\"2022-09-25T00:00:00\",\"2022-10-09T00:00:00\",\"2022-10-23T00:00:00\",\"2022-11-06T00:00:00\",\"2022-11-20T00:00:00\",\"2022-12-04T00:00:00\",\"2022-12-18T00:00:00\",\"2023-01-01T00:00:00\",\"2023-01-15T00:00:00\",\"2023-01-29T00:00:00\",\"2023-02-12T00:00:00\",\"2023-02-26T00:00:00\",\"2023-03-12T00:00:00\",\"2023-03-26T00:00:00\",\"2023-04-09T00:00:00\",\"2023-04-23T00:00:00\",\"2023-05-07T00:00:00\",\"2023-05-21T00:00:00\",\"2023-06-04T00:00:00\",\"2023-06-18T00:00:00\",\"2023-07-02T00:00:00\",\"2023-07-16T00:00:00\",\"2023-07-30T00:00:00\",\"2023-08-13T00:00:00\",\"2023-08-27T00:00:00\",\"2023-09-10T00:00:00\",\"2023-09-24T00:00:00\",\"2023-10-08T00:00:00\",\"2023-10-22T00:00:00\"],\"xaxis\":\"x\",\"y\":[42.666666666666664,59.325581395348834,56.34090909090909,71.5,76.97222222222223,69.875,24.0,0.0,0.0,0.0,9.090909090909092,0.0,11.810344827586206,10.473684210526315,1.9038461538461537,1.5555555555555556,1.8867924528301887,2.380952380952381,10.0,49.55263157894737,68.82608695652173,61.054545454545455,56.73684210526316,67.07317073170732,75.0909090909091,69.67692307692307,74.92424242424242,82.16071428571429,79.56756756756756,77.39473684210526,75.9090909090909,72.05263157894737,94.73913043478261,64.1,80.51851851851852,79.79166666666667,65.37037037037037,83.6470588235294,63.3,73.0,74.05084745762711,67.09302325581395,60.729166666666664,74.08163265306122,84.6923076923077,71.2051282051282,72.4375,73.03846153846153,77.54385964912281,68.77777777777777,65.34482758620689,75.03389830508475,73.16279069767442,60.785714285714285,75.0,86.18867924528301,79.6938775510204,72.69642857142857,76.33333333333333,79.30357142857143,86.48514851485149,78.78070175438596,67.3970588235294,64.23809523809524,52.26923076923077,65.75,80.10975609756098,61.46969696969697,67.921875,66.05714285714286,69.90697674418605,76.77358490566037,71.36986301369863,64.79166666666667,64.23376623376623,68.18518518518519,69.42105263157895,73.25,81.35135135135135,71.81981981981981,51.31182795698925,63.5625,63.455882352941174,70.33766233766234,68.37878787878788,76.09433962264151,67.16666666666667,76.86111111111111,72.62637362637362,63.354838709677416,49.72289156626506,57.45238095238095,65.42857142857143,73.6875,68.175,68.89655172413794,75.68571428571428,66.6,59.582089552238806,66.8076923076923],\"yaxis\":\"y\",\"type\":\"scatter\"}],                        {\"template\":{\"data\":{\"barpolar\":[{\"marker\":{\"line\":{\"color\":\"white\",\"width\":0.5},\"pattern\":{\"fillmode\":\"overlay\",\"size\":10,\"solidity\":0.2}},\"type\":\"barpolar\"}],\"bar\":[{\"error_x\":{\"color\":\"rgb(36,36,36)\"},\"error_y\":{\"color\":\"rgb(36,36,36)\"},\"marker\":{\"line\":{\"color\":\"white\",\"width\":0.5},\"pattern\":{\"fillmode\":\"overlay\",\"size\":10,\"solidity\":0.2}},\"type\":\"bar\"}],\"carpet\":[{\"aaxis\":{\"endlinecolor\":\"rgb(36,36,36)\",\"gridcolor\":\"white\",\"linecolor\":\"white\",\"minorgridcolor\":\"white\",\"startlinecolor\":\"rgb(36,36,36)\"},\"baxis\":{\"endlinecolor\":\"rgb(36,36,36)\",\"gridcolor\":\"white\",\"linecolor\":\"white\",\"minorgridcolor\":\"white\",\"startlinecolor\":\"rgb(36,36,36)\"},\"type\":\"carpet\"}],\"choropleth\":[{\"colorbar\":{\"outlinewidth\":1,\"tickcolor\":\"rgb(36,36,36)\",\"ticks\":\"outside\"},\"type\":\"choropleth\"}],\"contourcarpet\":[{\"colorbar\":{\"outlinewidth\":1,\"tickcolor\":\"rgb(36,36,36)\",\"ticks\":\"outside\"},\"type\":\"contourcarpet\"}],\"contour\":[{\"colorbar\":{\"outlinewidth\":1,\"tickcolor\":\"rgb(36,36,36)\",\"ticks\":\"outside\"},\"colorscale\":[[0.0,\"#440154\"],[0.1111111111111111,\"#482878\"],[0.2222222222222222,\"#3e4989\"],[0.3333333333333333,\"#31688e\"],[0.4444444444444444,\"#26828e\"],[0.5555555555555556,\"#1f9e89\"],[0.6666666666666666,\"#35b779\"],[0.7777777777777778,\"#6ece58\"],[0.8888888888888888,\"#b5de2b\"],[1.0,\"#fde725\"]],\"type\":\"contour\"}],\"heatmapgl\":[{\"colorbar\":{\"outlinewidth\":1,\"tickcolor\":\"rgb(36,36,36)\",\"ticks\":\"outside\"},\"colorscale\":[[0.0,\"#440154\"],[0.1111111111111111,\"#482878\"],[0.2222222222222222,\"#3e4989\"],[0.3333333333333333,\"#31688e\"],[0.4444444444444444,\"#26828e\"],[0.5555555555555556,\"#1f9e89\"],[0.6666666666666666,\"#35b779\"],[0.7777777777777778,\"#6ece58\"],[0.8888888888888888,\"#b5de2b\"],[1.0,\"#fde725\"]],\"type\":\"heatmapgl\"}],\"heatmap\":[{\"colorbar\":{\"outlinewidth\":1,\"tickcolor\":\"rgb(36,36,36)\",\"ticks\":\"outside\"},\"colorscale\":[[0.0,\"#440154\"],[0.1111111111111111,\"#482878\"],[0.2222222222222222,\"#3e4989\"],[0.3333333333333333,\"#31688e\"],[0.4444444444444444,\"#26828e\"],[0.5555555555555556,\"#1f9e89\"],[0.6666666666666666,\"#35b779\"],[0.7777777777777778,\"#6ece58\"],[0.8888888888888888,\"#b5de2b\"],[1.0,\"#fde725\"]],\"type\":\"heatmap\"}],\"histogram2dcontour\":[{\"colorbar\":{\"outlinewidth\":1,\"tickcolor\":\"rgb(36,36,36)\",\"ticks\":\"outside\"},\"colorscale\":[[0.0,\"#440154\"],[0.1111111111111111,\"#482878\"],[0.2222222222222222,\"#3e4989\"],[0.3333333333333333,\"#31688e\"],[0.4444444444444444,\"#26828e\"],[0.5555555555555556,\"#1f9e89\"],[0.6666666666666666,\"#35b779\"],[0.7777777777777778,\"#6ece58\"],[0.8888888888888888,\"#b5de2b\"],[1.0,\"#fde725\"]],\"type\":\"histogram2dcontour\"}],\"histogram2d\":[{\"colorbar\":{\"outlinewidth\":1,\"tickcolor\":\"rgb(36,36,36)\",\"ticks\":\"outside\"},\"colorscale\":[[0.0,\"#440154\"],[0.1111111111111111,\"#482878\"],[0.2222222222222222,\"#3e4989\"],[0.3333333333333333,\"#31688e\"],[0.4444444444444444,\"#26828e\"],[0.5555555555555556,\"#1f9e89\"],[0.6666666666666666,\"#35b779\"],[0.7777777777777778,\"#6ece58\"],[0.8888888888888888,\"#b5de2b\"],[1.0,\"#fde725\"]],\"type\":\"histogram2d\"}],\"histogram\":[{\"marker\":{\"line\":{\"color\":\"white\",\"width\":0.6}},\"type\":\"histogram\"}],\"mesh3d\":[{\"colorbar\":{\"outlinewidth\":1,\"tickcolor\":\"rgb(36,36,36)\",\"ticks\":\"outside\"},\"type\":\"mesh3d\"}],\"parcoords\":[{\"line\":{\"colorbar\":{\"outlinewidth\":1,\"tickcolor\":\"rgb(36,36,36)\",\"ticks\":\"outside\"}},\"type\":\"parcoords\"}],\"pie\":[{\"automargin\":true,\"type\":\"pie\"}],\"scatter3d\":[{\"line\":{\"colorbar\":{\"outlinewidth\":1,\"tickcolor\":\"rgb(36,36,36)\",\"ticks\":\"outside\"}},\"marker\":{\"colorbar\":{\"outlinewidth\":1,\"tickcolor\":\"rgb(36,36,36)\",\"ticks\":\"outside\"}},\"type\":\"scatter3d\"}],\"scattercarpet\":[{\"marker\":{\"colorbar\":{\"outlinewidth\":1,\"tickcolor\":\"rgb(36,36,36)\",\"ticks\":\"outside\"}},\"type\":\"scattercarpet\"}],\"scattergeo\":[{\"marker\":{\"colorbar\":{\"outlinewidth\":1,\"tickcolor\":\"rgb(36,36,36)\",\"ticks\":\"outside\"}},\"type\":\"scattergeo\"}],\"scattergl\":[{\"marker\":{\"colorbar\":{\"outlinewidth\":1,\"tickcolor\":\"rgb(36,36,36)\",\"ticks\":\"outside\"}},\"type\":\"scattergl\"}],\"scattermapbox\":[{\"marker\":{\"colorbar\":{\"outlinewidth\":1,\"tickcolor\":\"rgb(36,36,36)\",\"ticks\":\"outside\"}},\"type\":\"scattermapbox\"}],\"scatterpolargl\":[{\"marker\":{\"colorbar\":{\"outlinewidth\":1,\"tickcolor\":\"rgb(36,36,36)\",\"ticks\":\"outside\"}},\"type\":\"scatterpolargl\"}],\"scatterpolar\":[{\"marker\":{\"colorbar\":{\"outlinewidth\":1,\"tickcolor\":\"rgb(36,36,36)\",\"ticks\":\"outside\"}},\"type\":\"scatterpolar\"}],\"scatter\":[{\"fillpattern\":{\"fillmode\":\"overlay\",\"size\":10,\"solidity\":0.2},\"type\":\"scatter\"}],\"scatterternary\":[{\"marker\":{\"colorbar\":{\"outlinewidth\":1,\"tickcolor\":\"rgb(36,36,36)\",\"ticks\":\"outside\"}},\"type\":\"scatterternary\"}],\"surface\":[{\"colorbar\":{\"outlinewidth\":1,\"tickcolor\":\"rgb(36,36,36)\",\"ticks\":\"outside\"},\"colorscale\":[[0.0,\"#440154\"],[0.1111111111111111,\"#482878\"],[0.2222222222222222,\"#3e4989\"],[0.3333333333333333,\"#31688e\"],[0.4444444444444444,\"#26828e\"],[0.5555555555555556,\"#1f9e89\"],[0.6666666666666666,\"#35b779\"],[0.7777777777777778,\"#6ece58\"],[0.8888888888888888,\"#b5de2b\"],[1.0,\"#fde725\"]],\"type\":\"surface\"}],\"table\":[{\"cells\":{\"fill\":{\"color\":\"rgb(237,237,237)\"},\"line\":{\"color\":\"white\"}},\"header\":{\"fill\":{\"color\":\"rgb(217,217,217)\"},\"line\":{\"color\":\"white\"}},\"type\":\"table\"}]},\"layout\":{\"annotationdefaults\":{\"arrowhead\":0,\"arrowwidth\":1},\"autotypenumbers\":\"strict\",\"coloraxis\":{\"colorbar\":{\"outlinewidth\":1,\"tickcolor\":\"rgb(36,36,36)\",\"ticks\":\"outside\"}},\"colorscale\":{\"diverging\":[[0.0,\"rgb(103,0,31)\"],[0.1,\"rgb(178,24,43)\"],[0.2,\"rgb(214,96,77)\"],[0.3,\"rgb(244,165,130)\"],[0.4,\"rgb(253,219,199)\"],[0.5,\"rgb(247,247,247)\"],[0.6,\"rgb(209,229,240)\"],[0.7,\"rgb(146,197,222)\"],[0.8,\"rgb(67,147,195)\"],[0.9,\"rgb(33,102,172)\"],[1.0,\"rgb(5,48,97)\"]],\"sequential\":[[0.0,\"#440154\"],[0.1111111111111111,\"#482878\"],[0.2222222222222222,\"#3e4989\"],[0.3333333333333333,\"#31688e\"],[0.4444444444444444,\"#26828e\"],[0.5555555555555556,\"#1f9e89\"],[0.6666666666666666,\"#35b779\"],[0.7777777777777778,\"#6ece58\"],[0.8888888888888888,\"#b5de2b\"],[1.0,\"#fde725\"]],\"sequentialminus\":[[0.0,\"#440154\"],[0.1111111111111111,\"#482878\"],[0.2222222222222222,\"#3e4989\"],[0.3333333333333333,\"#31688e\"],[0.4444444444444444,\"#26828e\"],[0.5555555555555556,\"#1f9e89\"],[0.6666666666666666,\"#35b779\"],[0.7777777777777778,\"#6ece58\"],[0.8888888888888888,\"#b5de2b\"],[1.0,\"#fde725\"]]},\"colorway\":[\"#1F77B4\",\"#FF7F0E\",\"#2CA02C\",\"#D62728\",\"#9467BD\",\"#8C564B\",\"#E377C2\",\"#7F7F7F\",\"#BCBD22\",\"#17BECF\"],\"font\":{\"color\":\"rgb(36,36,36)\"},\"geo\":{\"bgcolor\":\"white\",\"lakecolor\":\"white\",\"landcolor\":\"white\",\"showlakes\":true,\"showland\":true,\"subunitcolor\":\"white\"},\"hoverlabel\":{\"align\":\"left\"},\"hovermode\":\"closest\",\"mapbox\":{\"style\":\"light\"},\"paper_bgcolor\":\"white\",\"plot_bgcolor\":\"white\",\"polar\":{\"angularaxis\":{\"gridcolor\":\"rgb(232,232,232)\",\"linecolor\":\"rgb(36,36,36)\",\"showgrid\":false,\"showline\":true,\"ticks\":\"outside\"},\"bgcolor\":\"white\",\"radialaxis\":{\"gridcolor\":\"rgb(232,232,232)\",\"linecolor\":\"rgb(36,36,36)\",\"showgrid\":false,\"showline\":true,\"ticks\":\"outside\"}},\"scene\":{\"xaxis\":{\"backgroundcolor\":\"white\",\"gridcolor\":\"rgb(232,232,232)\",\"gridwidth\":2,\"linecolor\":\"rgb(36,36,36)\",\"showbackground\":true,\"showgrid\":false,\"showline\":true,\"ticks\":\"outside\",\"zeroline\":false,\"zerolinecolor\":\"rgb(36,36,36)\"},\"yaxis\":{\"backgroundcolor\":\"white\",\"gridcolor\":\"rgb(232,232,232)\",\"gridwidth\":2,\"linecolor\":\"rgb(36,36,36)\",\"showbackground\":true,\"showgrid\":false,\"showline\":true,\"ticks\":\"outside\",\"zeroline\":false,\"zerolinecolor\":\"rgb(36,36,36)\"},\"zaxis\":{\"backgroundcolor\":\"white\",\"gridcolor\":\"rgb(232,232,232)\",\"gridwidth\":2,\"linecolor\":\"rgb(36,36,36)\",\"showbackground\":true,\"showgrid\":false,\"showline\":true,\"ticks\":\"outside\",\"zeroline\":false,\"zerolinecolor\":\"rgb(36,36,36)\"}},\"shapedefaults\":{\"fillcolor\":\"black\",\"line\":{\"width\":0},\"opacity\":0.3},\"ternary\":{\"aaxis\":{\"gridcolor\":\"rgb(232,232,232)\",\"linecolor\":\"rgb(36,36,36)\",\"showgrid\":false,\"showline\":true,\"ticks\":\"outside\"},\"baxis\":{\"gridcolor\":\"rgb(232,232,232)\",\"linecolor\":\"rgb(36,36,36)\",\"showgrid\":false,\"showline\":true,\"ticks\":\"outside\"},\"bgcolor\":\"white\",\"caxis\":{\"gridcolor\":\"rgb(232,232,232)\",\"linecolor\":\"rgb(36,36,36)\",\"showgrid\":false,\"showline\":true,\"ticks\":\"outside\"}},\"title\":{\"x\":0.5,\"xanchor\":\"center\"},\"xaxis\":{\"automargin\":true,\"gridcolor\":\"rgb(232,232,232)\",\"linecolor\":\"rgb(36,36,36)\",\"showgrid\":true,\"showline\":true,\"ticks\":\"outside\",\"title\":{\"standoff\":15},\"zeroline\":false,\"zerolinecolor\":\"rgb(36,36,36)\"},\"yaxis\":{\"automargin\":true,\"gridcolor\":\"rgb(232,232,232)\",\"linecolor\":\"rgb(36,36,36)\",\"showgrid\":true,\"showline\":true,\"ticks\":\"outside\",\"title\":{\"standoff\":15},\"zeroline\":false,\"zerolinecolor\":\"rgb(36,36,36)\"},\"autosize\":true,\"height\":400,\"margin\":{\"b\":30,\"l\":30,\"r\":30,\"t\":30},\"width\":600}},\"xaxis\":{\"anchor\":\"y\",\"domain\":[0.0,1.0],\"title\":{\"text\":\"date\"}},\"yaxis\":{\"anchor\":\"x\",\"domain\":[0.0,1.0],\"title\":{\"text\":\"value\"}},\"legend\":{\"title\":{\"text\":\"variable\"},\"tracegroupgap\":0},\"title\":{\"text\":\"Average Violation Over Time\"}},                        {\"responsive\": true}                    ).then(function(){\n",
       "                            \n",
       "var gd = document.getElementById('ba4ee6b8-5ec3-494d-b0c2-c6a839c317d8');\n",
       "var x = new MutationObserver(function (mutations, observer) {{\n",
       "        var display = window.getComputedStyle(gd).display;\n",
       "        if (!display || display === 'none') {{\n",
       "            console.log([gd, 'removed!']);\n",
       "            Plotly.purge(gd);\n",
       "            observer.disconnect();\n",
       "        }}\n",
       "}});\n",
       "\n",
       "// Listen for the removal of the full notebook cells\n",
       "var notebookContainer = gd.closest('#notebook-container');\n",
       "if (notebookContainer) {{\n",
       "    x.observe(notebookContainer, {childList: true});\n",
       "}}\n",
       "\n",
       "// Listen for the clearing of the current output cell\n",
       "var outputEl = gd.closest('.output');\n",
       "if (outputEl) {{\n",
       "    x.observe(outputEl, {childList: true});\n",
       "}}\n",
       "\n",
       "                        })                };                });            </script>        </div>"
      ]
     },
     "metadata": {},
     "output_type": "display_data"
    }
   ],
   "source": [
    "insp.resample('2W', on='date')['score'].mean().plot(title='Average Violation Over Time')"
   ]
  },
  {
   "cell_type": "markdown",
   "id": "622796b4",
   "metadata": {
    "slideshow": {
     "slide_type": "slide"
    }
   },
   "source": [
    "### The `.dt` accessor\n",
    "\n",
    "Like with Series of strings, `pandas` has a `.dt` accessor for properties of timestamps ([documentation](https://pandas.pydata.org/docs/user_guide/basics.html#basics-dt-accessors))."
   ]
  },
  {
   "cell_type": "code",
   "execution_count": 81,
   "id": "6d3cf8cb",
   "metadata": {},
   "outputs": [
    {
     "data": {
      "text/plain": [
       "0      2023-02-16\n",
       "1      2022-01-03\n",
       "2      2020-12-03\n",
       "          ...    \n",
       "5176   2023-03-06\n",
       "5177   2022-12-09\n",
       "5178   2022-11-30\n",
       "Name: date, Length: 5179, dtype: datetime64[ns]"
      ]
     },
     "execution_count": 81,
     "metadata": {},
     "output_type": "execute_result"
    }
   ],
   "source": [
    "insp['date']"
   ]
  },
  {
   "cell_type": "code",
   "execution_count": 82,
   "id": "14818dc0",
   "metadata": {
    "slideshow": {
     "slide_type": ""
    }
   },
   "outputs": [
    {
     "data": {
      "text/plain": [
       "0       16\n",
       "1        3\n",
       "2        3\n",
       "        ..\n",
       "5176     6\n",
       "5177     9\n",
       "5178    30\n",
       "Name: date, Length: 5179, dtype: int64"
      ]
     },
     "execution_count": 82,
     "metadata": {},
     "output_type": "execute_result"
    }
   ],
   "source": [
    "insp['date'].dt.day"
   ]
  },
  {
   "cell_type": "code",
   "execution_count": 85,
   "id": "71848903",
   "metadata": {
    "slideshow": {
     "slide_type": ""
    }
   },
   "outputs": [
    {
     "data": {
      "text/plain": [
       "1    1277\n",
       "2    1185\n",
       "3    1018\n",
       "4     892\n",
       "0     793\n",
       "5      12\n",
       "6       2\n",
       "Name: date, dtype: int64"
      ]
     },
     "execution_count": 85,
     "metadata": {},
     "output_type": "execute_result"
    }
   ],
   "source": [
    "insp['date'].dt.dayofweek.value_counts()"
   ]
  },
  {
   "cell_type": "code",
   "execution_count": 88,
   "id": "48bb7364",
   "metadata": {},
   "outputs": [
    {
     "data": {
      "text/plain": [
       "array([0, 1, 2, 3, 4, 5, 6])"
      ]
     },
     "execution_count": 88,
     "metadata": {},
     "output_type": "execute_result"
    }
   ],
   "source": [
    "np.arange(7)"
   ]
  },
  {
   "cell_type": "code",
   "execution_count": 89,
   "id": "6b6ae178",
   "metadata": {
    "slideshow": {
     "slide_type": ""
    }
   },
   "outputs": [
    {
     "data": {
      "text/html": [
       "<div>                            <div id=\"50992b5d-1993-42a7-984f-5212f1715133\" class=\"plotly-graph-div\" style=\"height:400px; width:600px;\"></div>            <script type=\"text/javascript\">                require([\"plotly\"], function(Plotly) {                    window.PLOTLYENV=window.PLOTLYENV || {};                                    if (document.getElementById(\"50992b5d-1993-42a7-984f-5212f1715133\")) {                    Plotly.newPlot(                        \"50992b5d-1993-42a7-984f-5212f1715133\",                        [{\"alignmentgroup\":\"True\",\"hovertemplate\":\"variable=date\\u003cbr\\u003eindex=%{x}\\u003cbr\\u003evalue=%{y}\\u003cextra\\u003e\\u003c\\u002fextra\\u003e\",\"legendgroup\":\"date\",\"marker\":{\"color\":\"#1F77B4\",\"pattern\":{\"shape\":\"\"}},\"name\":\"date\",\"offsetgroup\":\"date\",\"orientation\":\"v\",\"showlegend\":true,\"textposition\":\"auto\",\"x\":[1,2,3,4,0,5,6],\"xaxis\":\"x\",\"y\":[1277,1185,1018,892,793,12,2],\"yaxis\":\"y\",\"type\":\"bar\"}],                        {\"template\":{\"data\":{\"barpolar\":[{\"marker\":{\"line\":{\"color\":\"white\",\"width\":0.5},\"pattern\":{\"fillmode\":\"overlay\",\"size\":10,\"solidity\":0.2}},\"type\":\"barpolar\"}],\"bar\":[{\"error_x\":{\"color\":\"rgb(36,36,36)\"},\"error_y\":{\"color\":\"rgb(36,36,36)\"},\"marker\":{\"line\":{\"color\":\"white\",\"width\":0.5},\"pattern\":{\"fillmode\":\"overlay\",\"size\":10,\"solidity\":0.2}},\"type\":\"bar\"}],\"carpet\":[{\"aaxis\":{\"endlinecolor\":\"rgb(36,36,36)\",\"gridcolor\":\"white\",\"linecolor\":\"white\",\"minorgridcolor\":\"white\",\"startlinecolor\":\"rgb(36,36,36)\"},\"baxis\":{\"endlinecolor\":\"rgb(36,36,36)\",\"gridcolor\":\"white\",\"linecolor\":\"white\",\"minorgridcolor\":\"white\",\"startlinecolor\":\"rgb(36,36,36)\"},\"type\":\"carpet\"}],\"choropleth\":[{\"colorbar\":{\"outlinewidth\":1,\"tickcolor\":\"rgb(36,36,36)\",\"ticks\":\"outside\"},\"type\":\"choropleth\"}],\"contourcarpet\":[{\"colorbar\":{\"outlinewidth\":1,\"tickcolor\":\"rgb(36,36,36)\",\"ticks\":\"outside\"},\"type\":\"contourcarpet\"}],\"contour\":[{\"colorbar\":{\"outlinewidth\":1,\"tickcolor\":\"rgb(36,36,36)\",\"ticks\":\"outside\"},\"colorscale\":[[0.0,\"#440154\"],[0.1111111111111111,\"#482878\"],[0.2222222222222222,\"#3e4989\"],[0.3333333333333333,\"#31688e\"],[0.4444444444444444,\"#26828e\"],[0.5555555555555556,\"#1f9e89\"],[0.6666666666666666,\"#35b779\"],[0.7777777777777778,\"#6ece58\"],[0.8888888888888888,\"#b5de2b\"],[1.0,\"#fde725\"]],\"type\":\"contour\"}],\"heatmapgl\":[{\"colorbar\":{\"outlinewidth\":1,\"tickcolor\":\"rgb(36,36,36)\",\"ticks\":\"outside\"},\"colorscale\":[[0.0,\"#440154\"],[0.1111111111111111,\"#482878\"],[0.2222222222222222,\"#3e4989\"],[0.3333333333333333,\"#31688e\"],[0.4444444444444444,\"#26828e\"],[0.5555555555555556,\"#1f9e89\"],[0.6666666666666666,\"#35b779\"],[0.7777777777777778,\"#6ece58\"],[0.8888888888888888,\"#b5de2b\"],[1.0,\"#fde725\"]],\"type\":\"heatmapgl\"}],\"heatmap\":[{\"colorbar\":{\"outlinewidth\":1,\"tickcolor\":\"rgb(36,36,36)\",\"ticks\":\"outside\"},\"colorscale\":[[0.0,\"#440154\"],[0.1111111111111111,\"#482878\"],[0.2222222222222222,\"#3e4989\"],[0.3333333333333333,\"#31688e\"],[0.4444444444444444,\"#26828e\"],[0.5555555555555556,\"#1f9e89\"],[0.6666666666666666,\"#35b779\"],[0.7777777777777778,\"#6ece58\"],[0.8888888888888888,\"#b5de2b\"],[1.0,\"#fde725\"]],\"type\":\"heatmap\"}],\"histogram2dcontour\":[{\"colorbar\":{\"outlinewidth\":1,\"tickcolor\":\"rgb(36,36,36)\",\"ticks\":\"outside\"},\"colorscale\":[[0.0,\"#440154\"],[0.1111111111111111,\"#482878\"],[0.2222222222222222,\"#3e4989\"],[0.3333333333333333,\"#31688e\"],[0.4444444444444444,\"#26828e\"],[0.5555555555555556,\"#1f9e89\"],[0.6666666666666666,\"#35b779\"],[0.7777777777777778,\"#6ece58\"],[0.8888888888888888,\"#b5de2b\"],[1.0,\"#fde725\"]],\"type\":\"histogram2dcontour\"}],\"histogram2d\":[{\"colorbar\":{\"outlinewidth\":1,\"tickcolor\":\"rgb(36,36,36)\",\"ticks\":\"outside\"},\"colorscale\":[[0.0,\"#440154\"],[0.1111111111111111,\"#482878\"],[0.2222222222222222,\"#3e4989\"],[0.3333333333333333,\"#31688e\"],[0.4444444444444444,\"#26828e\"],[0.5555555555555556,\"#1f9e89\"],[0.6666666666666666,\"#35b779\"],[0.7777777777777778,\"#6ece58\"],[0.8888888888888888,\"#b5de2b\"],[1.0,\"#fde725\"]],\"type\":\"histogram2d\"}],\"histogram\":[{\"marker\":{\"line\":{\"color\":\"white\",\"width\":0.6}},\"type\":\"histogram\"}],\"mesh3d\":[{\"colorbar\":{\"outlinewidth\":1,\"tickcolor\":\"rgb(36,36,36)\",\"ticks\":\"outside\"},\"type\":\"mesh3d\"}],\"parcoords\":[{\"line\":{\"colorbar\":{\"outlinewidth\":1,\"tickcolor\":\"rgb(36,36,36)\",\"ticks\":\"outside\"}},\"type\":\"parcoords\"}],\"pie\":[{\"automargin\":true,\"type\":\"pie\"}],\"scatter3d\":[{\"line\":{\"colorbar\":{\"outlinewidth\":1,\"tickcolor\":\"rgb(36,36,36)\",\"ticks\":\"outside\"}},\"marker\":{\"colorbar\":{\"outlinewidth\":1,\"tickcolor\":\"rgb(36,36,36)\",\"ticks\":\"outside\"}},\"type\":\"scatter3d\"}],\"scattercarpet\":[{\"marker\":{\"colorbar\":{\"outlinewidth\":1,\"tickcolor\":\"rgb(36,36,36)\",\"ticks\":\"outside\"}},\"type\":\"scattercarpet\"}],\"scattergeo\":[{\"marker\":{\"colorbar\":{\"outlinewidth\":1,\"tickcolor\":\"rgb(36,36,36)\",\"ticks\":\"outside\"}},\"type\":\"scattergeo\"}],\"scattergl\":[{\"marker\":{\"colorbar\":{\"outlinewidth\":1,\"tickcolor\":\"rgb(36,36,36)\",\"ticks\":\"outside\"}},\"type\":\"scattergl\"}],\"scattermapbox\":[{\"marker\":{\"colorbar\":{\"outlinewidth\":1,\"tickcolor\":\"rgb(36,36,36)\",\"ticks\":\"outside\"}},\"type\":\"scattermapbox\"}],\"scatterpolargl\":[{\"marker\":{\"colorbar\":{\"outlinewidth\":1,\"tickcolor\":\"rgb(36,36,36)\",\"ticks\":\"outside\"}},\"type\":\"scatterpolargl\"}],\"scatterpolar\":[{\"marker\":{\"colorbar\":{\"outlinewidth\":1,\"tickcolor\":\"rgb(36,36,36)\",\"ticks\":\"outside\"}},\"type\":\"scatterpolar\"}],\"scatter\":[{\"fillpattern\":{\"fillmode\":\"overlay\",\"size\":10,\"solidity\":0.2},\"type\":\"scatter\"}],\"scatterternary\":[{\"marker\":{\"colorbar\":{\"outlinewidth\":1,\"tickcolor\":\"rgb(36,36,36)\",\"ticks\":\"outside\"}},\"type\":\"scatterternary\"}],\"surface\":[{\"colorbar\":{\"outlinewidth\":1,\"tickcolor\":\"rgb(36,36,36)\",\"ticks\":\"outside\"},\"colorscale\":[[0.0,\"#440154\"],[0.1111111111111111,\"#482878\"],[0.2222222222222222,\"#3e4989\"],[0.3333333333333333,\"#31688e\"],[0.4444444444444444,\"#26828e\"],[0.5555555555555556,\"#1f9e89\"],[0.6666666666666666,\"#35b779\"],[0.7777777777777778,\"#6ece58\"],[0.8888888888888888,\"#b5de2b\"],[1.0,\"#fde725\"]],\"type\":\"surface\"}],\"table\":[{\"cells\":{\"fill\":{\"color\":\"rgb(237,237,237)\"},\"line\":{\"color\":\"white\"}},\"header\":{\"fill\":{\"color\":\"rgb(217,217,217)\"},\"line\":{\"color\":\"white\"}},\"type\":\"table\"}]},\"layout\":{\"annotationdefaults\":{\"arrowhead\":0,\"arrowwidth\":1},\"autotypenumbers\":\"strict\",\"coloraxis\":{\"colorbar\":{\"outlinewidth\":1,\"tickcolor\":\"rgb(36,36,36)\",\"ticks\":\"outside\"}},\"colorscale\":{\"diverging\":[[0.0,\"rgb(103,0,31)\"],[0.1,\"rgb(178,24,43)\"],[0.2,\"rgb(214,96,77)\"],[0.3,\"rgb(244,165,130)\"],[0.4,\"rgb(253,219,199)\"],[0.5,\"rgb(247,247,247)\"],[0.6,\"rgb(209,229,240)\"],[0.7,\"rgb(146,197,222)\"],[0.8,\"rgb(67,147,195)\"],[0.9,\"rgb(33,102,172)\"],[1.0,\"rgb(5,48,97)\"]],\"sequential\":[[0.0,\"#440154\"],[0.1111111111111111,\"#482878\"],[0.2222222222222222,\"#3e4989\"],[0.3333333333333333,\"#31688e\"],[0.4444444444444444,\"#26828e\"],[0.5555555555555556,\"#1f9e89\"],[0.6666666666666666,\"#35b779\"],[0.7777777777777778,\"#6ece58\"],[0.8888888888888888,\"#b5de2b\"],[1.0,\"#fde725\"]],\"sequentialminus\":[[0.0,\"#440154\"],[0.1111111111111111,\"#482878\"],[0.2222222222222222,\"#3e4989\"],[0.3333333333333333,\"#31688e\"],[0.4444444444444444,\"#26828e\"],[0.5555555555555556,\"#1f9e89\"],[0.6666666666666666,\"#35b779\"],[0.7777777777777778,\"#6ece58\"],[0.8888888888888888,\"#b5de2b\"],[1.0,\"#fde725\"]]},\"colorway\":[\"#1F77B4\",\"#FF7F0E\",\"#2CA02C\",\"#D62728\",\"#9467BD\",\"#8C564B\",\"#E377C2\",\"#7F7F7F\",\"#BCBD22\",\"#17BECF\"],\"font\":{\"color\":\"rgb(36,36,36)\"},\"geo\":{\"bgcolor\":\"white\",\"lakecolor\":\"white\",\"landcolor\":\"white\",\"showlakes\":true,\"showland\":true,\"subunitcolor\":\"white\"},\"hoverlabel\":{\"align\":\"left\"},\"hovermode\":\"closest\",\"mapbox\":{\"style\":\"light\"},\"paper_bgcolor\":\"white\",\"plot_bgcolor\":\"white\",\"polar\":{\"angularaxis\":{\"gridcolor\":\"rgb(232,232,232)\",\"linecolor\":\"rgb(36,36,36)\",\"showgrid\":false,\"showline\":true,\"ticks\":\"outside\"},\"bgcolor\":\"white\",\"radialaxis\":{\"gridcolor\":\"rgb(232,232,232)\",\"linecolor\":\"rgb(36,36,36)\",\"showgrid\":false,\"showline\":true,\"ticks\":\"outside\"}},\"scene\":{\"xaxis\":{\"backgroundcolor\":\"white\",\"gridcolor\":\"rgb(232,232,232)\",\"gridwidth\":2,\"linecolor\":\"rgb(36,36,36)\",\"showbackground\":true,\"showgrid\":false,\"showline\":true,\"ticks\":\"outside\",\"zeroline\":false,\"zerolinecolor\":\"rgb(36,36,36)\"},\"yaxis\":{\"backgroundcolor\":\"white\",\"gridcolor\":\"rgb(232,232,232)\",\"gridwidth\":2,\"linecolor\":\"rgb(36,36,36)\",\"showbackground\":true,\"showgrid\":false,\"showline\":true,\"ticks\":\"outside\",\"zeroline\":false,\"zerolinecolor\":\"rgb(36,36,36)\"},\"zaxis\":{\"backgroundcolor\":\"white\",\"gridcolor\":\"rgb(232,232,232)\",\"gridwidth\":2,\"linecolor\":\"rgb(36,36,36)\",\"showbackground\":true,\"showgrid\":false,\"showline\":true,\"ticks\":\"outside\",\"zeroline\":false,\"zerolinecolor\":\"rgb(36,36,36)\"}},\"shapedefaults\":{\"fillcolor\":\"black\",\"line\":{\"width\":0},\"opacity\":0.3},\"ternary\":{\"aaxis\":{\"gridcolor\":\"rgb(232,232,232)\",\"linecolor\":\"rgb(36,36,36)\",\"showgrid\":false,\"showline\":true,\"ticks\":\"outside\"},\"baxis\":{\"gridcolor\":\"rgb(232,232,232)\",\"linecolor\":\"rgb(36,36,36)\",\"showgrid\":false,\"showline\":true,\"ticks\":\"outside\"},\"bgcolor\":\"white\",\"caxis\":{\"gridcolor\":\"rgb(232,232,232)\",\"linecolor\":\"rgb(36,36,36)\",\"showgrid\":false,\"showline\":true,\"ticks\":\"outside\"}},\"title\":{\"x\":0.5,\"xanchor\":\"center\"},\"xaxis\":{\"automargin\":true,\"gridcolor\":\"rgb(232,232,232)\",\"linecolor\":\"rgb(36,36,36)\",\"showgrid\":true,\"showline\":true,\"ticks\":\"outside\",\"title\":{\"standoff\":15},\"zeroline\":false,\"zerolinecolor\":\"rgb(36,36,36)\"},\"yaxis\":{\"automargin\":true,\"gridcolor\":\"rgb(232,232,232)\",\"linecolor\":\"rgb(36,36,36)\",\"showgrid\":true,\"showline\":true,\"ticks\":\"outside\",\"title\":{\"standoff\":15},\"zeroline\":false,\"zerolinecolor\":\"rgb(36,36,36)\"},\"autosize\":true,\"height\":400,\"margin\":{\"b\":30,\"l\":30,\"r\":30,\"t\":30},\"width\":600}},\"xaxis\":{\"anchor\":\"y\",\"domain\":[0.0,1.0],\"title\":{\"text\":\"index\"},\"tickvals\":[0,1,2,3,4,5,6],\"ticktext\":[\"Mon\",\"Tues\",\"Wed\",\"Thurs\",\"Fri\",\"Sat\",\"Sun\"]},\"yaxis\":{\"anchor\":\"x\",\"domain\":[0.0,1.0],\"title\":{\"text\":\"value\"}},\"legend\":{\"title\":{\"text\":\"variable\"},\"tracegroupgap\":0},\"barmode\":\"relative\"},                        {\"responsive\": true}                    ).then(function(){\n",
       "                            \n",
       "var gd = document.getElementById('50992b5d-1993-42a7-984f-5212f1715133');\n",
       "var x = new MutationObserver(function (mutations, observer) {{\n",
       "        var display = window.getComputedStyle(gd).display;\n",
       "        if (!display || display === 'none') {{\n",
       "            console.log([gd, 'removed!']);\n",
       "            Plotly.purge(gd);\n",
       "            observer.disconnect();\n",
       "        }}\n",
       "}});\n",
       "\n",
       "// Listen for the removal of the full notebook cells\n",
       "var notebookContainer = gd.closest('#notebook-container');\n",
       "if (notebookContainer) {{\n",
       "    x.observe(notebookContainer, {childList: true});\n",
       "}}\n",
       "\n",
       "// Listen for the clearing of the current output cell\n",
       "var outputEl = gd.closest('.output');\n",
       "if (outputEl) {{\n",
       "    x.observe(outputEl, {childList: true});\n",
       "}}\n",
       "\n",
       "                        })                };                });            </script>        </div>"
      ]
     },
     "metadata": {},
     "output_type": "display_data"
    }
   ],
   "source": [
    "fig = px.bar(\n",
    "    insp['date'].dt.dayofweek.value_counts()\n",
    ")\n",
    "fig.update_xaxes(tickvals=np.arange(7), ticktext=['Mon', 'Tues', 'Wed', 'Thurs', 'Fri', 'Sat', 'Sun'])\n"
   ]
  },
  {
   "cell_type": "markdown",
   "id": "9206c9b5",
   "metadata": {
    "slideshow": {
     "slide_type": "slide"
    }
   },
   "source": [
    "## Data cleaning: Modifying structure"
   ]
  },
  {
   "cell_type": "markdown",
   "id": "df7ddb97",
   "metadata": {
    "slideshow": {
     "slide_type": "slide"
    }
   },
   "source": [
    "### Reshaping DataFrames\n",
    "\n",
    "We often **reshape** the DataFrame's structure to make it more convenient for analysis. For example, we can:"
   ]
  },
  {
   "cell_type": "markdown",
   "id": "044dd171",
   "metadata": {
    "slideshow": {
     "slide_type": "fragment"
    }
   },
   "source": [
    "- Simplify structure by removing columns or taking a set of rows for a particular period of time or geographic area.\n",
    "    - We already did this!"
   ]
  },
  {
   "cell_type": "markdown",
   "id": "e8267529",
   "metadata": {
    "slideshow": {
     "slide_type": "fragment"
    }
   },
   "source": [
    "- Adjust granularity by aggregating rows together.\n",
    "    - To do this, use `groupby` (or `resample`, if working with timestamps)."
   ]
  },
  {
   "cell_type": "markdown",
   "id": "3fcea8a6",
   "metadata": {
    "slideshow": {
     "slide_type": "fragment"
    }
   },
   "source": [
    "- Reshape structure, most commonly by using the DataFrame `melt` method to un-pivot a dataframe."
   ]
  },
  {
   "cell_type": "markdown",
   "id": "4a6e99cf",
   "metadata": {
    "slideshow": {
     "slide_type": "slide"
    }
   },
   "source": [
    "### Using `melt`\n",
    "\n",
    "- The `melt` method is common enough that we'll give it a special mention.\n",
    "- We'll often encounter pivot tables (esp. from government data), which we call *wide* data.\n",
    "- The methods we've introduced work better with *long-form* data, or *tidy* data.\n",
    "- To go from wide to long, `melt`.\n",
    "\n",
    "<center><img src='imgs/wide-vs-long.svg' width=40%></center>"
   ]
  },
  {
   "cell_type": "markdown",
   "id": "02e43c42",
   "metadata": {
    "slideshow": {
     "slide_type": "slide"
    }
   },
   "source": [
    "### Example usage of `melt`"
   ]
  },
  {
   "cell_type": "code",
   "execution_count": 90,
   "id": "54edf07d",
   "metadata": {},
   "outputs": [
    {
     "data": {
      "text/html": [
       "<div>\n",
       "<style scoped>\n",
       "    .dataframe tbody tr th:only-of-type {\n",
       "        vertical-align: middle;\n",
       "    }\n",
       "\n",
       "    .dataframe tbody tr th {\n",
       "        vertical-align: top;\n",
       "    }\n",
       "\n",
       "    .dataframe thead th {\n",
       "        text-align: right;\n",
       "    }\n",
       "</style>\n",
       "<table border=\"1\" class=\"dataframe\">\n",
       "  <thead>\n",
       "    <tr style=\"text-align: right;\">\n",
       "      <th></th>\n",
       "      <th>Jan</th>\n",
       "      <th>Feb</th>\n",
       "      <th>Mar</th>\n",
       "    </tr>\n",
       "    <tr>\n",
       "      <th>Year</th>\n",
       "      <th></th>\n",
       "      <th></th>\n",
       "      <th></th>\n",
       "    </tr>\n",
       "  </thead>\n",
       "  <tbody>\n",
       "    <tr>\n",
       "      <th>2001</th>\n",
       "      <td>10</td>\n",
       "      <td>20</td>\n",
       "      <td>30</td>\n",
       "    </tr>\n",
       "    <tr>\n",
       "      <th>2002</th>\n",
       "      <td>130</td>\n",
       "      <td>200</td>\n",
       "      <td>340</td>\n",
       "    </tr>\n",
       "  </tbody>\n",
       "</table>\n",
       "</div>"
      ],
      "text/plain": [
       "      Jan  Feb  Mar\n",
       "Year               \n",
       "2001   10   20   30\n",
       "2002  130  200  340"
      ]
     },
     "execution_count": 90,
     "metadata": {},
     "output_type": "execute_result"
    }
   ],
   "source": [
    "wide_example = pd.DataFrame({\n",
    "    'Year': [2001, 2002],\n",
    "    'Jan': [10, 130],\n",
    "    'Feb': [20, 200],\n",
    "    'Mar': [30, 340]\n",
    "}).set_index('Year')\n",
    "wide_example"
   ]
  },
  {
   "cell_type": "code",
   "execution_count": 91,
   "id": "2cc75510",
   "metadata": {},
   "outputs": [
    {
     "data": {
      "text/html": [
       "<div>\n",
       "<style scoped>\n",
       "    .dataframe tbody tr th:only-of-type {\n",
       "        vertical-align: middle;\n",
       "    }\n",
       "\n",
       "    .dataframe tbody tr th {\n",
       "        vertical-align: top;\n",
       "    }\n",
       "\n",
       "    .dataframe thead th {\n",
       "        text-align: right;\n",
       "    }\n",
       "</style>\n",
       "<table border=\"1\" class=\"dataframe\">\n",
       "  <thead>\n",
       "    <tr style=\"text-align: right;\">\n",
       "      <th></th>\n",
       "      <th>variable</th>\n",
       "      <th>value</th>\n",
       "    </tr>\n",
       "    <tr>\n",
       "      <th>Year</th>\n",
       "      <th></th>\n",
       "      <th></th>\n",
       "    </tr>\n",
       "  </thead>\n",
       "  <tbody>\n",
       "    <tr>\n",
       "      <th>2001</th>\n",
       "      <td>Jan</td>\n",
       "      <td>10</td>\n",
       "    </tr>\n",
       "    <tr>\n",
       "      <th>2002</th>\n",
       "      <td>Jan</td>\n",
       "      <td>130</td>\n",
       "    </tr>\n",
       "    <tr>\n",
       "      <th>2001</th>\n",
       "      <td>Feb</td>\n",
       "      <td>20</td>\n",
       "    </tr>\n",
       "    <tr>\n",
       "      <th>2002</th>\n",
       "      <td>Feb</td>\n",
       "      <td>200</td>\n",
       "    </tr>\n",
       "    <tr>\n",
       "      <th>2001</th>\n",
       "      <td>Mar</td>\n",
       "      <td>30</td>\n",
       "    </tr>\n",
       "    <tr>\n",
       "      <th>2002</th>\n",
       "      <td>Mar</td>\n",
       "      <td>340</td>\n",
       "    </tr>\n",
       "  </tbody>\n",
       "</table>\n",
       "</div>"
      ],
      "text/plain": [
       "     variable  value\n",
       "Year                \n",
       "2001      Jan     10\n",
       "2002      Jan    130\n",
       "2001      Feb     20\n",
       "2002      Feb    200\n",
       "2001      Mar     30\n",
       "2002      Mar    340"
      ]
     },
     "execution_count": 91,
     "metadata": {},
     "output_type": "execute_result"
    }
   ],
   "source": [
    "wide_example.melt(ignore_index=False)"
   ]
  },
  {
   "cell_type": "markdown",
   "id": "0b77837e",
   "metadata": {
    "slideshow": {
     "slide_type": "slide"
    }
   },
   "source": [
    "## Exploration"
   ]
  },
  {
   "cell_type": "markdown",
   "id": "67478028",
   "metadata": {
    "slideshow": {
     "slide_type": "slide"
    }
   },
   "source": [
    "<div class=\"alert alert-warning\">\n",
    "    <h3>Question 🤔 (Answer at <a href=\"https://q.dsc80.com\">q.dsc80.com)</h3>\n",
    "</div>\n",
    "    \n",
    "What questions do you want me to try and answer with the data? I'll start with a single pre-prepared question, and then answer student questions until we run out of time."
   ]
  },
  {
   "cell_type": "markdown",
   "id": "76b53b97",
   "metadata": {
    "slideshow": {
     "slide_type": "slide"
    }
   },
   "source": [
    "### Example question: Can we rank restaurants by their number of violations? How about separately for each zip code?\n",
    "\n",
    "And why would we want to do that? 🤔"
   ]
  },
  {
   "cell_type": "code",
   "execution_count": 93,
   "id": "d5cfd68c",
   "metadata": {},
   "outputs": [],
   "source": [
    "rank_by_violations = lambda df: (\n",
    "    df\n",
    "    .groupby('name')\n",
    "    ['zip']\n",
    "    .agg(['first', 'size'])\n",
    "    .sort_values('size', ascending=False)\n",
    "    .reset_index()\n",
    "    .pipe(lambda frame: frame.assign(rank=frame.index + 1).rename(columns={'first': 'zip'}))\n",
    ")"
   ]
  },
  {
   "cell_type": "code",
   "execution_count": 94,
   "id": "3c89de3c",
   "metadata": {},
   "outputs": [
    {
     "data": {
      "text/html": [
       "<div>\n",
       "<style scoped>\n",
       "    .dataframe tbody tr th:only-of-type {\n",
       "        vertical-align: middle;\n",
       "    }\n",
       "\n",
       "    .dataframe tbody tr th {\n",
       "        vertical-align: top;\n",
       "    }\n",
       "\n",
       "    .dataframe thead th {\n",
       "        text-align: right;\n",
       "    }\n",
       "</style>\n",
       "<table border=\"1\" class=\"dataframe\">\n",
       "  <thead>\n",
       "    <tr style=\"text-align: right;\">\n",
       "      <th></th>\n",
       "      <th>name</th>\n",
       "      <th>zip</th>\n",
       "      <th>size</th>\n",
       "      <th>rank</th>\n",
       "    </tr>\n",
       "  </thead>\n",
       "  <tbody>\n",
       "    <tr>\n",
       "      <th>0</th>\n",
       "      <td>WHOLE FOODS MARKET</td>\n",
       "      <td>92037-1949</td>\n",
       "      <td>62</td>\n",
       "      <td>1</td>\n",
       "    </tr>\n",
       "    <tr>\n",
       "      <th>1</th>\n",
       "      <td>RIGOBERTOS TACO SHOP</td>\n",
       "      <td>92037</td>\n",
       "      <td>61</td>\n",
       "      <td>2</td>\n",
       "    </tr>\n",
       "    <tr>\n",
       "      <th>2</th>\n",
       "      <td>OKAN DINER</td>\n",
       "      <td>92117</td>\n",
       "      <td>52</td>\n",
       "      <td>3</td>\n",
       "    </tr>\n",
       "    <tr>\n",
       "      <th>...</th>\n",
       "      <td>...</td>\n",
       "      <td>...</td>\n",
       "      <td>...</td>\n",
       "      <td>...</td>\n",
       "    </tr>\n",
       "    <tr>\n",
       "      <th>944</th>\n",
       "      <td>JUST LIKE MOM MAKES</td>\n",
       "      <td>92130-2283</td>\n",
       "      <td>1</td>\n",
       "      <td>945</td>\n",
       "    </tr>\n",
       "    <tr>\n",
       "      <th>945</th>\n",
       "      <td>KEVIES KITCHEN</td>\n",
       "      <td>92117-1120</td>\n",
       "      <td>1</td>\n",
       "      <td>946</td>\n",
       "    </tr>\n",
       "    <tr>\n",
       "      <th>946</th>\n",
       "      <td>PETRA KITCHEN</td>\n",
       "      <td>92117-4949</td>\n",
       "      <td>1</td>\n",
       "      <td>947</td>\n",
       "    </tr>\n",
       "  </tbody>\n",
       "</table>\n",
       "<p>947 rows × 4 columns</p>\n",
       "</div>"
      ],
      "text/plain": [
       "                     name         zip  size  rank\n",
       "0      WHOLE FOODS MARKET  92037-1949    62     1\n",
       "1    RIGOBERTOS TACO SHOP       92037    61     2\n",
       "2              OKAN DINER       92117    52     3\n",
       "..                    ...         ...   ...   ...\n",
       "944   JUST LIKE MOM MAKES  92130-2283     1   945\n",
       "945        KEVIES KITCHEN  92117-1120     1   946\n",
       "946         PETRA KITCHEN  92117-4949     1   947\n",
       "\n",
       "[947 rows x 4 columns]"
      ]
     },
     "execution_count": 94,
     "metadata": {},
     "output_type": "execute_result"
    }
   ],
   "source": [
    "df.pipe(rank_by_violations)"
   ]
  },
  {
   "cell_type": "code",
   "execution_count": 95,
   "id": "324a6af7",
   "metadata": {},
   "outputs": [
    {
     "data": {
      "text/html": [
       "<div>\n",
       "<style scoped>\n",
       "    .dataframe tbody tr th:only-of-type {\n",
       "        vertical-align: middle;\n",
       "    }\n",
       "\n",
       "    .dataframe tbody tr th {\n",
       "        vertical-align: top;\n",
       "    }\n",
       "\n",
       "    .dataframe thead th {\n",
       "        text-align: right;\n",
       "    }\n",
       "</style>\n",
       "<table border=\"1\" class=\"dataframe\">\n",
       "  <thead>\n",
       "    <tr style=\"text-align: right;\">\n",
       "      <th>zip</th>\n",
       "      <th>92014</th>\n",
       "      <th>92014-3101</th>\n",
       "      <th>92014-3110</th>\n",
       "      <th>92014-3149</th>\n",
       "      <th>...</th>\n",
       "      <th>92130-6657</th>\n",
       "      <th>92130-6974</th>\n",
       "      <th>92130-8605</th>\n",
       "      <th>92590</th>\n",
       "    </tr>\n",
       "    <tr>\n",
       "      <th>rank</th>\n",
       "      <th></th>\n",
       "      <th></th>\n",
       "      <th></th>\n",
       "      <th></th>\n",
       "      <th></th>\n",
       "      <th></th>\n",
       "      <th></th>\n",
       "      <th></th>\n",
       "      <th></th>\n",
       "    </tr>\n",
       "  </thead>\n",
       "  <tbody>\n",
       "    <tr>\n",
       "      <th>1</th>\n",
       "      <td>LE BAMBOU RESTAURANT</td>\n",
       "      <td>7-ELEVEN #13628C-2111</td>\n",
       "      <td>BUSHFIRE KITCHEN</td>\n",
       "      <td>JERSEY MIKES SUBS</td>\n",
       "      <td>...</td>\n",
       "      <td>COPA VIDA CAFE</td>\n",
       "      <td>OCEAN AIR ELEMENTARY</td>\n",
       "      <td>CRISCITO PIZZA</td>\n",
       "      <td>DEVILICIOUS FOOD TRUCK</td>\n",
       "    </tr>\n",
       "    <tr>\n",
       "      <th>2</th>\n",
       "      <td>SAFFRONO LOUNGE RESTAURANT</td>\n",
       "      <td>NaN</td>\n",
       "      <td>STARBUCKS</td>\n",
       "      <td>CRUMBL COOKIE</td>\n",
       "      <td>...</td>\n",
       "      <td>NaN</td>\n",
       "      <td>NaN</td>\n",
       "      <td>NaN</td>\n",
       "      <td>NaN</td>\n",
       "    </tr>\n",
       "    <tr>\n",
       "      <th>3</th>\n",
       "      <td>JACK IN THE BOX #0081</td>\n",
       "      <td>NaN</td>\n",
       "      <td>NaN</td>\n",
       "      <td>NaN</td>\n",
       "      <td>...</td>\n",
       "      <td>NaN</td>\n",
       "      <td>NaN</td>\n",
       "      <td>NaN</td>\n",
       "      <td>NaN</td>\n",
       "    </tr>\n",
       "    <tr>\n",
       "      <th>...</th>\n",
       "      <td>...</td>\n",
       "      <td>...</td>\n",
       "      <td>...</td>\n",
       "      <td>...</td>\n",
       "      <td>...</td>\n",
       "      <td>...</td>\n",
       "      <td>...</td>\n",
       "      <td>...</td>\n",
       "      <td>...</td>\n",
       "    </tr>\n",
       "    <tr>\n",
       "      <th>155</th>\n",
       "      <td>NaN</td>\n",
       "      <td>NaN</td>\n",
       "      <td>NaN</td>\n",
       "      <td>NaN</td>\n",
       "      <td>...</td>\n",
       "      <td>NaN</td>\n",
       "      <td>NaN</td>\n",
       "      <td>NaN</td>\n",
       "      <td>NaN</td>\n",
       "    </tr>\n",
       "    <tr>\n",
       "      <th>156</th>\n",
       "      <td>NaN</td>\n",
       "      <td>NaN</td>\n",
       "      <td>NaN</td>\n",
       "      <td>NaN</td>\n",
       "      <td>...</td>\n",
       "      <td>NaN</td>\n",
       "      <td>NaN</td>\n",
       "      <td>NaN</td>\n",
       "      <td>NaN</td>\n",
       "    </tr>\n",
       "    <tr>\n",
       "      <th>157</th>\n",
       "      <td>NaN</td>\n",
       "      <td>NaN</td>\n",
       "      <td>NaN</td>\n",
       "      <td>NaN</td>\n",
       "      <td>...</td>\n",
       "      <td>NaN</td>\n",
       "      <td>NaN</td>\n",
       "      <td>NaN</td>\n",
       "      <td>NaN</td>\n",
       "    </tr>\n",
       "  </tbody>\n",
       "</table>\n",
       "<p>157 rows × 322 columns</p>\n",
       "</div>"
      ],
      "text/plain": [
       "zip                        92014             92014-3101        92014-3110  \\\n",
       "rank                                                                        \n",
       "1           LE BAMBOU RESTAURANT  7-ELEVEN #13628C-2111  BUSHFIRE KITCHEN   \n",
       "2     SAFFRONO LOUNGE RESTAURANT                    NaN         STARBUCKS   \n",
       "3          JACK IN THE BOX #0081                    NaN               NaN   \n",
       "...                          ...                    ...               ...   \n",
       "155                          NaN                    NaN               NaN   \n",
       "156                          NaN                    NaN               NaN   \n",
       "157                          NaN                    NaN               NaN   \n",
       "\n",
       "zip          92014-3149  ...      92130-6657            92130-6974  \\\n",
       "rank                     ...                                         \n",
       "1     JERSEY MIKES SUBS  ...  COPA VIDA CAFE  OCEAN AIR ELEMENTARY   \n",
       "2         CRUMBL COOKIE  ...             NaN                   NaN   \n",
       "3                   NaN  ...             NaN                   NaN   \n",
       "...                 ...  ...             ...                   ...   \n",
       "155                 NaN  ...             NaN                   NaN   \n",
       "156                 NaN  ...             NaN                   NaN   \n",
       "157                 NaN  ...             NaN                   NaN   \n",
       "\n",
       "zip       92130-8605                   92590  \n",
       "rank                                          \n",
       "1     CRISCITO PIZZA  DEVILICIOUS FOOD TRUCK  \n",
       "2                NaN                     NaN  \n",
       "3                NaN                     NaN  \n",
       "...              ...                     ...  \n",
       "155              NaN                     NaN  \n",
       "156              NaN                     NaN  \n",
       "157              NaN                     NaN  \n",
       "\n",
       "[157 rows x 322 columns]"
      ]
     },
     "execution_count": 95,
     "metadata": {},
     "output_type": "execute_result"
    }
   ],
   "source": [
    "(\n",
    "    df\n",
    "    .groupby('zip')\n",
    "    .apply(rank_by_violations)\n",
    "    .reset_index(drop=True)\n",
    "    .pivot(index='rank', columns='zip', values='name')\n",
    ")"
   ]
  },
  {
   "cell_type": "code",
   "execution_count": 96,
   "id": "5e163f4e",
   "metadata": {},
   "outputs": [
    {
     "data": {
      "text/plain": [
       "name\n",
       "JERSEY MIKES SUBS    13\n",
       "CRUMBL COOKIE         4\n",
       "dtype: int64"
      ]
     },
     "execution_count": 96,
     "metadata": {},
     "output_type": "execute_result"
    }
   ],
   "source": [
    "df.query('zip == \"92014-3149\"').value_counts('name')"
   ]
  },
  {
   "cell_type": "markdown",
   "id": "7b164bd4",
   "metadata": {},
   "source": [
    "### Example question: Which restaurants have vermin violations?"
   ]
  },
  {
   "cell_type": "code",
   "execution_count": 97,
   "id": "85dd6008",
   "metadata": {},
   "outputs": [
    {
     "data": {
      "text/plain": [
       "name\n",
       "ISOLA LA JOLLA                 4\n",
       "L AND F CAFE                   3\n",
       "MONGOLIAN HOT POT              3\n",
       "GIRARD GOURMET                 3\n",
       "HOLY GAO CHINESE RESTAURANT    3\n",
       "JOSES COURT ROOM               3\n",
       "dtype: int64"
      ]
     },
     "execution_count": 97,
     "metadata": {},
     "output_type": "execute_result"
    }
   ],
   "source": [
    "(\n",
    "    df[df['violation'].str.lower().str.contains('vermin', na=False)]\n",
    "    .value_counts('name')\n",
    "    .head(6)\n",
    ")"
   ]
  },
  {
   "cell_type": "markdown",
   "id": "247a19c5",
   "metadata": {},
   "source": [
    "### Example question: What are some of the most uncommon violations?"
   ]
  },
  {
   "cell_type": "code",
   "execution_count": 98,
   "id": "0d2ac54f",
   "metadata": {},
   "outputs": [
    {
     "data": {
      "text/html": [
       "<div>\n",
       "<style scoped>\n",
       "    .dataframe tbody tr th:only-of-type {\n",
       "        vertical-align: middle;\n",
       "    }\n",
       "\n",
       "    .dataframe tbody tr th {\n",
       "        vertical-align: top;\n",
       "    }\n",
       "\n",
       "    .dataframe thead th {\n",
       "        text-align: right;\n",
       "    }\n",
       "</style>\n",
       "<table border=\"1\" class=\"dataframe\">\n",
       "  <thead>\n",
       "    <tr style=\"text-align: right;\">\n",
       "      <th></th>\n",
       "      <th>business_id</th>\n",
       "      <th>name</th>\n",
       "      <th>address</th>\n",
       "      <th>zip</th>\n",
       "      <th>...</th>\n",
       "      <th>status</th>\n",
       "      <th>kind</th>\n",
       "      <th>is_major</th>\n",
       "      <th>violation</th>\n",
       "    </tr>\n",
       "  </thead>\n",
       "  <tbody>\n",
       "    <tr>\n",
       "      <th>441</th>\n",
       "      <td>211996758893</td>\n",
       "      <td>SHAKA JAVA</td>\n",
       "      <td>3655 NOBEL DR, SAN DIEGO, CA 92122</td>\n",
       "      <td>92122</td>\n",
       "      <td>...</td>\n",
       "      <td>Complete</td>\n",
       "      <td>Commissary/MSU Operation</td>\n",
       "      <td>N</td>\n",
       "      <td>Commissary/MSU Operation</td>\n",
       "    </tr>\n",
       "    <tr>\n",
       "      <th>2311</th>\n",
       "      <td>211973776043</td>\n",
       "      <td>BARBARELLA RESTAURANT</td>\n",
       "      <td>2171 AVENIDA DE LA PLAYA, LA JOLLA, CA 92037</td>\n",
       "      <td>92037</td>\n",
       "      <td>...</td>\n",
       "      <td>Complete</td>\n",
       "      <td>Gulf Oysters</td>\n",
       "      <td>Y</td>\n",
       "      <td>17. Compliance with Gulf Oyster Regulations</td>\n",
       "    </tr>\n",
       "    <tr>\n",
       "      <th>5096</th>\n",
       "      <td>211898213216</td>\n",
       "      <td>BISHOP SCHOOL</td>\n",
       "      <td>7607 LA JOLLA BLVD, LA JOLLA, CA 92037</td>\n",
       "      <td>92037</td>\n",
       "      <td>...</td>\n",
       "      <td>Complete</td>\n",
       "      <td>Highly Susceptible Populations</td>\n",
       "      <td>Y</td>\n",
       "      <td>20. Licensed health care facilities / public &amp;...</td>\n",
       "    </tr>\n",
       "    <tr>\n",
       "      <th>6386</th>\n",
       "      <td>211918747238</td>\n",
       "      <td>L &amp; E MUSCLE MEALS</td>\n",
       "      <td>4577 CLAIREMONT DR, SAN DIEGO, CA 92117</td>\n",
       "      <td>92117</td>\n",
       "      <td>...</td>\n",
       "      <td>Complete</td>\n",
       "      <td>No discharge from eyes, nose, or mouth</td>\n",
       "      <td>Y</td>\n",
       "      <td>3. No discharge from eyes, nose or mouth</td>\n",
       "    </tr>\n",
       "    <tr>\n",
       "      <th>7848</th>\n",
       "      <td>211986408394</td>\n",
       "      <td>LAZY EYE COFFEE</td>\n",
       "      <td>4011 AVATI DR, SAN DIEGO, CA 92117-4403</td>\n",
       "      <td>92117-4403</td>\n",
       "      <td>...</td>\n",
       "      <td>Complete</td>\n",
       "      <td>Food Labeling</td>\n",
       "      <td>N</td>\n",
       "      <td>29. Food properly labeled and honestly presented</td>\n",
       "    </tr>\n",
       "  </tbody>\n",
       "</table>\n",
       "<p>5 rows × 13 columns</p>\n",
       "</div>"
      ],
      "text/plain": [
       "       business_id                   name  \\\n",
       "441   211996758893             SHAKA JAVA   \n",
       "2311  211973776043  BARBARELLA RESTAURANT   \n",
       "5096  211898213216          BISHOP SCHOOL   \n",
       "6386  211918747238     L & E MUSCLE MEALS   \n",
       "7848  211986408394        LAZY EYE COFFEE   \n",
       "\n",
       "                                           address         zip  ...    status  \\\n",
       "441             3655 NOBEL DR, SAN DIEGO, CA 92122       92122  ...  Complete   \n",
       "2311  2171 AVENIDA DE LA PLAYA, LA JOLLA, CA 92037       92037  ...  Complete   \n",
       "5096        7607 LA JOLLA BLVD, LA JOLLA, CA 92037       92037  ...  Complete   \n",
       "6386       4577 CLAIREMONT DR, SAN DIEGO, CA 92117       92117  ...  Complete   \n",
       "7848       4011 AVATI DR, SAN DIEGO, CA 92117-4403  92117-4403  ...  Complete   \n",
       "\n",
       "                                        kind  is_major  \\\n",
       "441                 Commissary/MSU Operation         N   \n",
       "2311                            Gulf Oysters         Y   \n",
       "5096          Highly Susceptible Populations         Y   \n",
       "6386  No discharge from eyes, nose, or mouth         Y   \n",
       "7848                           Food Labeling         N   \n",
       "\n",
       "                                              violation  \n",
       "441                            Commissary/MSU Operation  \n",
       "2311        17. Compliance with Gulf Oyster Regulations  \n",
       "5096  20. Licensed health care facilities / public &...  \n",
       "6386           3. No discharge from eyes, nose or mouth  \n",
       "7848   29. Food properly labeled and honestly presented  \n",
       "\n",
       "[5 rows x 13 columns]"
      ]
     },
     "execution_count": 98,
     "metadata": {},
     "output_type": "execute_result"
    }
   ],
   "source": [
    "df.groupby('kind').filter(lambda df: df.shape[0] == 1)"
   ]
  },
  {
   "cell_type": "markdown",
   "id": "95f3ae8a",
   "metadata": {},
   "source": [
    "### What's the worst subway?"
   ]
  },
  {
   "cell_type": "code",
   "execution_count": 99,
   "id": "2d69ddef",
   "metadata": {},
   "outputs": [
    {
     "data": {
      "text/plain": [
       "address\n",
       "3860 VALLEY CENTRE DR, SUITE# 403, SAN DIEGO, CA 92130       18\n",
       "6715 MIRA MESA BLVD, SUITE# 102, SAN DIEGO, CA 92121-4379    13\n",
       "4653 CARMEL MTN RD, SUITE# 310, SAN DIEGO, CA 92130           9\n",
       "2206 TORREY PINES RD, SUITE# C, LA JOLLA, CA 92037-3472       7\n",
       "4973 CLAIREMONT DR, SUITE# A, SAN DIEGO, CA 92117             3\n",
       "5517 CLAIREMONT MESA BLVD, SAN DIEGO, CA 92117                1\n",
       "dtype: int64"
      ]
     },
     "execution_count": 99,
     "metadata": {},
     "output_type": "execute_result"
    }
   ],
   "source": [
    "df[df['name'].str.lower().str.contains('subway')].value_counts('address')"
   ]
  },
  {
   "cell_type": "markdown",
   "id": "170d5d0c",
   "metadata": {
    "slideshow": {
     "slide_type": "slide"
    }
   },
   "source": [
    "## Summary, next time"
   ]
  },
  {
   "cell_type": "markdown",
   "id": "02dd620d",
   "metadata": {
    "slideshow": {
     "slide_type": "slide"
    }
   },
   "source": [
    "### Summary\n",
    "\n",
    "- Data cleaning is a necessary starting step in data analysis. There are four pillars of data cleaning:\n",
    "    - Quality checks.\n",
    "    - Missing values.\n",
    "    - Transformations and timestamps.\n",
    "    - Modifying structure.\n",
    "- Approach EDA with an open mind, and draw lots of visualizations."
   ]
  },
  {
   "cell_type": "markdown",
   "id": "d8419fc7",
   "metadata": {
    "slideshow": {
     "slide_type": "slide"
    }
   },
   "source": [
    "### Next time\n",
    "\n",
    "Hypothesis and permutation testing. Some of this will be DSC 10 review, but we'll also push further! **Expect a pre-lecture reading tomorrow!**"
   ]
  }
 ],
 "metadata": {
  "kernelspec": {
   "display_name": "Python 3 (ipykernel)",
   "language": "python",
   "name": "python3"
  },
  "language_info": {
   "codemirror_mode": {
    "name": "ipython",
    "version": 3
   },
   "file_extension": ".py",
   "mimetype": "text/x-python",
   "name": "python",
   "nbconvert_exporter": "python",
   "pygments_lexer": "ipython3",
   "version": "3.8.18"
  },
  "livereveal": {
   "scroll": true
  },
  "rise": {
   "transition": "none"
  }
 },
 "nbformat": 4,
 "nbformat_minor": 5
}
